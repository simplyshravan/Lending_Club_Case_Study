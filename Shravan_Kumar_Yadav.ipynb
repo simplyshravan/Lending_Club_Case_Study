{
 "cells": [
  {
   "cell_type": "markdown",
   "id": "50c451a7",
   "metadata": {},
   "source": [
    "# Problem Statement\n",
    "\n",
    "You work for a consumer finance company which specialises in lending various types of loans to urban customers. When the company receives a loan application, the company has to make a decision for loan approval based on the applicant’s profile. Two types of risks are associated with the bank’s decision:\n",
    "\n",
    "If the applicant is likely to repay the loan, then not approving the loan results in a loss of business to the company\n",
    "\n",
    "If the applicant is not likely to repay the loan, i.e. he/she is likely to default, then approving the loan may lead to a financial loss for the company"
   ]
  },
  {
   "cell_type": "markdown",
   "id": "ff1a9721",
   "metadata": {},
   "source": [
    "## Importing necesssary python libraries"
   ]
  },
  {
   "cell_type": "code",
   "execution_count": 1,
   "id": "24515291",
   "metadata": {},
   "outputs": [],
   "source": [
    "import pandas as pd\n",
    "import seaborn as sns\n",
    "import numpy as np\n",
    "pd.options.display.float_format = '{:.2f}'.format \n",
    "sns.set(rc={'figure.figsize':(11.7,8.27)})\n",
    "\n",
    "pd.options.display.max_columns = None #to display all columns\n",
    "pd.options.display.max_rows = None #to display all rows"
   ]
  },
  {
   "cell_type": "markdown",
   "id": "e11ce60d",
   "metadata": {},
   "source": [
    "## Exploring Data Set"
   ]
  },
  {
   "cell_type": "markdown",
   "id": "bfe31abe",
   "metadata": {},
   "source": [
    "### Reading input file"
   ]
  },
  {
   "cell_type": "code",
   "execution_count": 2,
   "id": "c8ba5666",
   "metadata": {},
   "outputs": [
    {
     "name": "stderr",
     "output_type": "stream",
     "text": [
      "C:\\Users\\Shubhada\\Anaconda3\\lib\\site-packages\\IPython\\core\\interactiveshell.py:3156: DtypeWarning: Columns (47) have mixed types.Specify dtype option on import or set low_memory=False.\n",
      "  interactivity=interactivity, compiler=compiler, result=result)\n"
     ]
    }
   ],
   "source": [
    "loandata= pd.read_csv(r\"C://Users//Shubhada//Desktop//Upgrad//PGP_AIML//Course 2- Statistics Essentials//Lending club case study//loan.csv\")"
   ]
  },
  {
   "cell_type": "markdown",
   "id": "6cceeb68",
   "metadata": {},
   "source": [
    "### Checking headers in file"
   ]
  },
  {
   "cell_type": "code",
   "execution_count": 3,
   "id": "41f5d072",
   "metadata": {},
   "outputs": [
    {
     "data": {
      "text/plain": [
       "Index(['id', 'member_id', 'loan_amnt', 'funded_amnt', 'funded_amnt_inv',\n",
       "       'term', 'int_rate', 'installment', 'grade', 'sub_grade',\n",
       "       ...\n",
       "       'num_tl_90g_dpd_24m', 'num_tl_op_past_12m', 'pct_tl_nvr_dlq',\n",
       "       'percent_bc_gt_75', 'pub_rec_bankruptcies', 'tax_liens',\n",
       "       'tot_hi_cred_lim', 'total_bal_ex_mort', 'total_bc_limit',\n",
       "       'total_il_high_credit_limit'],\n",
       "      dtype='object', length=111)"
      ]
     },
     "execution_count": 3,
     "metadata": {},
     "output_type": "execute_result"
    }
   ],
   "source": [
    "loandata.columns"
   ]
  },
  {
   "cell_type": "markdown",
   "id": "c13bb2f7",
   "metadata": {},
   "source": [
    "### Lets see what kind of values have each column"
   ]
  },
  {
   "cell_type": "code",
   "execution_count": 4,
   "id": "d32378dd",
   "metadata": {
    "scrolled": true
   },
   "outputs": [
    {
     "data": {
      "text/html": [
       "<div>\n",
       "<style scoped>\n",
       "    .dataframe tbody tr th:only-of-type {\n",
       "        vertical-align: middle;\n",
       "    }\n",
       "\n",
       "    .dataframe tbody tr th {\n",
       "        vertical-align: top;\n",
       "    }\n",
       "\n",
       "    .dataframe thead th {\n",
       "        text-align: right;\n",
       "    }\n",
       "</style>\n",
       "<table border=\"1\" class=\"dataframe\">\n",
       "  <thead>\n",
       "    <tr style=\"text-align: right;\">\n",
       "      <th></th>\n",
       "      <th>id</th>\n",
       "      <th>member_id</th>\n",
       "      <th>loan_amnt</th>\n",
       "      <th>funded_amnt</th>\n",
       "      <th>funded_amnt_inv</th>\n",
       "      <th>term</th>\n",
       "      <th>int_rate</th>\n",
       "      <th>installment</th>\n",
       "      <th>grade</th>\n",
       "      <th>sub_grade</th>\n",
       "      <th>emp_title</th>\n",
       "      <th>emp_length</th>\n",
       "      <th>home_ownership</th>\n",
       "      <th>annual_inc</th>\n",
       "      <th>verification_status</th>\n",
       "      <th>issue_d</th>\n",
       "      <th>loan_status</th>\n",
       "      <th>pymnt_plan</th>\n",
       "      <th>url</th>\n",
       "      <th>desc</th>\n",
       "      <th>purpose</th>\n",
       "      <th>title</th>\n",
       "      <th>zip_code</th>\n",
       "      <th>addr_state</th>\n",
       "      <th>dti</th>\n",
       "      <th>delinq_2yrs</th>\n",
       "      <th>earliest_cr_line</th>\n",
       "      <th>inq_last_6mths</th>\n",
       "      <th>mths_since_last_delinq</th>\n",
       "      <th>mths_since_last_record</th>\n",
       "      <th>open_acc</th>\n",
       "      <th>pub_rec</th>\n",
       "      <th>revol_bal</th>\n",
       "      <th>revol_util</th>\n",
       "      <th>total_acc</th>\n",
       "      <th>initial_list_status</th>\n",
       "      <th>out_prncp</th>\n",
       "      <th>out_prncp_inv</th>\n",
       "      <th>total_pymnt</th>\n",
       "      <th>total_pymnt_inv</th>\n",
       "      <th>total_rec_prncp</th>\n",
       "      <th>total_rec_int</th>\n",
       "      <th>total_rec_late_fee</th>\n",
       "      <th>recoveries</th>\n",
       "      <th>collection_recovery_fee</th>\n",
       "      <th>last_pymnt_d</th>\n",
       "      <th>last_pymnt_amnt</th>\n",
       "      <th>next_pymnt_d</th>\n",
       "      <th>last_credit_pull_d</th>\n",
       "      <th>collections_12_mths_ex_med</th>\n",
       "      <th>mths_since_last_major_derog</th>\n",
       "      <th>policy_code</th>\n",
       "      <th>application_type</th>\n",
       "      <th>annual_inc_joint</th>\n",
       "      <th>dti_joint</th>\n",
       "      <th>verification_status_joint</th>\n",
       "      <th>acc_now_delinq</th>\n",
       "      <th>tot_coll_amt</th>\n",
       "      <th>tot_cur_bal</th>\n",
       "      <th>open_acc_6m</th>\n",
       "      <th>open_il_6m</th>\n",
       "      <th>open_il_12m</th>\n",
       "      <th>open_il_24m</th>\n",
       "      <th>mths_since_rcnt_il</th>\n",
       "      <th>total_bal_il</th>\n",
       "      <th>il_util</th>\n",
       "      <th>open_rv_12m</th>\n",
       "      <th>open_rv_24m</th>\n",
       "      <th>max_bal_bc</th>\n",
       "      <th>all_util</th>\n",
       "      <th>total_rev_hi_lim</th>\n",
       "      <th>inq_fi</th>\n",
       "      <th>total_cu_tl</th>\n",
       "      <th>inq_last_12m</th>\n",
       "      <th>acc_open_past_24mths</th>\n",
       "      <th>avg_cur_bal</th>\n",
       "      <th>bc_open_to_buy</th>\n",
       "      <th>bc_util</th>\n",
       "      <th>chargeoff_within_12_mths</th>\n",
       "      <th>delinq_amnt</th>\n",
       "      <th>mo_sin_old_il_acct</th>\n",
       "      <th>mo_sin_old_rev_tl_op</th>\n",
       "      <th>mo_sin_rcnt_rev_tl_op</th>\n",
       "      <th>mo_sin_rcnt_tl</th>\n",
       "      <th>mort_acc</th>\n",
       "      <th>mths_since_recent_bc</th>\n",
       "      <th>mths_since_recent_bc_dlq</th>\n",
       "      <th>mths_since_recent_inq</th>\n",
       "      <th>mths_since_recent_revol_delinq</th>\n",
       "      <th>num_accts_ever_120_pd</th>\n",
       "      <th>num_actv_bc_tl</th>\n",
       "      <th>num_actv_rev_tl</th>\n",
       "      <th>num_bc_sats</th>\n",
       "      <th>num_bc_tl</th>\n",
       "      <th>num_il_tl</th>\n",
       "      <th>num_op_rev_tl</th>\n",
       "      <th>num_rev_accts</th>\n",
       "      <th>num_rev_tl_bal_gt_0</th>\n",
       "      <th>num_sats</th>\n",
       "      <th>num_tl_120dpd_2m</th>\n",
       "      <th>num_tl_30dpd</th>\n",
       "      <th>num_tl_90g_dpd_24m</th>\n",
       "      <th>num_tl_op_past_12m</th>\n",
       "      <th>pct_tl_nvr_dlq</th>\n",
       "      <th>percent_bc_gt_75</th>\n",
       "      <th>pub_rec_bankruptcies</th>\n",
       "      <th>tax_liens</th>\n",
       "      <th>tot_hi_cred_lim</th>\n",
       "      <th>total_bal_ex_mort</th>\n",
       "      <th>total_bc_limit</th>\n",
       "      <th>total_il_high_credit_limit</th>\n",
       "    </tr>\n",
       "  </thead>\n",
       "  <tbody>\n",
       "    <tr>\n",
       "      <th>0</th>\n",
       "      <td>1077501</td>\n",
       "      <td>1296599</td>\n",
       "      <td>5000</td>\n",
       "      <td>5000</td>\n",
       "      <td>4975.00</td>\n",
       "      <td>36 months</td>\n",
       "      <td>10.65%</td>\n",
       "      <td>162.87</td>\n",
       "      <td>B</td>\n",
       "      <td>B2</td>\n",
       "      <td>NaN</td>\n",
       "      <td>10+ years</td>\n",
       "      <td>RENT</td>\n",
       "      <td>24000.00</td>\n",
       "      <td>Verified</td>\n",
       "      <td>Dec-11</td>\n",
       "      <td>Fully Paid</td>\n",
       "      <td>n</td>\n",
       "      <td>https://lendingclub.com/browse/loanDetail.acti...</td>\n",
       "      <td>Borrower added on 12/22/11 &gt; I need to upgra...</td>\n",
       "      <td>credit_card</td>\n",
       "      <td>Computer</td>\n",
       "      <td>860xx</td>\n",
       "      <td>AZ</td>\n",
       "      <td>27.65</td>\n",
       "      <td>0</td>\n",
       "      <td>Jan-85</td>\n",
       "      <td>1</td>\n",
       "      <td>NaN</td>\n",
       "      <td>NaN</td>\n",
       "      <td>3</td>\n",
       "      <td>0</td>\n",
       "      <td>13648</td>\n",
       "      <td>83.70%</td>\n",
       "      <td>9</td>\n",
       "      <td>f</td>\n",
       "      <td>0.00</td>\n",
       "      <td>0.00</td>\n",
       "      <td>5863.16</td>\n",
       "      <td>5833.84</td>\n",
       "      <td>5000.00</td>\n",
       "      <td>863.16</td>\n",
       "      <td>0.00</td>\n",
       "      <td>0.00</td>\n",
       "      <td>0.00</td>\n",
       "      <td>Jan-15</td>\n",
       "      <td>171.62</td>\n",
       "      <td>NaN</td>\n",
       "      <td>May-16</td>\n",
       "      <td>0.00</td>\n",
       "      <td>NaN</td>\n",
       "      <td>1</td>\n",
       "      <td>INDIVIDUAL</td>\n",
       "      <td>NaN</td>\n",
       "      <td>NaN</td>\n",
       "      <td>NaN</td>\n",
       "      <td>0</td>\n",
       "      <td>NaN</td>\n",
       "      <td>NaN</td>\n",
       "      <td>NaN</td>\n",
       "      <td>NaN</td>\n",
       "      <td>NaN</td>\n",
       "      <td>NaN</td>\n",
       "      <td>NaN</td>\n",
       "      <td>NaN</td>\n",
       "      <td>NaN</td>\n",
       "      <td>NaN</td>\n",
       "      <td>NaN</td>\n",
       "      <td>NaN</td>\n",
       "      <td>NaN</td>\n",
       "      <td>NaN</td>\n",
       "      <td>NaN</td>\n",
       "      <td>NaN</td>\n",
       "      <td>NaN</td>\n",
       "      <td>NaN</td>\n",
       "      <td>NaN</td>\n",
       "      <td>NaN</td>\n",
       "      <td>NaN</td>\n",
       "      <td>0.00</td>\n",
       "      <td>0</td>\n",
       "      <td>NaN</td>\n",
       "      <td>NaN</td>\n",
       "      <td>NaN</td>\n",
       "      <td>NaN</td>\n",
       "      <td>NaN</td>\n",
       "      <td>NaN</td>\n",
       "      <td>NaN</td>\n",
       "      <td>NaN</td>\n",
       "      <td>NaN</td>\n",
       "      <td>NaN</td>\n",
       "      <td>NaN</td>\n",
       "      <td>NaN</td>\n",
       "      <td>NaN</td>\n",
       "      <td>NaN</td>\n",
       "      <td>NaN</td>\n",
       "      <td>NaN</td>\n",
       "      <td>NaN</td>\n",
       "      <td>NaN</td>\n",
       "      <td>NaN</td>\n",
       "      <td>NaN</td>\n",
       "      <td>NaN</td>\n",
       "      <td>NaN</td>\n",
       "      <td>NaN</td>\n",
       "      <td>NaN</td>\n",
       "      <td>NaN</td>\n",
       "      <td>0.00</td>\n",
       "      <td>0.00</td>\n",
       "      <td>NaN</td>\n",
       "      <td>NaN</td>\n",
       "      <td>NaN</td>\n",
       "      <td>NaN</td>\n",
       "    </tr>\n",
       "    <tr>\n",
       "      <th>1</th>\n",
       "      <td>1077430</td>\n",
       "      <td>1314167</td>\n",
       "      <td>2500</td>\n",
       "      <td>2500</td>\n",
       "      <td>2500.00</td>\n",
       "      <td>60 months</td>\n",
       "      <td>15.27%</td>\n",
       "      <td>59.83</td>\n",
       "      <td>C</td>\n",
       "      <td>C4</td>\n",
       "      <td>Ryder</td>\n",
       "      <td>&lt; 1 year</td>\n",
       "      <td>RENT</td>\n",
       "      <td>30000.00</td>\n",
       "      <td>Source Verified</td>\n",
       "      <td>Dec-11</td>\n",
       "      <td>Charged Off</td>\n",
       "      <td>n</td>\n",
       "      <td>https://lendingclub.com/browse/loanDetail.acti...</td>\n",
       "      <td>Borrower added on 12/22/11 &gt; I plan to use t...</td>\n",
       "      <td>car</td>\n",
       "      <td>bike</td>\n",
       "      <td>309xx</td>\n",
       "      <td>GA</td>\n",
       "      <td>1.00</td>\n",
       "      <td>0</td>\n",
       "      <td>Apr-99</td>\n",
       "      <td>5</td>\n",
       "      <td>NaN</td>\n",
       "      <td>NaN</td>\n",
       "      <td>3</td>\n",
       "      <td>0</td>\n",
       "      <td>1687</td>\n",
       "      <td>9.40%</td>\n",
       "      <td>4</td>\n",
       "      <td>f</td>\n",
       "      <td>0.00</td>\n",
       "      <td>0.00</td>\n",
       "      <td>1008.71</td>\n",
       "      <td>1008.71</td>\n",
       "      <td>456.46</td>\n",
       "      <td>435.17</td>\n",
       "      <td>0.00</td>\n",
       "      <td>117.08</td>\n",
       "      <td>1.11</td>\n",
       "      <td>Apr-13</td>\n",
       "      <td>119.66</td>\n",
       "      <td>NaN</td>\n",
       "      <td>Sep-13</td>\n",
       "      <td>0.00</td>\n",
       "      <td>NaN</td>\n",
       "      <td>1</td>\n",
       "      <td>INDIVIDUAL</td>\n",
       "      <td>NaN</td>\n",
       "      <td>NaN</td>\n",
       "      <td>NaN</td>\n",
       "      <td>0</td>\n",
       "      <td>NaN</td>\n",
       "      <td>NaN</td>\n",
       "      <td>NaN</td>\n",
       "      <td>NaN</td>\n",
       "      <td>NaN</td>\n",
       "      <td>NaN</td>\n",
       "      <td>NaN</td>\n",
       "      <td>NaN</td>\n",
       "      <td>NaN</td>\n",
       "      <td>NaN</td>\n",
       "      <td>NaN</td>\n",
       "      <td>NaN</td>\n",
       "      <td>NaN</td>\n",
       "      <td>NaN</td>\n",
       "      <td>NaN</td>\n",
       "      <td>NaN</td>\n",
       "      <td>NaN</td>\n",
       "      <td>NaN</td>\n",
       "      <td>NaN</td>\n",
       "      <td>NaN</td>\n",
       "      <td>NaN</td>\n",
       "      <td>0.00</td>\n",
       "      <td>0</td>\n",
       "      <td>NaN</td>\n",
       "      <td>NaN</td>\n",
       "      <td>NaN</td>\n",
       "      <td>NaN</td>\n",
       "      <td>NaN</td>\n",
       "      <td>NaN</td>\n",
       "      <td>NaN</td>\n",
       "      <td>NaN</td>\n",
       "      <td>NaN</td>\n",
       "      <td>NaN</td>\n",
       "      <td>NaN</td>\n",
       "      <td>NaN</td>\n",
       "      <td>NaN</td>\n",
       "      <td>NaN</td>\n",
       "      <td>NaN</td>\n",
       "      <td>NaN</td>\n",
       "      <td>NaN</td>\n",
       "      <td>NaN</td>\n",
       "      <td>NaN</td>\n",
       "      <td>NaN</td>\n",
       "      <td>NaN</td>\n",
       "      <td>NaN</td>\n",
       "      <td>NaN</td>\n",
       "      <td>NaN</td>\n",
       "      <td>NaN</td>\n",
       "      <td>0.00</td>\n",
       "      <td>0.00</td>\n",
       "      <td>NaN</td>\n",
       "      <td>NaN</td>\n",
       "      <td>NaN</td>\n",
       "      <td>NaN</td>\n",
       "    </tr>\n",
       "  </tbody>\n",
       "</table>\n",
       "</div>"
      ],
      "text/plain": [
       "        id  member_id  loan_amnt  funded_amnt  funded_amnt_inv        term  \\\n",
       "0  1077501    1296599       5000         5000          4975.00   36 months   \n",
       "1  1077430    1314167       2500         2500          2500.00   60 months   \n",
       "\n",
       "  int_rate  installment grade sub_grade emp_title emp_length home_ownership  \\\n",
       "0   10.65%       162.87     B        B2       NaN  10+ years           RENT   \n",
       "1   15.27%        59.83     C        C4     Ryder   < 1 year           RENT   \n",
       "\n",
       "   annual_inc verification_status issue_d  loan_status pymnt_plan  \\\n",
       "0    24000.00            Verified  Dec-11   Fully Paid          n   \n",
       "1    30000.00     Source Verified  Dec-11  Charged Off          n   \n",
       "\n",
       "                                                 url  \\\n",
       "0  https://lendingclub.com/browse/loanDetail.acti...   \n",
       "1  https://lendingclub.com/browse/loanDetail.acti...   \n",
       "\n",
       "                                                desc      purpose     title  \\\n",
       "0    Borrower added on 12/22/11 > I need to upgra...  credit_card  Computer   \n",
       "1    Borrower added on 12/22/11 > I plan to use t...          car      bike   \n",
       "\n",
       "  zip_code addr_state   dti  delinq_2yrs earliest_cr_line  inq_last_6mths  \\\n",
       "0    860xx         AZ 27.65            0           Jan-85               1   \n",
       "1    309xx         GA  1.00            0           Apr-99               5   \n",
       "\n",
       "   mths_since_last_delinq  mths_since_last_record  open_acc  pub_rec  \\\n",
       "0                     NaN                     NaN         3        0   \n",
       "1                     NaN                     NaN         3        0   \n",
       "\n",
       "   revol_bal revol_util  total_acc initial_list_status  out_prncp  \\\n",
       "0      13648     83.70%          9                   f       0.00   \n",
       "1       1687      9.40%          4                   f       0.00   \n",
       "\n",
       "   out_prncp_inv  total_pymnt  total_pymnt_inv  total_rec_prncp  \\\n",
       "0           0.00      5863.16          5833.84          5000.00   \n",
       "1           0.00      1008.71          1008.71           456.46   \n",
       "\n",
       "   total_rec_int  total_rec_late_fee  recoveries  collection_recovery_fee  \\\n",
       "0         863.16                0.00        0.00                     0.00   \n",
       "1         435.17                0.00      117.08                     1.11   \n",
       "\n",
       "  last_pymnt_d  last_pymnt_amnt next_pymnt_d last_credit_pull_d  \\\n",
       "0       Jan-15           171.62          NaN             May-16   \n",
       "1       Apr-13           119.66          NaN             Sep-13   \n",
       "\n",
       "   collections_12_mths_ex_med  mths_since_last_major_derog  policy_code  \\\n",
       "0                        0.00                          NaN            1   \n",
       "1                        0.00                          NaN            1   \n",
       "\n",
       "  application_type  annual_inc_joint  dti_joint  verification_status_joint  \\\n",
       "0       INDIVIDUAL               NaN        NaN                        NaN   \n",
       "1       INDIVIDUAL               NaN        NaN                        NaN   \n",
       "\n",
       "   acc_now_delinq  tot_coll_amt  tot_cur_bal  open_acc_6m  open_il_6m  \\\n",
       "0               0           NaN          NaN          NaN         NaN   \n",
       "1               0           NaN          NaN          NaN         NaN   \n",
       "\n",
       "   open_il_12m  open_il_24m  mths_since_rcnt_il  total_bal_il  il_util  \\\n",
       "0          NaN          NaN                 NaN           NaN      NaN   \n",
       "1          NaN          NaN                 NaN           NaN      NaN   \n",
       "\n",
       "   open_rv_12m  open_rv_24m  max_bal_bc  all_util  total_rev_hi_lim  inq_fi  \\\n",
       "0          NaN          NaN         NaN       NaN               NaN     NaN   \n",
       "1          NaN          NaN         NaN       NaN               NaN     NaN   \n",
       "\n",
       "   total_cu_tl  inq_last_12m  acc_open_past_24mths  avg_cur_bal  \\\n",
       "0          NaN           NaN                   NaN          NaN   \n",
       "1          NaN           NaN                   NaN          NaN   \n",
       "\n",
       "   bc_open_to_buy  bc_util  chargeoff_within_12_mths  delinq_amnt  \\\n",
       "0             NaN      NaN                      0.00            0   \n",
       "1             NaN      NaN                      0.00            0   \n",
       "\n",
       "   mo_sin_old_il_acct  mo_sin_old_rev_tl_op  mo_sin_rcnt_rev_tl_op  \\\n",
       "0                 NaN                   NaN                    NaN   \n",
       "1                 NaN                   NaN                    NaN   \n",
       "\n",
       "   mo_sin_rcnt_tl  mort_acc  mths_since_recent_bc  mths_since_recent_bc_dlq  \\\n",
       "0             NaN       NaN                   NaN                       NaN   \n",
       "1             NaN       NaN                   NaN                       NaN   \n",
       "\n",
       "   mths_since_recent_inq  mths_since_recent_revol_delinq  \\\n",
       "0                    NaN                             NaN   \n",
       "1                    NaN                             NaN   \n",
       "\n",
       "   num_accts_ever_120_pd  num_actv_bc_tl  num_actv_rev_tl  num_bc_sats  \\\n",
       "0                    NaN             NaN              NaN          NaN   \n",
       "1                    NaN             NaN              NaN          NaN   \n",
       "\n",
       "   num_bc_tl  num_il_tl  num_op_rev_tl  num_rev_accts  num_rev_tl_bal_gt_0  \\\n",
       "0        NaN        NaN            NaN            NaN                  NaN   \n",
       "1        NaN        NaN            NaN            NaN                  NaN   \n",
       "\n",
       "   num_sats  num_tl_120dpd_2m  num_tl_30dpd  num_tl_90g_dpd_24m  \\\n",
       "0       NaN               NaN           NaN                 NaN   \n",
       "1       NaN               NaN           NaN                 NaN   \n",
       "\n",
       "   num_tl_op_past_12m  pct_tl_nvr_dlq  percent_bc_gt_75  pub_rec_bankruptcies  \\\n",
       "0                 NaN             NaN               NaN                  0.00   \n",
       "1                 NaN             NaN               NaN                  0.00   \n",
       "\n",
       "   tax_liens  tot_hi_cred_lim  total_bal_ex_mort  total_bc_limit  \\\n",
       "0       0.00              NaN                NaN             NaN   \n",
       "1       0.00              NaN                NaN             NaN   \n",
       "\n",
       "   total_il_high_credit_limit  \n",
       "0                         NaN  \n",
       "1                         NaN  "
      ]
     },
     "execution_count": 4,
     "metadata": {},
     "output_type": "execute_result"
    }
   ],
   "source": [
    "loandata.head(2)"
   ]
  },
  {
   "cell_type": "markdown",
   "id": "historical-smart",
   "metadata": {},
   "source": [
    "### checking number of rows and columns"
   ]
  },
  {
   "cell_type": "code",
   "execution_count": 5,
   "id": "c7353712",
   "metadata": {},
   "outputs": [
    {
     "data": {
      "text/plain": [
       "(39717, 111)"
      ]
     },
     "execution_count": 5,
     "metadata": {},
     "output_type": "execute_result"
    }
   ],
   "source": [
    "loandata.shape"
   ]
  },
  {
   "cell_type": "markdown",
   "id": "4588c21e",
   "metadata": {},
   "source": [
    "### checking the numeric columns"
   ]
  },
  {
   "cell_type": "code",
   "execution_count": 6,
   "id": "13b19d2c",
   "metadata": {
    "scrolled": true
   },
   "outputs": [
    {
     "data": {
      "text/html": [
       "<div>\n",
       "<style scoped>\n",
       "    .dataframe tbody tr th:only-of-type {\n",
       "        vertical-align: middle;\n",
       "    }\n",
       "\n",
       "    .dataframe tbody tr th {\n",
       "        vertical-align: top;\n",
       "    }\n",
       "\n",
       "    .dataframe thead th {\n",
       "        text-align: right;\n",
       "    }\n",
       "</style>\n",
       "<table border=\"1\" class=\"dataframe\">\n",
       "  <thead>\n",
       "    <tr style=\"text-align: right;\">\n",
       "      <th></th>\n",
       "      <th>id</th>\n",
       "      <th>member_id</th>\n",
       "      <th>loan_amnt</th>\n",
       "      <th>funded_amnt</th>\n",
       "      <th>funded_amnt_inv</th>\n",
       "      <th>installment</th>\n",
       "      <th>annual_inc</th>\n",
       "      <th>dti</th>\n",
       "      <th>delinq_2yrs</th>\n",
       "      <th>inq_last_6mths</th>\n",
       "      <th>mths_since_last_delinq</th>\n",
       "      <th>mths_since_last_record</th>\n",
       "      <th>open_acc</th>\n",
       "      <th>pub_rec</th>\n",
       "      <th>revol_bal</th>\n",
       "      <th>total_acc</th>\n",
       "      <th>out_prncp</th>\n",
       "      <th>out_prncp_inv</th>\n",
       "      <th>total_pymnt</th>\n",
       "      <th>total_pymnt_inv</th>\n",
       "      <th>total_rec_prncp</th>\n",
       "      <th>total_rec_int</th>\n",
       "      <th>total_rec_late_fee</th>\n",
       "      <th>recoveries</th>\n",
       "      <th>collection_recovery_fee</th>\n",
       "      <th>last_pymnt_amnt</th>\n",
       "      <th>collections_12_mths_ex_med</th>\n",
       "      <th>mths_since_last_major_derog</th>\n",
       "      <th>policy_code</th>\n",
       "      <th>annual_inc_joint</th>\n",
       "      <th>dti_joint</th>\n",
       "      <th>verification_status_joint</th>\n",
       "      <th>acc_now_delinq</th>\n",
       "      <th>tot_coll_amt</th>\n",
       "      <th>tot_cur_bal</th>\n",
       "      <th>open_acc_6m</th>\n",
       "      <th>open_il_6m</th>\n",
       "      <th>open_il_12m</th>\n",
       "      <th>open_il_24m</th>\n",
       "      <th>mths_since_rcnt_il</th>\n",
       "      <th>total_bal_il</th>\n",
       "      <th>il_util</th>\n",
       "      <th>open_rv_12m</th>\n",
       "      <th>open_rv_24m</th>\n",
       "      <th>max_bal_bc</th>\n",
       "      <th>all_util</th>\n",
       "      <th>total_rev_hi_lim</th>\n",
       "      <th>inq_fi</th>\n",
       "      <th>total_cu_tl</th>\n",
       "      <th>inq_last_12m</th>\n",
       "      <th>acc_open_past_24mths</th>\n",
       "      <th>avg_cur_bal</th>\n",
       "      <th>bc_open_to_buy</th>\n",
       "      <th>bc_util</th>\n",
       "      <th>chargeoff_within_12_mths</th>\n",
       "      <th>delinq_amnt</th>\n",
       "      <th>mo_sin_old_il_acct</th>\n",
       "      <th>mo_sin_old_rev_tl_op</th>\n",
       "      <th>mo_sin_rcnt_rev_tl_op</th>\n",
       "      <th>mo_sin_rcnt_tl</th>\n",
       "      <th>mort_acc</th>\n",
       "      <th>mths_since_recent_bc</th>\n",
       "      <th>mths_since_recent_bc_dlq</th>\n",
       "      <th>mths_since_recent_inq</th>\n",
       "      <th>mths_since_recent_revol_delinq</th>\n",
       "      <th>num_accts_ever_120_pd</th>\n",
       "      <th>num_actv_bc_tl</th>\n",
       "      <th>num_actv_rev_tl</th>\n",
       "      <th>num_bc_sats</th>\n",
       "      <th>num_bc_tl</th>\n",
       "      <th>num_il_tl</th>\n",
       "      <th>num_op_rev_tl</th>\n",
       "      <th>num_rev_accts</th>\n",
       "      <th>num_rev_tl_bal_gt_0</th>\n",
       "      <th>num_sats</th>\n",
       "      <th>num_tl_120dpd_2m</th>\n",
       "      <th>num_tl_30dpd</th>\n",
       "      <th>num_tl_90g_dpd_24m</th>\n",
       "      <th>num_tl_op_past_12m</th>\n",
       "      <th>pct_tl_nvr_dlq</th>\n",
       "      <th>percent_bc_gt_75</th>\n",
       "      <th>pub_rec_bankruptcies</th>\n",
       "      <th>tax_liens</th>\n",
       "      <th>tot_hi_cred_lim</th>\n",
       "      <th>total_bal_ex_mort</th>\n",
       "      <th>total_bc_limit</th>\n",
       "      <th>total_il_high_credit_limit</th>\n",
       "    </tr>\n",
       "  </thead>\n",
       "  <tbody>\n",
       "    <tr>\n",
       "      <th>count</th>\n",
       "      <td>39717.00</td>\n",
       "      <td>39717.00</td>\n",
       "      <td>39717.00</td>\n",
       "      <td>39717.00</td>\n",
       "      <td>39717.00</td>\n",
       "      <td>39717.00</td>\n",
       "      <td>39717.00</td>\n",
       "      <td>39717.00</td>\n",
       "      <td>39717.00</td>\n",
       "      <td>39717.00</td>\n",
       "      <td>14035.00</td>\n",
       "      <td>2786.00</td>\n",
       "      <td>39717.00</td>\n",
       "      <td>39717.00</td>\n",
       "      <td>39717.00</td>\n",
       "      <td>39717.00</td>\n",
       "      <td>39717.00</td>\n",
       "      <td>39717.00</td>\n",
       "      <td>39717.00</td>\n",
       "      <td>39717.00</td>\n",
       "      <td>39717.00</td>\n",
       "      <td>39717.00</td>\n",
       "      <td>39717.00</td>\n",
       "      <td>39717.00</td>\n",
       "      <td>39717.00</td>\n",
       "      <td>39717.00</td>\n",
       "      <td>39661.00</td>\n",
       "      <td>0.00</td>\n",
       "      <td>39717.00</td>\n",
       "      <td>0.00</td>\n",
       "      <td>0.00</td>\n",
       "      <td>0.00</td>\n",
       "      <td>39717.00</td>\n",
       "      <td>0.00</td>\n",
       "      <td>0.00</td>\n",
       "      <td>0.00</td>\n",
       "      <td>0.00</td>\n",
       "      <td>0.00</td>\n",
       "      <td>0.00</td>\n",
       "      <td>0.00</td>\n",
       "      <td>0.00</td>\n",
       "      <td>0.00</td>\n",
       "      <td>0.00</td>\n",
       "      <td>0.00</td>\n",
       "      <td>0.00</td>\n",
       "      <td>0.00</td>\n",
       "      <td>0.00</td>\n",
       "      <td>0.00</td>\n",
       "      <td>0.00</td>\n",
       "      <td>0.00</td>\n",
       "      <td>0.00</td>\n",
       "      <td>0.00</td>\n",
       "      <td>0.00</td>\n",
       "      <td>0.00</td>\n",
       "      <td>39661.00</td>\n",
       "      <td>39717.00</td>\n",
       "      <td>0.00</td>\n",
       "      <td>0.00</td>\n",
       "      <td>0.00</td>\n",
       "      <td>0.00</td>\n",
       "      <td>0.00</td>\n",
       "      <td>0.00</td>\n",
       "      <td>0.00</td>\n",
       "      <td>0.00</td>\n",
       "      <td>0.00</td>\n",
       "      <td>0.00</td>\n",
       "      <td>0.00</td>\n",
       "      <td>0.00</td>\n",
       "      <td>0.00</td>\n",
       "      <td>0.00</td>\n",
       "      <td>0.00</td>\n",
       "      <td>0.00</td>\n",
       "      <td>0.00</td>\n",
       "      <td>0.00</td>\n",
       "      <td>0.00</td>\n",
       "      <td>0.00</td>\n",
       "      <td>0.00</td>\n",
       "      <td>0.00</td>\n",
       "      <td>0.00</td>\n",
       "      <td>0.00</td>\n",
       "      <td>0.00</td>\n",
       "      <td>39020.00</td>\n",
       "      <td>39678.00</td>\n",
       "      <td>0.00</td>\n",
       "      <td>0.00</td>\n",
       "      <td>0.00</td>\n",
       "      <td>0.00</td>\n",
       "    </tr>\n",
       "    <tr>\n",
       "      <th>mean</th>\n",
       "      <td>683131.91</td>\n",
       "      <td>850463.56</td>\n",
       "      <td>11219.44</td>\n",
       "      <td>10947.71</td>\n",
       "      <td>10397.45</td>\n",
       "      <td>324.56</td>\n",
       "      <td>68968.93</td>\n",
       "      <td>13.32</td>\n",
       "      <td>0.15</td>\n",
       "      <td>0.87</td>\n",
       "      <td>35.90</td>\n",
       "      <td>69.70</td>\n",
       "      <td>9.29</td>\n",
       "      <td>0.06</td>\n",
       "      <td>13382.53</td>\n",
       "      <td>22.09</td>\n",
       "      <td>51.23</td>\n",
       "      <td>50.99</td>\n",
       "      <td>12153.60</td>\n",
       "      <td>11567.15</td>\n",
       "      <td>9793.35</td>\n",
       "      <td>2263.66</td>\n",
       "      <td>1.36</td>\n",
       "      <td>95.22</td>\n",
       "      <td>12.41</td>\n",
       "      <td>2678.83</td>\n",
       "      <td>0.00</td>\n",
       "      <td>NaN</td>\n",
       "      <td>1.00</td>\n",
       "      <td>NaN</td>\n",
       "      <td>NaN</td>\n",
       "      <td>NaN</td>\n",
       "      <td>0.00</td>\n",
       "      <td>NaN</td>\n",
       "      <td>NaN</td>\n",
       "      <td>NaN</td>\n",
       "      <td>NaN</td>\n",
       "      <td>NaN</td>\n",
       "      <td>NaN</td>\n",
       "      <td>NaN</td>\n",
       "      <td>NaN</td>\n",
       "      <td>NaN</td>\n",
       "      <td>NaN</td>\n",
       "      <td>NaN</td>\n",
       "      <td>NaN</td>\n",
       "      <td>NaN</td>\n",
       "      <td>NaN</td>\n",
       "      <td>NaN</td>\n",
       "      <td>NaN</td>\n",
       "      <td>NaN</td>\n",
       "      <td>NaN</td>\n",
       "      <td>NaN</td>\n",
       "      <td>NaN</td>\n",
       "      <td>NaN</td>\n",
       "      <td>0.00</td>\n",
       "      <td>0.00</td>\n",
       "      <td>NaN</td>\n",
       "      <td>NaN</td>\n",
       "      <td>NaN</td>\n",
       "      <td>NaN</td>\n",
       "      <td>NaN</td>\n",
       "      <td>NaN</td>\n",
       "      <td>NaN</td>\n",
       "      <td>NaN</td>\n",
       "      <td>NaN</td>\n",
       "      <td>NaN</td>\n",
       "      <td>NaN</td>\n",
       "      <td>NaN</td>\n",
       "      <td>NaN</td>\n",
       "      <td>NaN</td>\n",
       "      <td>NaN</td>\n",
       "      <td>NaN</td>\n",
       "      <td>NaN</td>\n",
       "      <td>NaN</td>\n",
       "      <td>NaN</td>\n",
       "      <td>NaN</td>\n",
       "      <td>NaN</td>\n",
       "      <td>NaN</td>\n",
       "      <td>NaN</td>\n",
       "      <td>NaN</td>\n",
       "      <td>NaN</td>\n",
       "      <td>0.04</td>\n",
       "      <td>0.00</td>\n",
       "      <td>NaN</td>\n",
       "      <td>NaN</td>\n",
       "      <td>NaN</td>\n",
       "      <td>NaN</td>\n",
       "    </tr>\n",
       "    <tr>\n",
       "      <th>std</th>\n",
       "      <td>210694.13</td>\n",
       "      <td>265678.31</td>\n",
       "      <td>7456.67</td>\n",
       "      <td>7187.24</td>\n",
       "      <td>7128.45</td>\n",
       "      <td>208.87</td>\n",
       "      <td>63793.77</td>\n",
       "      <td>6.68</td>\n",
       "      <td>0.49</td>\n",
       "      <td>1.07</td>\n",
       "      <td>22.02</td>\n",
       "      <td>43.82</td>\n",
       "      <td>4.40</td>\n",
       "      <td>0.24</td>\n",
       "      <td>15885.02</td>\n",
       "      <td>11.40</td>\n",
       "      <td>375.17</td>\n",
       "      <td>373.82</td>\n",
       "      <td>9042.04</td>\n",
       "      <td>8942.67</td>\n",
       "      <td>7065.52</td>\n",
       "      <td>2608.11</td>\n",
       "      <td>7.29</td>\n",
       "      <td>688.74</td>\n",
       "      <td>148.67</td>\n",
       "      <td>4447.14</td>\n",
       "      <td>0.00</td>\n",
       "      <td>NaN</td>\n",
       "      <td>0.00</td>\n",
       "      <td>NaN</td>\n",
       "      <td>NaN</td>\n",
       "      <td>NaN</td>\n",
       "      <td>0.00</td>\n",
       "      <td>NaN</td>\n",
       "      <td>NaN</td>\n",
       "      <td>NaN</td>\n",
       "      <td>NaN</td>\n",
       "      <td>NaN</td>\n",
       "      <td>NaN</td>\n",
       "      <td>NaN</td>\n",
       "      <td>NaN</td>\n",
       "      <td>NaN</td>\n",
       "      <td>NaN</td>\n",
       "      <td>NaN</td>\n",
       "      <td>NaN</td>\n",
       "      <td>NaN</td>\n",
       "      <td>NaN</td>\n",
       "      <td>NaN</td>\n",
       "      <td>NaN</td>\n",
       "      <td>NaN</td>\n",
       "      <td>NaN</td>\n",
       "      <td>NaN</td>\n",
       "      <td>NaN</td>\n",
       "      <td>NaN</td>\n",
       "      <td>0.00</td>\n",
       "      <td>0.00</td>\n",
       "      <td>NaN</td>\n",
       "      <td>NaN</td>\n",
       "      <td>NaN</td>\n",
       "      <td>NaN</td>\n",
       "      <td>NaN</td>\n",
       "      <td>NaN</td>\n",
       "      <td>NaN</td>\n",
       "      <td>NaN</td>\n",
       "      <td>NaN</td>\n",
       "      <td>NaN</td>\n",
       "      <td>NaN</td>\n",
       "      <td>NaN</td>\n",
       "      <td>NaN</td>\n",
       "      <td>NaN</td>\n",
       "      <td>NaN</td>\n",
       "      <td>NaN</td>\n",
       "      <td>NaN</td>\n",
       "      <td>NaN</td>\n",
       "      <td>NaN</td>\n",
       "      <td>NaN</td>\n",
       "      <td>NaN</td>\n",
       "      <td>NaN</td>\n",
       "      <td>NaN</td>\n",
       "      <td>NaN</td>\n",
       "      <td>NaN</td>\n",
       "      <td>0.20</td>\n",
       "      <td>0.00</td>\n",
       "      <td>NaN</td>\n",
       "      <td>NaN</td>\n",
       "      <td>NaN</td>\n",
       "      <td>NaN</td>\n",
       "    </tr>\n",
       "    <tr>\n",
       "      <th>min</th>\n",
       "      <td>54734.00</td>\n",
       "      <td>70699.00</td>\n",
       "      <td>500.00</td>\n",
       "      <td>500.00</td>\n",
       "      <td>0.00</td>\n",
       "      <td>15.69</td>\n",
       "      <td>4000.00</td>\n",
       "      <td>0.00</td>\n",
       "      <td>0.00</td>\n",
       "      <td>0.00</td>\n",
       "      <td>0.00</td>\n",
       "      <td>0.00</td>\n",
       "      <td>2.00</td>\n",
       "      <td>0.00</td>\n",
       "      <td>0.00</td>\n",
       "      <td>2.00</td>\n",
       "      <td>0.00</td>\n",
       "      <td>0.00</td>\n",
       "      <td>0.00</td>\n",
       "      <td>0.00</td>\n",
       "      <td>0.00</td>\n",
       "      <td>0.00</td>\n",
       "      <td>0.00</td>\n",
       "      <td>0.00</td>\n",
       "      <td>0.00</td>\n",
       "      <td>0.00</td>\n",
       "      <td>0.00</td>\n",
       "      <td>NaN</td>\n",
       "      <td>1.00</td>\n",
       "      <td>NaN</td>\n",
       "      <td>NaN</td>\n",
       "      <td>NaN</td>\n",
       "      <td>0.00</td>\n",
       "      <td>NaN</td>\n",
       "      <td>NaN</td>\n",
       "      <td>NaN</td>\n",
       "      <td>NaN</td>\n",
       "      <td>NaN</td>\n",
       "      <td>NaN</td>\n",
       "      <td>NaN</td>\n",
       "      <td>NaN</td>\n",
       "      <td>NaN</td>\n",
       "      <td>NaN</td>\n",
       "      <td>NaN</td>\n",
       "      <td>NaN</td>\n",
       "      <td>NaN</td>\n",
       "      <td>NaN</td>\n",
       "      <td>NaN</td>\n",
       "      <td>NaN</td>\n",
       "      <td>NaN</td>\n",
       "      <td>NaN</td>\n",
       "      <td>NaN</td>\n",
       "      <td>NaN</td>\n",
       "      <td>NaN</td>\n",
       "      <td>0.00</td>\n",
       "      <td>0.00</td>\n",
       "      <td>NaN</td>\n",
       "      <td>NaN</td>\n",
       "      <td>NaN</td>\n",
       "      <td>NaN</td>\n",
       "      <td>NaN</td>\n",
       "      <td>NaN</td>\n",
       "      <td>NaN</td>\n",
       "      <td>NaN</td>\n",
       "      <td>NaN</td>\n",
       "      <td>NaN</td>\n",
       "      <td>NaN</td>\n",
       "      <td>NaN</td>\n",
       "      <td>NaN</td>\n",
       "      <td>NaN</td>\n",
       "      <td>NaN</td>\n",
       "      <td>NaN</td>\n",
       "      <td>NaN</td>\n",
       "      <td>NaN</td>\n",
       "      <td>NaN</td>\n",
       "      <td>NaN</td>\n",
       "      <td>NaN</td>\n",
       "      <td>NaN</td>\n",
       "      <td>NaN</td>\n",
       "      <td>NaN</td>\n",
       "      <td>NaN</td>\n",
       "      <td>0.00</td>\n",
       "      <td>0.00</td>\n",
       "      <td>NaN</td>\n",
       "      <td>NaN</td>\n",
       "      <td>NaN</td>\n",
       "      <td>NaN</td>\n",
       "    </tr>\n",
       "    <tr>\n",
       "      <th>25%</th>\n",
       "      <td>516221.00</td>\n",
       "      <td>666780.00</td>\n",
       "      <td>5500.00</td>\n",
       "      <td>5400.00</td>\n",
       "      <td>5000.00</td>\n",
       "      <td>167.02</td>\n",
       "      <td>40404.00</td>\n",
       "      <td>8.17</td>\n",
       "      <td>0.00</td>\n",
       "      <td>0.00</td>\n",
       "      <td>18.00</td>\n",
       "      <td>22.00</td>\n",
       "      <td>6.00</td>\n",
       "      <td>0.00</td>\n",
       "      <td>3703.00</td>\n",
       "      <td>13.00</td>\n",
       "      <td>0.00</td>\n",
       "      <td>0.00</td>\n",
       "      <td>5576.93</td>\n",
       "      <td>5112.31</td>\n",
       "      <td>4600.00</td>\n",
       "      <td>662.18</td>\n",
       "      <td>0.00</td>\n",
       "      <td>0.00</td>\n",
       "      <td>0.00</td>\n",
       "      <td>218.68</td>\n",
       "      <td>0.00</td>\n",
       "      <td>NaN</td>\n",
       "      <td>1.00</td>\n",
       "      <td>NaN</td>\n",
       "      <td>NaN</td>\n",
       "      <td>NaN</td>\n",
       "      <td>0.00</td>\n",
       "      <td>NaN</td>\n",
       "      <td>NaN</td>\n",
       "      <td>NaN</td>\n",
       "      <td>NaN</td>\n",
       "      <td>NaN</td>\n",
       "      <td>NaN</td>\n",
       "      <td>NaN</td>\n",
       "      <td>NaN</td>\n",
       "      <td>NaN</td>\n",
       "      <td>NaN</td>\n",
       "      <td>NaN</td>\n",
       "      <td>NaN</td>\n",
       "      <td>NaN</td>\n",
       "      <td>NaN</td>\n",
       "      <td>NaN</td>\n",
       "      <td>NaN</td>\n",
       "      <td>NaN</td>\n",
       "      <td>NaN</td>\n",
       "      <td>NaN</td>\n",
       "      <td>NaN</td>\n",
       "      <td>NaN</td>\n",
       "      <td>0.00</td>\n",
       "      <td>0.00</td>\n",
       "      <td>NaN</td>\n",
       "      <td>NaN</td>\n",
       "      <td>NaN</td>\n",
       "      <td>NaN</td>\n",
       "      <td>NaN</td>\n",
       "      <td>NaN</td>\n",
       "      <td>NaN</td>\n",
       "      <td>NaN</td>\n",
       "      <td>NaN</td>\n",
       "      <td>NaN</td>\n",
       "      <td>NaN</td>\n",
       "      <td>NaN</td>\n",
       "      <td>NaN</td>\n",
       "      <td>NaN</td>\n",
       "      <td>NaN</td>\n",
       "      <td>NaN</td>\n",
       "      <td>NaN</td>\n",
       "      <td>NaN</td>\n",
       "      <td>NaN</td>\n",
       "      <td>NaN</td>\n",
       "      <td>NaN</td>\n",
       "      <td>NaN</td>\n",
       "      <td>NaN</td>\n",
       "      <td>NaN</td>\n",
       "      <td>NaN</td>\n",
       "      <td>0.00</td>\n",
       "      <td>0.00</td>\n",
       "      <td>NaN</td>\n",
       "      <td>NaN</td>\n",
       "      <td>NaN</td>\n",
       "      <td>NaN</td>\n",
       "    </tr>\n",
       "    <tr>\n",
       "      <th>50%</th>\n",
       "      <td>665665.00</td>\n",
       "      <td>850812.00</td>\n",
       "      <td>10000.00</td>\n",
       "      <td>9600.00</td>\n",
       "      <td>8975.00</td>\n",
       "      <td>280.22</td>\n",
       "      <td>59000.00</td>\n",
       "      <td>13.40</td>\n",
       "      <td>0.00</td>\n",
       "      <td>1.00</td>\n",
       "      <td>34.00</td>\n",
       "      <td>90.00</td>\n",
       "      <td>9.00</td>\n",
       "      <td>0.00</td>\n",
       "      <td>8850.00</td>\n",
       "      <td>20.00</td>\n",
       "      <td>0.00</td>\n",
       "      <td>0.00</td>\n",
       "      <td>9899.64</td>\n",
       "      <td>9287.15</td>\n",
       "      <td>8000.00</td>\n",
       "      <td>1348.91</td>\n",
       "      <td>0.00</td>\n",
       "      <td>0.00</td>\n",
       "      <td>0.00</td>\n",
       "      <td>546.14</td>\n",
       "      <td>0.00</td>\n",
       "      <td>NaN</td>\n",
       "      <td>1.00</td>\n",
       "      <td>NaN</td>\n",
       "      <td>NaN</td>\n",
       "      <td>NaN</td>\n",
       "      <td>0.00</td>\n",
       "      <td>NaN</td>\n",
       "      <td>NaN</td>\n",
       "      <td>NaN</td>\n",
       "      <td>NaN</td>\n",
       "      <td>NaN</td>\n",
       "      <td>NaN</td>\n",
       "      <td>NaN</td>\n",
       "      <td>NaN</td>\n",
       "      <td>NaN</td>\n",
       "      <td>NaN</td>\n",
       "      <td>NaN</td>\n",
       "      <td>NaN</td>\n",
       "      <td>NaN</td>\n",
       "      <td>NaN</td>\n",
       "      <td>NaN</td>\n",
       "      <td>NaN</td>\n",
       "      <td>NaN</td>\n",
       "      <td>NaN</td>\n",
       "      <td>NaN</td>\n",
       "      <td>NaN</td>\n",
       "      <td>NaN</td>\n",
       "      <td>0.00</td>\n",
       "      <td>0.00</td>\n",
       "      <td>NaN</td>\n",
       "      <td>NaN</td>\n",
       "      <td>NaN</td>\n",
       "      <td>NaN</td>\n",
       "      <td>NaN</td>\n",
       "      <td>NaN</td>\n",
       "      <td>NaN</td>\n",
       "      <td>NaN</td>\n",
       "      <td>NaN</td>\n",
       "      <td>NaN</td>\n",
       "      <td>NaN</td>\n",
       "      <td>NaN</td>\n",
       "      <td>NaN</td>\n",
       "      <td>NaN</td>\n",
       "      <td>NaN</td>\n",
       "      <td>NaN</td>\n",
       "      <td>NaN</td>\n",
       "      <td>NaN</td>\n",
       "      <td>NaN</td>\n",
       "      <td>NaN</td>\n",
       "      <td>NaN</td>\n",
       "      <td>NaN</td>\n",
       "      <td>NaN</td>\n",
       "      <td>NaN</td>\n",
       "      <td>NaN</td>\n",
       "      <td>0.00</td>\n",
       "      <td>0.00</td>\n",
       "      <td>NaN</td>\n",
       "      <td>NaN</td>\n",
       "      <td>NaN</td>\n",
       "      <td>NaN</td>\n",
       "    </tr>\n",
       "    <tr>\n",
       "      <th>75%</th>\n",
       "      <td>837755.00</td>\n",
       "      <td>1047339.00</td>\n",
       "      <td>15000.00</td>\n",
       "      <td>15000.00</td>\n",
       "      <td>14400.00</td>\n",
       "      <td>430.78</td>\n",
       "      <td>82300.00</td>\n",
       "      <td>18.60</td>\n",
       "      <td>0.00</td>\n",
       "      <td>1.00</td>\n",
       "      <td>52.00</td>\n",
       "      <td>104.00</td>\n",
       "      <td>12.00</td>\n",
       "      <td>0.00</td>\n",
       "      <td>17058.00</td>\n",
       "      <td>29.00</td>\n",
       "      <td>0.00</td>\n",
       "      <td>0.00</td>\n",
       "      <td>16534.43</td>\n",
       "      <td>15798.81</td>\n",
       "      <td>13653.26</td>\n",
       "      <td>2833.40</td>\n",
       "      <td>0.00</td>\n",
       "      <td>0.00</td>\n",
       "      <td>0.00</td>\n",
       "      <td>3293.16</td>\n",
       "      <td>0.00</td>\n",
       "      <td>NaN</td>\n",
       "      <td>1.00</td>\n",
       "      <td>NaN</td>\n",
       "      <td>NaN</td>\n",
       "      <td>NaN</td>\n",
       "      <td>0.00</td>\n",
       "      <td>NaN</td>\n",
       "      <td>NaN</td>\n",
       "      <td>NaN</td>\n",
       "      <td>NaN</td>\n",
       "      <td>NaN</td>\n",
       "      <td>NaN</td>\n",
       "      <td>NaN</td>\n",
       "      <td>NaN</td>\n",
       "      <td>NaN</td>\n",
       "      <td>NaN</td>\n",
       "      <td>NaN</td>\n",
       "      <td>NaN</td>\n",
       "      <td>NaN</td>\n",
       "      <td>NaN</td>\n",
       "      <td>NaN</td>\n",
       "      <td>NaN</td>\n",
       "      <td>NaN</td>\n",
       "      <td>NaN</td>\n",
       "      <td>NaN</td>\n",
       "      <td>NaN</td>\n",
       "      <td>NaN</td>\n",
       "      <td>0.00</td>\n",
       "      <td>0.00</td>\n",
       "      <td>NaN</td>\n",
       "      <td>NaN</td>\n",
       "      <td>NaN</td>\n",
       "      <td>NaN</td>\n",
       "      <td>NaN</td>\n",
       "      <td>NaN</td>\n",
       "      <td>NaN</td>\n",
       "      <td>NaN</td>\n",
       "      <td>NaN</td>\n",
       "      <td>NaN</td>\n",
       "      <td>NaN</td>\n",
       "      <td>NaN</td>\n",
       "      <td>NaN</td>\n",
       "      <td>NaN</td>\n",
       "      <td>NaN</td>\n",
       "      <td>NaN</td>\n",
       "      <td>NaN</td>\n",
       "      <td>NaN</td>\n",
       "      <td>NaN</td>\n",
       "      <td>NaN</td>\n",
       "      <td>NaN</td>\n",
       "      <td>NaN</td>\n",
       "      <td>NaN</td>\n",
       "      <td>NaN</td>\n",
       "      <td>NaN</td>\n",
       "      <td>0.00</td>\n",
       "      <td>0.00</td>\n",
       "      <td>NaN</td>\n",
       "      <td>NaN</td>\n",
       "      <td>NaN</td>\n",
       "      <td>NaN</td>\n",
       "    </tr>\n",
       "    <tr>\n",
       "      <th>max</th>\n",
       "      <td>1077501.00</td>\n",
       "      <td>1314167.00</td>\n",
       "      <td>35000.00</td>\n",
       "      <td>35000.00</td>\n",
       "      <td>35000.00</td>\n",
       "      <td>1305.19</td>\n",
       "      <td>6000000.00</td>\n",
       "      <td>29.99</td>\n",
       "      <td>11.00</td>\n",
       "      <td>8.00</td>\n",
       "      <td>120.00</td>\n",
       "      <td>129.00</td>\n",
       "      <td>44.00</td>\n",
       "      <td>4.00</td>\n",
       "      <td>149588.00</td>\n",
       "      <td>90.00</td>\n",
       "      <td>6311.47</td>\n",
       "      <td>6307.37</td>\n",
       "      <td>58563.68</td>\n",
       "      <td>58563.68</td>\n",
       "      <td>35000.02</td>\n",
       "      <td>23563.68</td>\n",
       "      <td>180.20</td>\n",
       "      <td>29623.35</td>\n",
       "      <td>7002.19</td>\n",
       "      <td>36115.20</td>\n",
       "      <td>0.00</td>\n",
       "      <td>NaN</td>\n",
       "      <td>1.00</td>\n",
       "      <td>NaN</td>\n",
       "      <td>NaN</td>\n",
       "      <td>NaN</td>\n",
       "      <td>0.00</td>\n",
       "      <td>NaN</td>\n",
       "      <td>NaN</td>\n",
       "      <td>NaN</td>\n",
       "      <td>NaN</td>\n",
       "      <td>NaN</td>\n",
       "      <td>NaN</td>\n",
       "      <td>NaN</td>\n",
       "      <td>NaN</td>\n",
       "      <td>NaN</td>\n",
       "      <td>NaN</td>\n",
       "      <td>NaN</td>\n",
       "      <td>NaN</td>\n",
       "      <td>NaN</td>\n",
       "      <td>NaN</td>\n",
       "      <td>NaN</td>\n",
       "      <td>NaN</td>\n",
       "      <td>NaN</td>\n",
       "      <td>NaN</td>\n",
       "      <td>NaN</td>\n",
       "      <td>NaN</td>\n",
       "      <td>NaN</td>\n",
       "      <td>0.00</td>\n",
       "      <td>0.00</td>\n",
       "      <td>NaN</td>\n",
       "      <td>NaN</td>\n",
       "      <td>NaN</td>\n",
       "      <td>NaN</td>\n",
       "      <td>NaN</td>\n",
       "      <td>NaN</td>\n",
       "      <td>NaN</td>\n",
       "      <td>NaN</td>\n",
       "      <td>NaN</td>\n",
       "      <td>NaN</td>\n",
       "      <td>NaN</td>\n",
       "      <td>NaN</td>\n",
       "      <td>NaN</td>\n",
       "      <td>NaN</td>\n",
       "      <td>NaN</td>\n",
       "      <td>NaN</td>\n",
       "      <td>NaN</td>\n",
       "      <td>NaN</td>\n",
       "      <td>NaN</td>\n",
       "      <td>NaN</td>\n",
       "      <td>NaN</td>\n",
       "      <td>NaN</td>\n",
       "      <td>NaN</td>\n",
       "      <td>NaN</td>\n",
       "      <td>NaN</td>\n",
       "      <td>2.00</td>\n",
       "      <td>0.00</td>\n",
       "      <td>NaN</td>\n",
       "      <td>NaN</td>\n",
       "      <td>NaN</td>\n",
       "      <td>NaN</td>\n",
       "    </tr>\n",
       "  </tbody>\n",
       "</table>\n",
       "</div>"
      ],
      "text/plain": [
       "              id  member_id  loan_amnt  funded_amnt  funded_amnt_inv  \\\n",
       "count   39717.00   39717.00   39717.00     39717.00         39717.00   \n",
       "mean   683131.91  850463.56   11219.44     10947.71         10397.45   \n",
       "std    210694.13  265678.31    7456.67      7187.24          7128.45   \n",
       "min     54734.00   70699.00     500.00       500.00             0.00   \n",
       "25%    516221.00  666780.00    5500.00      5400.00          5000.00   \n",
       "50%    665665.00  850812.00   10000.00      9600.00          8975.00   \n",
       "75%    837755.00 1047339.00   15000.00     15000.00         14400.00   \n",
       "max   1077501.00 1314167.00   35000.00     35000.00         35000.00   \n",
       "\n",
       "       installment  annual_inc      dti  delinq_2yrs  inq_last_6mths  \\\n",
       "count     39717.00    39717.00 39717.00     39717.00        39717.00   \n",
       "mean        324.56    68968.93    13.32         0.15            0.87   \n",
       "std         208.87    63793.77     6.68         0.49            1.07   \n",
       "min          15.69     4000.00     0.00         0.00            0.00   \n",
       "25%         167.02    40404.00     8.17         0.00            0.00   \n",
       "50%         280.22    59000.00    13.40         0.00            1.00   \n",
       "75%         430.78    82300.00    18.60         0.00            1.00   \n",
       "max        1305.19  6000000.00    29.99        11.00            8.00   \n",
       "\n",
       "       mths_since_last_delinq  mths_since_last_record  open_acc  pub_rec  \\\n",
       "count                14035.00                 2786.00  39717.00 39717.00   \n",
       "mean                    35.90                   69.70      9.29     0.06   \n",
       "std                     22.02                   43.82      4.40     0.24   \n",
       "min                      0.00                    0.00      2.00     0.00   \n",
       "25%                     18.00                   22.00      6.00     0.00   \n",
       "50%                     34.00                   90.00      9.00     0.00   \n",
       "75%                     52.00                  104.00     12.00     0.00   \n",
       "max                    120.00                  129.00     44.00     4.00   \n",
       "\n",
       "       revol_bal  total_acc  out_prncp  out_prncp_inv  total_pymnt  \\\n",
       "count   39717.00   39717.00   39717.00       39717.00     39717.00   \n",
       "mean    13382.53      22.09      51.23          50.99     12153.60   \n",
       "std     15885.02      11.40     375.17         373.82      9042.04   \n",
       "min         0.00       2.00       0.00           0.00         0.00   \n",
       "25%      3703.00      13.00       0.00           0.00      5576.93   \n",
       "50%      8850.00      20.00       0.00           0.00      9899.64   \n",
       "75%     17058.00      29.00       0.00           0.00     16534.43   \n",
       "max    149588.00      90.00    6311.47        6307.37     58563.68   \n",
       "\n",
       "       total_pymnt_inv  total_rec_prncp  total_rec_int  total_rec_late_fee  \\\n",
       "count         39717.00         39717.00       39717.00            39717.00   \n",
       "mean          11567.15          9793.35        2263.66                1.36   \n",
       "std            8942.67          7065.52        2608.11                7.29   \n",
       "min               0.00             0.00           0.00                0.00   \n",
       "25%            5112.31          4600.00         662.18                0.00   \n",
       "50%            9287.15          8000.00        1348.91                0.00   \n",
       "75%           15798.81         13653.26        2833.40                0.00   \n",
       "max           58563.68         35000.02       23563.68              180.20   \n",
       "\n",
       "       recoveries  collection_recovery_fee  last_pymnt_amnt  \\\n",
       "count    39717.00                 39717.00         39717.00   \n",
       "mean        95.22                    12.41          2678.83   \n",
       "std        688.74                   148.67          4447.14   \n",
       "min          0.00                     0.00             0.00   \n",
       "25%          0.00                     0.00           218.68   \n",
       "50%          0.00                     0.00           546.14   \n",
       "75%          0.00                     0.00          3293.16   \n",
       "max      29623.35                  7002.19         36115.20   \n",
       "\n",
       "       collections_12_mths_ex_med  mths_since_last_major_derog  policy_code  \\\n",
       "count                    39661.00                         0.00     39717.00   \n",
       "mean                         0.00                          NaN         1.00   \n",
       "std                          0.00                          NaN         0.00   \n",
       "min                          0.00                          NaN         1.00   \n",
       "25%                          0.00                          NaN         1.00   \n",
       "50%                          0.00                          NaN         1.00   \n",
       "75%                          0.00                          NaN         1.00   \n",
       "max                          0.00                          NaN         1.00   \n",
       "\n",
       "       annual_inc_joint  dti_joint  verification_status_joint  acc_now_delinq  \\\n",
       "count              0.00       0.00                       0.00        39717.00   \n",
       "mean                NaN        NaN                        NaN            0.00   \n",
       "std                 NaN        NaN                        NaN            0.00   \n",
       "min                 NaN        NaN                        NaN            0.00   \n",
       "25%                 NaN        NaN                        NaN            0.00   \n",
       "50%                 NaN        NaN                        NaN            0.00   \n",
       "75%                 NaN        NaN                        NaN            0.00   \n",
       "max                 NaN        NaN                        NaN            0.00   \n",
       "\n",
       "       tot_coll_amt  tot_cur_bal  open_acc_6m  open_il_6m  open_il_12m  \\\n",
       "count          0.00         0.00         0.00        0.00         0.00   \n",
       "mean            NaN          NaN          NaN         NaN          NaN   \n",
       "std             NaN          NaN          NaN         NaN          NaN   \n",
       "min             NaN          NaN          NaN         NaN          NaN   \n",
       "25%             NaN          NaN          NaN         NaN          NaN   \n",
       "50%             NaN          NaN          NaN         NaN          NaN   \n",
       "75%             NaN          NaN          NaN         NaN          NaN   \n",
       "max             NaN          NaN          NaN         NaN          NaN   \n",
       "\n",
       "       open_il_24m  mths_since_rcnt_il  total_bal_il  il_util  open_rv_12m  \\\n",
       "count         0.00                0.00          0.00     0.00         0.00   \n",
       "mean           NaN                 NaN           NaN      NaN          NaN   \n",
       "std            NaN                 NaN           NaN      NaN          NaN   \n",
       "min            NaN                 NaN           NaN      NaN          NaN   \n",
       "25%            NaN                 NaN           NaN      NaN          NaN   \n",
       "50%            NaN                 NaN           NaN      NaN          NaN   \n",
       "75%            NaN                 NaN           NaN      NaN          NaN   \n",
       "max            NaN                 NaN           NaN      NaN          NaN   \n",
       "\n",
       "       open_rv_24m  max_bal_bc  all_util  total_rev_hi_lim  inq_fi  \\\n",
       "count         0.00        0.00      0.00              0.00    0.00   \n",
       "mean           NaN         NaN       NaN               NaN     NaN   \n",
       "std            NaN         NaN       NaN               NaN     NaN   \n",
       "min            NaN         NaN       NaN               NaN     NaN   \n",
       "25%            NaN         NaN       NaN               NaN     NaN   \n",
       "50%            NaN         NaN       NaN               NaN     NaN   \n",
       "75%            NaN         NaN       NaN               NaN     NaN   \n",
       "max            NaN         NaN       NaN               NaN     NaN   \n",
       "\n",
       "       total_cu_tl  inq_last_12m  acc_open_past_24mths  avg_cur_bal  \\\n",
       "count         0.00          0.00                  0.00         0.00   \n",
       "mean           NaN           NaN                   NaN          NaN   \n",
       "std            NaN           NaN                   NaN          NaN   \n",
       "min            NaN           NaN                   NaN          NaN   \n",
       "25%            NaN           NaN                   NaN          NaN   \n",
       "50%            NaN           NaN                   NaN          NaN   \n",
       "75%            NaN           NaN                   NaN          NaN   \n",
       "max            NaN           NaN                   NaN          NaN   \n",
       "\n",
       "       bc_open_to_buy  bc_util  chargeoff_within_12_mths  delinq_amnt  \\\n",
       "count            0.00     0.00                  39661.00     39717.00   \n",
       "mean              NaN      NaN                      0.00         0.00   \n",
       "std               NaN      NaN                      0.00         0.00   \n",
       "min               NaN      NaN                      0.00         0.00   \n",
       "25%               NaN      NaN                      0.00         0.00   \n",
       "50%               NaN      NaN                      0.00         0.00   \n",
       "75%               NaN      NaN                      0.00         0.00   \n",
       "max               NaN      NaN                      0.00         0.00   \n",
       "\n",
       "       mo_sin_old_il_acct  mo_sin_old_rev_tl_op  mo_sin_rcnt_rev_tl_op  \\\n",
       "count                0.00                  0.00                   0.00   \n",
       "mean                  NaN                   NaN                    NaN   \n",
       "std                   NaN                   NaN                    NaN   \n",
       "min                   NaN                   NaN                    NaN   \n",
       "25%                   NaN                   NaN                    NaN   \n",
       "50%                   NaN                   NaN                    NaN   \n",
       "75%                   NaN                   NaN                    NaN   \n",
       "max                   NaN                   NaN                    NaN   \n",
       "\n",
       "       mo_sin_rcnt_tl  mort_acc  mths_since_recent_bc  \\\n",
       "count            0.00      0.00                  0.00   \n",
       "mean              NaN       NaN                   NaN   \n",
       "std               NaN       NaN                   NaN   \n",
       "min               NaN       NaN                   NaN   \n",
       "25%               NaN       NaN                   NaN   \n",
       "50%               NaN       NaN                   NaN   \n",
       "75%               NaN       NaN                   NaN   \n",
       "max               NaN       NaN                   NaN   \n",
       "\n",
       "       mths_since_recent_bc_dlq  mths_since_recent_inq  \\\n",
       "count                      0.00                   0.00   \n",
       "mean                        NaN                    NaN   \n",
       "std                         NaN                    NaN   \n",
       "min                         NaN                    NaN   \n",
       "25%                         NaN                    NaN   \n",
       "50%                         NaN                    NaN   \n",
       "75%                         NaN                    NaN   \n",
       "max                         NaN                    NaN   \n",
       "\n",
       "       mths_since_recent_revol_delinq  num_accts_ever_120_pd  num_actv_bc_tl  \\\n",
       "count                            0.00                   0.00            0.00   \n",
       "mean                              NaN                    NaN             NaN   \n",
       "std                               NaN                    NaN             NaN   \n",
       "min                               NaN                    NaN             NaN   \n",
       "25%                               NaN                    NaN             NaN   \n",
       "50%                               NaN                    NaN             NaN   \n",
       "75%                               NaN                    NaN             NaN   \n",
       "max                               NaN                    NaN             NaN   \n",
       "\n",
       "       num_actv_rev_tl  num_bc_sats  num_bc_tl  num_il_tl  num_op_rev_tl  \\\n",
       "count             0.00         0.00       0.00       0.00           0.00   \n",
       "mean               NaN          NaN        NaN        NaN            NaN   \n",
       "std                NaN          NaN        NaN        NaN            NaN   \n",
       "min                NaN          NaN        NaN        NaN            NaN   \n",
       "25%                NaN          NaN        NaN        NaN            NaN   \n",
       "50%                NaN          NaN        NaN        NaN            NaN   \n",
       "75%                NaN          NaN        NaN        NaN            NaN   \n",
       "max                NaN          NaN        NaN        NaN            NaN   \n",
       "\n",
       "       num_rev_accts  num_rev_tl_bal_gt_0  num_sats  num_tl_120dpd_2m  \\\n",
       "count           0.00                 0.00      0.00              0.00   \n",
       "mean             NaN                  NaN       NaN               NaN   \n",
       "std              NaN                  NaN       NaN               NaN   \n",
       "min              NaN                  NaN       NaN               NaN   \n",
       "25%              NaN                  NaN       NaN               NaN   \n",
       "50%              NaN                  NaN       NaN               NaN   \n",
       "75%              NaN                  NaN       NaN               NaN   \n",
       "max              NaN                  NaN       NaN               NaN   \n",
       "\n",
       "       num_tl_30dpd  num_tl_90g_dpd_24m  num_tl_op_past_12m  pct_tl_nvr_dlq  \\\n",
       "count          0.00                0.00                0.00            0.00   \n",
       "mean            NaN                 NaN                 NaN             NaN   \n",
       "std             NaN                 NaN                 NaN             NaN   \n",
       "min             NaN                 NaN                 NaN             NaN   \n",
       "25%             NaN                 NaN                 NaN             NaN   \n",
       "50%             NaN                 NaN                 NaN             NaN   \n",
       "75%             NaN                 NaN                 NaN             NaN   \n",
       "max             NaN                 NaN                 NaN             NaN   \n",
       "\n",
       "       percent_bc_gt_75  pub_rec_bankruptcies  tax_liens  tot_hi_cred_lim  \\\n",
       "count              0.00              39020.00   39678.00             0.00   \n",
       "mean                NaN                  0.04       0.00              NaN   \n",
       "std                 NaN                  0.20       0.00              NaN   \n",
       "min                 NaN                  0.00       0.00              NaN   \n",
       "25%                 NaN                  0.00       0.00              NaN   \n",
       "50%                 NaN                  0.00       0.00              NaN   \n",
       "75%                 NaN                  0.00       0.00              NaN   \n",
       "max                 NaN                  2.00       0.00              NaN   \n",
       "\n",
       "       total_bal_ex_mort  total_bc_limit  total_il_high_credit_limit  \n",
       "count               0.00            0.00                        0.00  \n",
       "mean                 NaN             NaN                         NaN  \n",
       "std                  NaN             NaN                         NaN  \n",
       "min                  NaN             NaN                         NaN  \n",
       "25%                  NaN             NaN                         NaN  \n",
       "50%                  NaN             NaN                         NaN  \n",
       "75%                  NaN             NaN                         NaN  \n",
       "max                  NaN             NaN                         NaN  "
      ]
     },
     "execution_count": 6,
     "metadata": {},
     "output_type": "execute_result"
    }
   ],
   "source": [
    "loandata.describe()"
   ]
  },
  {
   "cell_type": "markdown",
   "id": "522ea5c5",
   "metadata": {},
   "source": [
    "### Checking the null columns"
   ]
  },
  {
   "cell_type": "code",
   "execution_count": 7,
   "id": "7f2f11ef",
   "metadata": {
    "scrolled": false
   },
   "outputs": [
    {
     "name": "stdout",
     "output_type": "stream",
     "text": [
      "<class 'pandas.core.frame.DataFrame'>\n",
      "RangeIndex: 39717 entries, 0 to 39716\n",
      "Columns: 111 entries, id to total_il_high_credit_limit\n",
      "dtypes: float64(74), int64(13), object(24)\n",
      "memory usage: 33.6+ MB\n"
     ]
    }
   ],
   "source": [
    "loandata.info()"
   ]
  },
  {
   "cell_type": "code",
   "execution_count": 8,
   "id": "430b41a8",
   "metadata": {},
   "outputs": [
    {
     "data": {
      "text/plain": [
       "id                                    0\n",
       "member_id                             0\n",
       "loan_amnt                             0\n",
       "funded_amnt                           0\n",
       "funded_amnt_inv                       0\n",
       "term                                  0\n",
       "int_rate                              0\n",
       "installment                           0\n",
       "grade                                 0\n",
       "sub_grade                             0\n",
       "emp_title                          2459\n",
       "emp_length                         1075\n",
       "home_ownership                        0\n",
       "annual_inc                            0\n",
       "verification_status                   0\n",
       "issue_d                               0\n",
       "loan_status                           0\n",
       "pymnt_plan                            0\n",
       "url                                   0\n",
       "desc                              12940\n",
       "purpose                               0\n",
       "title                                11\n",
       "zip_code                              0\n",
       "addr_state                            0\n",
       "dti                                   0\n",
       "delinq_2yrs                           0\n",
       "earliest_cr_line                      0\n",
       "inq_last_6mths                        0\n",
       "mths_since_last_delinq            25682\n",
       "mths_since_last_record            36931\n",
       "open_acc                              0\n",
       "pub_rec                               0\n",
       "revol_bal                             0\n",
       "revol_util                           50\n",
       "total_acc                             0\n",
       "initial_list_status                   0\n",
       "out_prncp                             0\n",
       "out_prncp_inv                         0\n",
       "total_pymnt                           0\n",
       "total_pymnt_inv                       0\n",
       "total_rec_prncp                       0\n",
       "total_rec_int                         0\n",
       "total_rec_late_fee                    0\n",
       "recoveries                            0\n",
       "collection_recovery_fee               0\n",
       "last_pymnt_d                         71\n",
       "last_pymnt_amnt                       0\n",
       "next_pymnt_d                      38577\n",
       "last_credit_pull_d                    2\n",
       "collections_12_mths_ex_med           56\n",
       "mths_since_last_major_derog       39717\n",
       "policy_code                           0\n",
       "application_type                      0\n",
       "annual_inc_joint                  39717\n",
       "dti_joint                         39717\n",
       "verification_status_joint         39717\n",
       "acc_now_delinq                        0\n",
       "tot_coll_amt                      39717\n",
       "tot_cur_bal                       39717\n",
       "open_acc_6m                       39717\n",
       "open_il_6m                        39717\n",
       "open_il_12m                       39717\n",
       "open_il_24m                       39717\n",
       "mths_since_rcnt_il                39717\n",
       "total_bal_il                      39717\n",
       "il_util                           39717\n",
       "open_rv_12m                       39717\n",
       "open_rv_24m                       39717\n",
       "max_bal_bc                        39717\n",
       "all_util                          39717\n",
       "total_rev_hi_lim                  39717\n",
       "inq_fi                            39717\n",
       "total_cu_tl                       39717\n",
       "inq_last_12m                      39717\n",
       "acc_open_past_24mths              39717\n",
       "avg_cur_bal                       39717\n",
       "bc_open_to_buy                    39717\n",
       "bc_util                           39717\n",
       "chargeoff_within_12_mths             56\n",
       "delinq_amnt                           0\n",
       "mo_sin_old_il_acct                39717\n",
       "mo_sin_old_rev_tl_op              39717\n",
       "mo_sin_rcnt_rev_tl_op             39717\n",
       "mo_sin_rcnt_tl                    39717\n",
       "mort_acc                          39717\n",
       "mths_since_recent_bc              39717\n",
       "mths_since_recent_bc_dlq          39717\n",
       "mths_since_recent_inq             39717\n",
       "mths_since_recent_revol_delinq    39717\n",
       "num_accts_ever_120_pd             39717\n",
       "num_actv_bc_tl                    39717\n",
       "num_actv_rev_tl                   39717\n",
       "num_bc_sats                       39717\n",
       "num_bc_tl                         39717\n",
       "num_il_tl                         39717\n",
       "num_op_rev_tl                     39717\n",
       "num_rev_accts                     39717\n",
       "num_rev_tl_bal_gt_0               39717\n",
       "num_sats                          39717\n",
       "num_tl_120dpd_2m                  39717\n",
       "num_tl_30dpd                      39717\n",
       "num_tl_90g_dpd_24m                39717\n",
       "num_tl_op_past_12m                39717\n",
       "pct_tl_nvr_dlq                    39717\n",
       "percent_bc_gt_75                  39717\n",
       "pub_rec_bankruptcies                697\n",
       "tax_liens                            39\n",
       "tot_hi_cred_lim                   39717\n",
       "total_bal_ex_mort                 39717\n",
       "total_bc_limit                    39717\n",
       "total_il_high_credit_limit        39717\n",
       "dtype: int64"
      ]
     },
     "execution_count": 8,
     "metadata": {},
     "output_type": "execute_result"
    }
   ],
   "source": [
    "loandata.isnull().sum()"
   ]
  },
  {
   "cell_type": "markdown",
   "id": "fae5c8a7",
   "metadata": {},
   "source": [
    "### Removing columns and rows with all null values"
   ]
  },
  {
   "cell_type": "code",
   "execution_count": 9,
   "id": "b57077e4",
   "metadata": {},
   "outputs": [
    {
     "data": {
      "text/plain": [
       "(39717, 57)"
      ]
     },
     "execution_count": 9,
     "metadata": {},
     "output_type": "execute_result"
    }
   ],
   "source": [
    "#columns\n",
    "loandata = loandata.dropna(axis=1, how='all')\n",
    "loandata.shape\n",
    "#observation: from 111 columns we came to 57 columns now"
   ]
  },
  {
   "cell_type": "code",
   "execution_count": 10,
   "id": "prospective-cable",
   "metadata": {},
   "outputs": [
    {
     "data": {
      "text/plain": [
       "(39717, 57)"
      ]
     },
     "execution_count": 10,
     "metadata": {},
     "output_type": "execute_result"
    }
   ],
   "source": [
    "#rows\n",
    "loandata = loandata.dropna(axis=0, how='all')\n",
    "\n",
    "loandata.shape\n",
    "#observation: there are no rows with all null values"
   ]
  },
  {
   "cell_type": "code",
   "execution_count": 11,
   "id": "ec712a9e",
   "metadata": {},
   "outputs": [
    {
     "data": {
      "text/plain": [
       "Index(['id', 'member_id', 'loan_amnt', 'funded_amnt', 'funded_amnt_inv',\n",
       "       'term', 'int_rate', 'installment', 'grade', 'sub_grade', 'emp_title',\n",
       "       'emp_length', 'home_ownership', 'annual_inc', 'verification_status',\n",
       "       'issue_d', 'loan_status', 'pymnt_plan', 'url', 'desc', 'purpose',\n",
       "       'title', 'zip_code', 'addr_state', 'dti', 'delinq_2yrs',\n",
       "       'earliest_cr_line', 'inq_last_6mths', 'mths_since_last_delinq',\n",
       "       'mths_since_last_record', 'open_acc', 'pub_rec', 'revol_bal',\n",
       "       'revol_util', 'total_acc', 'initial_list_status', 'out_prncp',\n",
       "       'out_prncp_inv', 'total_pymnt', 'total_pymnt_inv', 'total_rec_prncp',\n",
       "       'total_rec_int', 'total_rec_late_fee', 'recoveries',\n",
       "       'collection_recovery_fee', 'last_pymnt_d', 'last_pymnt_amnt',\n",
       "       'next_pymnt_d', 'last_credit_pull_d', 'collections_12_mths_ex_med',\n",
       "       'policy_code', 'application_type', 'acc_now_delinq',\n",
       "       'chargeoff_within_12_mths', 'delinq_amnt', 'pub_rec_bankruptcies',\n",
       "       'tax_liens'],\n",
       "      dtype='object')"
      ]
     },
     "execution_count": 11,
     "metadata": {},
     "output_type": "execute_result"
    }
   ],
   "source": [
    "loandata.columns"
   ]
  },
  {
   "cell_type": "code",
   "execution_count": 12,
   "id": "d988dc9d",
   "metadata": {},
   "outputs": [
    {
     "data": {
      "text/plain": [
       "id                                0\n",
       "member_id                         0\n",
       "loan_amnt                         0\n",
       "funded_amnt                       0\n",
       "funded_amnt_inv                   0\n",
       "term                              0\n",
       "int_rate                          0\n",
       "installment                       0\n",
       "grade                             0\n",
       "sub_grade                         0\n",
       "emp_title                      2459\n",
       "emp_length                     1075\n",
       "home_ownership                    0\n",
       "annual_inc                        0\n",
       "verification_status               0\n",
       "issue_d                           0\n",
       "loan_status                       0\n",
       "pymnt_plan                        0\n",
       "url                               0\n",
       "desc                          12940\n",
       "purpose                           0\n",
       "title                            11\n",
       "zip_code                          0\n",
       "addr_state                        0\n",
       "dti                               0\n",
       "delinq_2yrs                       0\n",
       "earliest_cr_line                  0\n",
       "inq_last_6mths                    0\n",
       "mths_since_last_delinq        25682\n",
       "mths_since_last_record        36931\n",
       "open_acc                          0\n",
       "pub_rec                           0\n",
       "revol_bal                         0\n",
       "revol_util                       50\n",
       "total_acc                         0\n",
       "initial_list_status               0\n",
       "out_prncp                         0\n",
       "out_prncp_inv                     0\n",
       "total_pymnt                       0\n",
       "total_pymnt_inv                   0\n",
       "total_rec_prncp                   0\n",
       "total_rec_int                     0\n",
       "total_rec_late_fee                0\n",
       "recoveries                        0\n",
       "collection_recovery_fee           0\n",
       "last_pymnt_d                     71\n",
       "last_pymnt_amnt                   0\n",
       "next_pymnt_d                  38577\n",
       "last_credit_pull_d                2\n",
       "collections_12_mths_ex_med       56\n",
       "policy_code                       0\n",
       "application_type                  0\n",
       "acc_now_delinq                    0\n",
       "chargeoff_within_12_mths         56\n",
       "delinq_amnt                       0\n",
       "pub_rec_bankruptcies            697\n",
       "tax_liens                        39\n",
       "dtype: int64"
      ]
     },
     "execution_count": 12,
     "metadata": {},
     "output_type": "execute_result"
    }
   ],
   "source": [
    "loandata.isnull().sum()"
   ]
  },
  {
   "cell_type": "markdown",
   "id": "e1a2af7a",
   "metadata": {},
   "source": [
    "### Removing columns with considerably large number of null values"
   ]
  },
  {
   "cell_type": "code",
   "execution_count": 13,
   "id": "813c1bba",
   "metadata": {},
   "outputs": [],
   "source": [
    "droplist1 = [ \"mths_since_last_delinq\", \"mths_since_last_record\", \"next_pymnt_d\"]\n",
    "loandata.drop(labels = droplist1, axis=1, inplace = True)"
   ]
  },
  {
   "cell_type": "code",
   "execution_count": 14,
   "id": "06928b10",
   "metadata": {},
   "outputs": [
    {
     "data": {
      "text/plain": [
       "(39717, 54)"
      ]
     },
     "execution_count": 14,
     "metadata": {},
     "output_type": "execute_result"
    }
   ],
   "source": [
    "loandata.shape"
   ]
  },
  {
   "cell_type": "markdown",
   "id": "445c09f1",
   "metadata": {},
   "source": [
    "### Handling columns with all same values or all values are unique"
   ]
  },
  {
   "cell_type": "code",
   "execution_count": 15,
   "id": "d5b5bb53",
   "metadata": {},
   "outputs": [
    {
     "name": "stdout",
     "output_type": "stream",
     "text": [
      "id                            39717\n",
      "member_id                     39717\n",
      "loan_amnt                       885\n",
      "funded_amnt                    1041\n",
      "funded_amnt_inv                8205\n",
      "term                              2\n",
      "int_rate                        371\n",
      "installment                   15383\n",
      "grade                             7\n",
      "sub_grade                        35\n",
      "emp_title                     28820\n",
      "emp_length                       11\n",
      "home_ownership                    5\n",
      "annual_inc                     5318\n",
      "verification_status               3\n",
      "issue_d                          55\n",
      "loan_status                       3\n",
      "pymnt_plan                        1\n",
      "url                           39717\n",
      "desc                          26527\n",
      "purpose                          14\n",
      "title                         19615\n",
      "zip_code                        823\n",
      "addr_state                       50\n",
      "dti                            2868\n",
      "delinq_2yrs                      11\n",
      "earliest_cr_line                526\n",
      "inq_last_6mths                    9\n",
      "open_acc                         40\n",
      "pub_rec                           5\n",
      "revol_bal                     21711\n",
      "revol_util                     1089\n",
      "total_acc                        82\n",
      "initial_list_status               1\n",
      "out_prncp                      1137\n",
      "out_prncp_inv                  1138\n",
      "total_pymnt                   37850\n",
      "total_pymnt_inv               37518\n",
      "total_rec_prncp                7976\n",
      "total_rec_int                 35148\n",
      "total_rec_late_fee             1356\n",
      "recoveries                     4040\n",
      "collection_recovery_fee        2616\n",
      "last_pymnt_d                    101\n",
      "last_pymnt_amnt               34930\n",
      "last_credit_pull_d              106\n",
      "collections_12_mths_ex_med        1\n",
      "policy_code                       1\n",
      "application_type                  1\n",
      "acc_now_delinq                    1\n",
      "chargeoff_within_12_mths          1\n",
      "delinq_amnt                       1\n",
      "pub_rec_bankruptcies              3\n",
      "tax_liens                         1\n",
      "dtype: int64\n"
     ]
    }
   ],
   "source": [
    "unique_col_values = loandata.nunique()\n",
    "print(unique_col_values)"
   ]
  },
  {
   "cell_type": "code",
   "execution_count": 16,
   "id": "03fcb9cd",
   "metadata": {},
   "outputs": [],
   "source": [
    "droplist2 = unique_col_values[(unique_col_values.values == 1) | (unique_col_values.values == 39717)]\n",
    "droplist2.index\n",
    "loandata.drop(labels = droplist2.index, axis=1, inplace = True)"
   ]
  },
  {
   "cell_type": "code",
   "execution_count": 17,
   "id": "700f8a5e",
   "metadata": {},
   "outputs": [
    {
     "data": {
      "text/plain": [
       "(39717, 42)"
      ]
     },
     "execution_count": 17,
     "metadata": {},
     "output_type": "execute_result"
    }
   ],
   "source": [
    "loandata.shape\n",
    "#from total 111 features we came to 42 features now"
   ]
  },
  {
   "cell_type": "code",
   "execution_count": 18,
   "id": "b2ed89e7",
   "metadata": {},
   "outputs": [
    {
     "data": {
      "text/plain": [
       "Index(['loan_amnt', 'funded_amnt', 'funded_amnt_inv', 'term', 'int_rate',\n",
       "       'installment', 'grade', 'sub_grade', 'emp_title', 'emp_length',\n",
       "       'home_ownership', 'annual_inc', 'verification_status', 'issue_d',\n",
       "       'loan_status', 'desc', 'purpose', 'title', 'zip_code', 'addr_state',\n",
       "       'dti', 'delinq_2yrs', 'earliest_cr_line', 'inq_last_6mths', 'open_acc',\n",
       "       'pub_rec', 'revol_bal', 'revol_util', 'total_acc', 'out_prncp',\n",
       "       'out_prncp_inv', 'total_pymnt', 'total_pymnt_inv', 'total_rec_prncp',\n",
       "       'total_rec_int', 'total_rec_late_fee', 'recoveries',\n",
       "       'collection_recovery_fee', 'last_pymnt_d', 'last_pymnt_amnt',\n",
       "       'last_credit_pull_d', 'pub_rec_bankruptcies'],\n",
       "      dtype='object')"
      ]
     },
     "execution_count": 18,
     "metadata": {},
     "output_type": "execute_result"
    }
   ],
   "source": [
    "loandata.columns"
   ]
  },
  {
   "cell_type": "markdown",
   "id": "political-facing",
   "metadata": {},
   "source": [
    "## Removing fields created after loan approval"
   ]
  },
  {
   "cell_type": "markdown",
   "id": "noble-observer",
   "metadata": {},
   "source": [
    " Here some attributes are not known at the time when loan application is received. Because we have to deal with information LC receive at before approving the loan and decide whether we should approve the loan or not. So removing those columns in which we have infromation after loan is approved."
   ]
  },
  {
   "cell_type": "code",
   "execution_count": 19,
   "id": "46f9a9a8",
   "metadata": {},
   "outputs": [
    {
     "data": {
      "text/plain": [
       "(39717, 22)"
      ]
     },
     "execution_count": 19,
     "metadata": {},
     "output_type": "execute_result"
    }
   ],
   "source": [
    "droplist3=[\"out_prncp\",\"out_prncp_inv\",\"total_pymnt\",\"total_pymnt_inv\",'delinq_2yrs','earliest_cr_line', 'inq_last_6mths',\n",
    "           'open_acc','revol_bal','revol_util','total_acc',\"total_rec_prncp\",\"total_rec_int\",\"total_rec_late_fee\",\n",
    "           'pub_rec', \"recoveries\",\"collection_recovery_fee\", \"last_pymnt_d\",\"last_pymnt_amnt\",\"last_credit_pull_d\"]\n",
    "loandata.drop(labels = droplist3, axis=1, inplace = True)\n",
    "loandata.shape"
   ]
  },
  {
   "cell_type": "code",
   "execution_count": 20,
   "id": "f74a29f5",
   "metadata": {
    "scrolled": true
   },
   "outputs": [
    {
     "data": {
      "text/plain": [
       "Index(['loan_amnt', 'funded_amnt', 'funded_amnt_inv', 'term', 'int_rate',\n",
       "       'installment', 'grade', 'sub_grade', 'emp_title', 'emp_length',\n",
       "       'home_ownership', 'annual_inc', 'verification_status', 'issue_d',\n",
       "       'loan_status', 'desc', 'purpose', 'title', 'zip_code', 'addr_state',\n",
       "       'dti', 'pub_rec_bankruptcies'],\n",
       "      dtype='object')"
      ]
     },
     "execution_count": 20,
     "metadata": {},
     "output_type": "execute_result"
    }
   ],
   "source": [
    "loandata.columns"
   ]
  },
  {
   "cell_type": "code",
   "execution_count": 21,
   "id": "8b1812bb",
   "metadata": {
    "scrolled": true
   },
   "outputs": [
    {
     "name": "stdout",
     "output_type": "stream",
     "text": [
      "<class 'pandas.core.frame.DataFrame'>\n",
      "Int64Index: 39717 entries, 0 to 39716\n",
      "Data columns (total 22 columns):\n",
      " #   Column                Non-Null Count  Dtype  \n",
      "---  ------                --------------  -----  \n",
      " 0   loan_amnt             39717 non-null  int64  \n",
      " 1   funded_amnt           39717 non-null  int64  \n",
      " 2   funded_amnt_inv       39717 non-null  float64\n",
      " 3   term                  39717 non-null  object \n",
      " 4   int_rate              39717 non-null  object \n",
      " 5   installment           39717 non-null  float64\n",
      " 6   grade                 39717 non-null  object \n",
      " 7   sub_grade             39717 non-null  object \n",
      " 8   emp_title             37258 non-null  object \n",
      " 9   emp_length            38642 non-null  object \n",
      " 10  home_ownership        39717 non-null  object \n",
      " 11  annual_inc            39717 non-null  float64\n",
      " 12  verification_status   39717 non-null  object \n",
      " 13  issue_d               39717 non-null  object \n",
      " 14  loan_status           39717 non-null  object \n",
      " 15  desc                  26777 non-null  object \n",
      " 16  purpose               39717 non-null  object \n",
      " 17  title                 39706 non-null  object \n",
      " 18  zip_code              39717 non-null  object \n",
      " 19  addr_state            39717 non-null  object \n",
      " 20  dti                   39717 non-null  float64\n",
      " 21  pub_rec_bankruptcies  39020 non-null  float64\n",
      "dtypes: float64(5), int64(2), object(15)\n",
      "memory usage: 7.0+ MB\n"
     ]
    }
   ],
   "source": [
    "loandata.info()"
   ]
  },
  {
   "cell_type": "code",
   "execution_count": 22,
   "id": "d71797e6",
   "metadata": {
    "scrolled": true
   },
   "outputs": [
    {
     "data": {
      "text/html": [
       "<div>\n",
       "<style scoped>\n",
       "    .dataframe tbody tr th:only-of-type {\n",
       "        vertical-align: middle;\n",
       "    }\n",
       "\n",
       "    .dataframe tbody tr th {\n",
       "        vertical-align: top;\n",
       "    }\n",
       "\n",
       "    .dataframe thead th {\n",
       "        text-align: right;\n",
       "    }\n",
       "</style>\n",
       "<table border=\"1\" class=\"dataframe\">\n",
       "  <thead>\n",
       "    <tr style=\"text-align: right;\">\n",
       "      <th></th>\n",
       "      <th>loan_amnt</th>\n",
       "      <th>funded_amnt</th>\n",
       "      <th>funded_amnt_inv</th>\n",
       "      <th>term</th>\n",
       "      <th>int_rate</th>\n",
       "      <th>installment</th>\n",
       "      <th>grade</th>\n",
       "      <th>sub_grade</th>\n",
       "      <th>emp_title</th>\n",
       "      <th>emp_length</th>\n",
       "      <th>home_ownership</th>\n",
       "      <th>annual_inc</th>\n",
       "      <th>verification_status</th>\n",
       "      <th>issue_d</th>\n",
       "      <th>loan_status</th>\n",
       "      <th>desc</th>\n",
       "      <th>purpose</th>\n",
       "      <th>title</th>\n",
       "      <th>zip_code</th>\n",
       "      <th>addr_state</th>\n",
       "      <th>dti</th>\n",
       "      <th>pub_rec_bankruptcies</th>\n",
       "    </tr>\n",
       "  </thead>\n",
       "  <tbody>\n",
       "    <tr>\n",
       "      <th>0</th>\n",
       "      <td>5000</td>\n",
       "      <td>5000</td>\n",
       "      <td>4975.00</td>\n",
       "      <td>36 months</td>\n",
       "      <td>10.65%</td>\n",
       "      <td>162.87</td>\n",
       "      <td>B</td>\n",
       "      <td>B2</td>\n",
       "      <td>NaN</td>\n",
       "      <td>10+ years</td>\n",
       "      <td>RENT</td>\n",
       "      <td>24000.00</td>\n",
       "      <td>Verified</td>\n",
       "      <td>Dec-11</td>\n",
       "      <td>Fully Paid</td>\n",
       "      <td>Borrower added on 12/22/11 &gt; I need to upgra...</td>\n",
       "      <td>credit_card</td>\n",
       "      <td>Computer</td>\n",
       "      <td>860xx</td>\n",
       "      <td>AZ</td>\n",
       "      <td>27.65</td>\n",
       "      <td>0.00</td>\n",
       "    </tr>\n",
       "    <tr>\n",
       "      <th>1</th>\n",
       "      <td>2500</td>\n",
       "      <td>2500</td>\n",
       "      <td>2500.00</td>\n",
       "      <td>60 months</td>\n",
       "      <td>15.27%</td>\n",
       "      <td>59.83</td>\n",
       "      <td>C</td>\n",
       "      <td>C4</td>\n",
       "      <td>Ryder</td>\n",
       "      <td>&lt; 1 year</td>\n",
       "      <td>RENT</td>\n",
       "      <td>30000.00</td>\n",
       "      <td>Source Verified</td>\n",
       "      <td>Dec-11</td>\n",
       "      <td>Charged Off</td>\n",
       "      <td>Borrower added on 12/22/11 &gt; I plan to use t...</td>\n",
       "      <td>car</td>\n",
       "      <td>bike</td>\n",
       "      <td>309xx</td>\n",
       "      <td>GA</td>\n",
       "      <td>1.00</td>\n",
       "      <td>0.00</td>\n",
       "    </tr>\n",
       "  </tbody>\n",
       "</table>\n",
       "</div>"
      ],
      "text/plain": [
       "   loan_amnt  funded_amnt  funded_amnt_inv        term int_rate  installment  \\\n",
       "0       5000         5000          4975.00   36 months   10.65%       162.87   \n",
       "1       2500         2500          2500.00   60 months   15.27%        59.83   \n",
       "\n",
       "  grade sub_grade emp_title emp_length home_ownership  annual_inc  \\\n",
       "0     B        B2       NaN  10+ years           RENT    24000.00   \n",
       "1     C        C4     Ryder   < 1 year           RENT    30000.00   \n",
       "\n",
       "  verification_status issue_d  loan_status  \\\n",
       "0            Verified  Dec-11   Fully Paid   \n",
       "1     Source Verified  Dec-11  Charged Off   \n",
       "\n",
       "                                                desc      purpose     title  \\\n",
       "0    Borrower added on 12/22/11 > I need to upgra...  credit_card  Computer   \n",
       "1    Borrower added on 12/22/11 > I plan to use t...          car      bike   \n",
       "\n",
       "  zip_code addr_state   dti  pub_rec_bankruptcies  \n",
       "0    860xx         AZ 27.65                  0.00  \n",
       "1    309xx         GA  1.00                  0.00  "
      ]
     },
     "execution_count": 22,
     "metadata": {},
     "output_type": "execute_result"
    }
   ],
   "source": [
    "loandata.head(2)"
   ]
  },
  {
   "cell_type": "markdown",
   "id": "ahead-pride",
   "metadata": {},
   "source": [
    "### converting amount related fields to numeric"
   ]
  },
  {
   "cell_type": "code",
   "execution_count": 23,
   "id": "fb8c82e6",
   "metadata": {},
   "outputs": [],
   "source": [
    "# converting amount related fields to numeric i.e. 'int_rate','emp_length'\n",
    "#we will get an error at below line since int_rate field contains \"%\" sign in it\n",
    "#lets remove the sign and convert it to float\n",
    "loandata['int_rate_flt']=loandata['int_rate'].apply(lambda x:float(x.replace('%','')))\n",
    "#pd.unique(loandata['int_rate_flt'])"
   ]
  },
  {
   "cell_type": "code",
   "execution_count": 24,
   "id": "proper-basin",
   "metadata": {},
   "outputs": [],
   "source": [
    "loandata=loandata.drop(['int_rate'], axis = 1)"
   ]
  },
  {
   "cell_type": "markdown",
   "id": "0c9b13b5",
   "metadata": {},
   "source": [
    "### Extracting year and month from issue_d column; creating issue_year and issue_month as derived column"
   ]
  },
  {
   "cell_type": "code",
   "execution_count": 25,
   "id": "19c80dc4",
   "metadata": {},
   "outputs": [],
   "source": [
    "loandata['issue_d']=pd.to_datetime(loandata['issue_d'],format='%b-%y')\n",
    "loandata['issue_year']=loandata['issue_d'].dt.year\n",
    "loandata['issue_month']=loandata['issue_d'].dt.month"
   ]
  },
  {
   "cell_type": "code",
   "execution_count": 26,
   "id": "3649e808",
   "metadata": {},
   "outputs": [
    {
     "data": {
      "text/plain": [
       "array(['Fully Paid', 'Charged Off', 'Current'], dtype=object)"
      ]
     },
     "execution_count": 26,
     "metadata": {},
     "output_type": "execute_result"
    }
   ],
   "source": [
    "pd.unique(loandata['loan_status'])"
   ]
  },
  {
   "cell_type": "markdown",
   "id": "delayed-significance",
   "metadata": {},
   "source": [
    "### Dropping rows with loan status as \"current\""
   ]
  },
  {
   "cell_type": "markdown",
   "id": "89adc37d",
   "metadata": {},
   "source": [
    "We need to drop the loan with status “Current” because these are running loan. We are not including it in analysis because our main aim was to analyse the key factors which will impact the loan being fully paid or charged off. Therefore minimising the company loses."
   ]
  },
  {
   "cell_type": "code",
   "execution_count": 27,
   "id": "fad4c260",
   "metadata": {},
   "outputs": [],
   "source": [
    "loandata=loandata[loandata['loan_status']!='Current']"
   ]
  },
  {
   "cell_type": "markdown",
   "id": "3b3395ba",
   "metadata": {},
   "source": [
    "## Univariate Analysis"
   ]
  },
  {
   "cell_type": "markdown",
   "id": "5d264d5d",
   "metadata": {},
   "source": [
    "Now analysing the each columns to check what type of values we have in each column"
   ]
  },
  {
   "cell_type": "code",
   "execution_count": 28,
   "id": "054677c1",
   "metadata": {
    "scrolled": true
   },
   "outputs": [
    {
     "data": {
      "text/html": [
       "<div>\n",
       "<style scoped>\n",
       "    .dataframe tbody tr th:only-of-type {\n",
       "        vertical-align: middle;\n",
       "    }\n",
       "\n",
       "    .dataframe tbody tr th {\n",
       "        vertical-align: top;\n",
       "    }\n",
       "\n",
       "    .dataframe thead th {\n",
       "        text-align: right;\n",
       "    }\n",
       "</style>\n",
       "<table border=\"1\" class=\"dataframe\">\n",
       "  <thead>\n",
       "    <tr style=\"text-align: right;\">\n",
       "      <th></th>\n",
       "      <th>loan_amnt</th>\n",
       "      <th>funded_amnt</th>\n",
       "      <th>funded_amnt_inv</th>\n",
       "      <th>installment</th>\n",
       "      <th>annual_inc</th>\n",
       "      <th>dti</th>\n",
       "      <th>pub_rec_bankruptcies</th>\n",
       "      <th>int_rate_flt</th>\n",
       "      <th>issue_year</th>\n",
       "      <th>issue_month</th>\n",
       "    </tr>\n",
       "  </thead>\n",
       "  <tbody>\n",
       "    <tr>\n",
       "      <th>count</th>\n",
       "      <td>38577.00</td>\n",
       "      <td>38577.00</td>\n",
       "      <td>38577.00</td>\n",
       "      <td>38577.00</td>\n",
       "      <td>38577.00</td>\n",
       "      <td>38577.00</td>\n",
       "      <td>37880.00</td>\n",
       "      <td>38577.00</td>\n",
       "      <td>38577.00</td>\n",
       "      <td>38577.00</td>\n",
       "    </tr>\n",
       "    <tr>\n",
       "      <th>mean</th>\n",
       "      <td>11047.03</td>\n",
       "      <td>10784.06</td>\n",
       "      <td>10222.48</td>\n",
       "      <td>322.47</td>\n",
       "      <td>68777.97</td>\n",
       "      <td>13.27</td>\n",
       "      <td>0.04</td>\n",
       "      <td>11.93</td>\n",
       "      <td>2010.31</td>\n",
       "      <td>7.11</td>\n",
       "    </tr>\n",
       "    <tr>\n",
       "      <th>std</th>\n",
       "      <td>7348.44</td>\n",
       "      <td>7090.31</td>\n",
       "      <td>7022.72</td>\n",
       "      <td>208.64</td>\n",
       "      <td>64218.68</td>\n",
       "      <td>6.67</td>\n",
       "      <td>0.20</td>\n",
       "      <td>3.69</td>\n",
       "      <td>0.88</td>\n",
       "      <td>3.41</td>\n",
       "    </tr>\n",
       "    <tr>\n",
       "      <th>min</th>\n",
       "      <td>500.00</td>\n",
       "      <td>500.00</td>\n",
       "      <td>0.00</td>\n",
       "      <td>15.69</td>\n",
       "      <td>4000.00</td>\n",
       "      <td>0.00</td>\n",
       "      <td>0.00</td>\n",
       "      <td>5.42</td>\n",
       "      <td>2007.00</td>\n",
       "      <td>1.00</td>\n",
       "    </tr>\n",
       "    <tr>\n",
       "      <th>25%</th>\n",
       "      <td>5300.00</td>\n",
       "      <td>5200.00</td>\n",
       "      <td>5000.00</td>\n",
       "      <td>165.74</td>\n",
       "      <td>40000.00</td>\n",
       "      <td>8.13</td>\n",
       "      <td>0.00</td>\n",
       "      <td>8.94</td>\n",
       "      <td>2010.00</td>\n",
       "      <td>4.00</td>\n",
       "    </tr>\n",
       "    <tr>\n",
       "      <th>50%</th>\n",
       "      <td>9600.00</td>\n",
       "      <td>9550.00</td>\n",
       "      <td>8733.44</td>\n",
       "      <td>277.86</td>\n",
       "      <td>58868.00</td>\n",
       "      <td>13.37</td>\n",
       "      <td>0.00</td>\n",
       "      <td>11.71</td>\n",
       "      <td>2011.00</td>\n",
       "      <td>7.00</td>\n",
       "    </tr>\n",
       "    <tr>\n",
       "      <th>75%</th>\n",
       "      <td>15000.00</td>\n",
       "      <td>15000.00</td>\n",
       "      <td>14000.00</td>\n",
       "      <td>425.55</td>\n",
       "      <td>82000.00</td>\n",
       "      <td>18.56</td>\n",
       "      <td>0.00</td>\n",
       "      <td>14.38</td>\n",
       "      <td>2011.00</td>\n",
       "      <td>10.00</td>\n",
       "    </tr>\n",
       "    <tr>\n",
       "      <th>max</th>\n",
       "      <td>35000.00</td>\n",
       "      <td>35000.00</td>\n",
       "      <td>35000.00</td>\n",
       "      <td>1305.19</td>\n",
       "      <td>6000000.00</td>\n",
       "      <td>29.99</td>\n",
       "      <td>2.00</td>\n",
       "      <td>24.40</td>\n",
       "      <td>2011.00</td>\n",
       "      <td>12.00</td>\n",
       "    </tr>\n",
       "  </tbody>\n",
       "</table>\n",
       "</div>"
      ],
      "text/plain": [
       "       loan_amnt  funded_amnt  funded_amnt_inv  installment  annual_inc  \\\n",
       "count   38577.00     38577.00         38577.00     38577.00    38577.00   \n",
       "mean    11047.03     10784.06         10222.48       322.47    68777.97   \n",
       "std      7348.44      7090.31          7022.72       208.64    64218.68   \n",
       "min       500.00       500.00             0.00        15.69     4000.00   \n",
       "25%      5300.00      5200.00          5000.00       165.74    40000.00   \n",
       "50%      9600.00      9550.00          8733.44       277.86    58868.00   \n",
       "75%     15000.00     15000.00         14000.00       425.55    82000.00   \n",
       "max     35000.00     35000.00         35000.00      1305.19  6000000.00   \n",
       "\n",
       "           dti  pub_rec_bankruptcies  int_rate_flt  issue_year  issue_month  \n",
       "count 38577.00              37880.00      38577.00    38577.00     38577.00  \n",
       "mean     13.27                  0.04         11.93     2010.31         7.11  \n",
       "std       6.67                  0.20          3.69        0.88         3.41  \n",
       "min       0.00                  0.00          5.42     2007.00         1.00  \n",
       "25%       8.13                  0.00          8.94     2010.00         4.00  \n",
       "50%      13.37                  0.00         11.71     2011.00         7.00  \n",
       "75%      18.56                  0.00         14.38     2011.00        10.00  \n",
       "max      29.99                  2.00         24.40     2011.00        12.00  "
      ]
     },
     "execution_count": 28,
     "metadata": {},
     "output_type": "execute_result"
    }
   ],
   "source": [
    "loandata.describe()"
   ]
  },
  {
   "cell_type": "code",
   "execution_count": 29,
   "id": "announced-chick",
   "metadata": {},
   "outputs": [
    {
     "data": {
      "text/plain": [
       "(38577, 24)"
      ]
     },
     "execution_count": 29,
     "metadata": {},
     "output_type": "execute_result"
    }
   ],
   "source": [
    "loandata.shape"
   ]
  },
  {
   "cell_type": "code",
   "execution_count": 30,
   "id": "spoken-ecuador",
   "metadata": {},
   "outputs": [
    {
     "data": {
      "text/plain": [
       "Index(['loan_amnt', 'funded_amnt', 'funded_amnt_inv', 'term', 'installment',\n",
       "       'grade', 'sub_grade', 'emp_title', 'emp_length', 'home_ownership',\n",
       "       'annual_inc', 'verification_status', 'issue_d', 'loan_status', 'desc',\n",
       "       'purpose', 'title', 'zip_code', 'addr_state', 'dti',\n",
       "       'pub_rec_bankruptcies', 'int_rate_flt', 'issue_year', 'issue_month'],\n",
       "      dtype='object')"
      ]
     },
     "execution_count": 30,
     "metadata": {},
     "output_type": "execute_result"
    }
   ],
   "source": [
    "loandata.columns"
   ]
  },
  {
   "cell_type": "markdown",
   "id": "61ce808c",
   "metadata": {},
   "source": [
    "Numeric columns are picked from loandata.describe() output"
   ]
  },
  {
   "cell_type": "markdown",
   "id": "floating-sponsorship",
   "metadata": {},
   "source": [
    "#### 1) Loan amount"
   ]
  },
  {
   "cell_type": "code",
   "execution_count": 31,
   "id": "16b2c388",
   "metadata": {
    "scrolled": false
   },
   "outputs": [
    {
     "data": {
      "text/plain": [
       "<AxesSubplot:xlabel='loan_amnt', ylabel='Count'>"
      ]
     },
     "execution_count": 31,
     "metadata": {},
     "output_type": "execute_result"
    },
    {
     "data": {
      "image/png": "[encoded data removed]",
      "text/plain": [
       "<Figure size 842.4x595.44 with 1 Axes>"
      ]
     },
     "metadata": {},
     "output_type": "display_data"
    }
   ],
   "source": [
    "sns.histplot(loandata['loan_amnt'])"
   ]
  },
  {
   "cell_type": "code",
   "execution_count": 32,
   "id": "finished-digit",
   "metadata": {},
   "outputs": [
    {
     "data": {
      "text/plain": [
       "count   38577.00\n",
       "mean    11047.03\n",
       "std      7348.44\n",
       "min       500.00\n",
       "25%      5300.00\n",
       "50%      9600.00\n",
       "75%     15000.00\n",
       "max     35000.00\n",
       "Name: loan_amnt, dtype: float64"
      ]
     },
     "execution_count": 32,
     "metadata": {},
     "output_type": "execute_result"
    }
   ],
   "source": [
    "loandata['loan_amnt'].describe()"
   ]
  },
  {
   "cell_type": "code",
   "execution_count": 33,
   "id": "fbb0f1f1",
   "metadata": {
    "scrolled": false
   },
   "outputs": [
    {
     "name": "stderr",
     "output_type": "stream",
     "text": [
      "C:\\Users\\Shubhada\\Anaconda3\\lib\\site-packages\\seaborn\\_decorators.py:43: FutureWarning: Pass the following variable as a keyword arg: x. From version 0.12, the only valid positional argument will be `data`, and passing other arguments without an explicit keyword will result in an error or misinterpretation.\n",
      "  FutureWarning\n"
     ]
    },
    {
     "data": {
      "text/plain": [
       "<AxesSubplot:xlabel='loan_amnt'>"
      ]
     },
     "execution_count": 33,
     "metadata": {},
     "output_type": "execute_result"
    },
    {
     "data": {
      "image/png": "[encoded data removed]",
      "text/plain": [
       "<Figure size 842.4x595.44 with 1 Axes>"
      ]
     },
     "metadata": {},
     "output_type": "display_data"
    }
   ],
   "source": [
    "#sns.boxplot(data=loandata['loan_amnt'])\n",
    "sns.boxplot(loandata.loan_amnt, color='orange')"
   ]
  },
  {
   "cell_type": "code",
   "execution_count": 34,
   "id": "engaging-trick",
   "metadata": {},
   "outputs": [
    {
     "name": "stdout",
     "output_type": "stream",
     "text": [
      "min loan amnt: 500 max loan amnt: 35000\n"
     ]
    }
   ],
   "source": [
    "print('min loan amnt:', loandata['loan_amnt'].min(), 'max loan amnt:', loandata['loan_amnt'].max())"
   ]
  },
  {
   "cell_type": "markdown",
   "id": "a48173e5",
   "metadata": {},
   "source": [
    "### Removing the outliers from loan_amnt column"
   ]
  },
  {
   "cell_type": "code",
   "execution_count": 35,
   "id": "e6f6d60b",
   "metadata": {},
   "outputs": [
    {
     "name": "stderr",
     "output_type": "stream",
     "text": [
      "C:\\Users\\Shubhada\\Anaconda3\\lib\\site-packages\\seaborn\\_decorators.py:43: FutureWarning: Pass the following variable as a keyword arg: x. From version 0.12, the only valid positional argument will be `data`, and passing other arguments without an explicit keyword will result in an error or misinterpretation.\n",
      "  FutureWarning\n"
     ]
    },
    {
     "data": {
      "text/plain": [
       "<AxesSubplot:xlabel='loan_amnt'>"
      ]
     },
     "execution_count": 35,
     "metadata": {},
     "output_type": "execute_result"
    },
    {
     "data": {
      "image/png": "[encoded data removed]",
      "text/plain": [
       "<Figure size 842.4x595.44 with 1 Axes>"
      ]
     },
     "metadata": {},
     "output_type": "display_data"
    }
   ],
   "source": [
    "k=np.percentile(loandata['loan_amnt'],[98])\n",
    "loandata=loandata[loandata['loan_amnt']<=k[0]]\n",
    "sns.boxplot(loandata.loan_amnt, color='Purple')"
   ]
  },
  {
   "cell_type": "code",
   "execution_count": 36,
   "id": "involved-cisco",
   "metadata": {},
   "outputs": [
    {
     "data": {
      "text/plain": [
       "array([30000.])"
      ]
     },
     "execution_count": 36,
     "metadata": {},
     "output_type": "execute_result"
    }
   ],
   "source": [
    "k"
   ]
  },
  {
   "cell_type": "code",
   "execution_count": 37,
   "id": "short-johnston",
   "metadata": {},
   "outputs": [
    {
     "data": {
      "text/plain": [
       "count   37842.00\n",
       "mean    10590.74\n",
       "std      6640.58\n",
       "min       500.00\n",
       "25%      5000.00\n",
       "50%      9500.00\n",
       "75%     15000.00\n",
       "max     30000.00\n",
       "Name: loan_amnt, dtype: float64"
      ]
     },
     "execution_count": 37,
     "metadata": {},
     "output_type": "execute_result"
    }
   ],
   "source": [
    "loandata['loan_amnt'].describe()"
   ]
  },
  {
   "cell_type": "code",
   "execution_count": 38,
   "id": "future-california",
   "metadata": {},
   "outputs": [
    {
     "name": "stdout",
     "output_type": "stream",
     "text": [
      "min loan amnt: 500 max loan amnt: 30000\n"
     ]
    }
   ],
   "source": [
    "print('min loan amnt:', loandata['loan_amnt'].min(), 'max loan amnt:', loandata['loan_amnt'].max())"
   ]
  },
  {
   "cell_type": "markdown",
   "id": "other-match",
   "metadata": {},
   "source": [
    "#### other numerical columns"
   ]
  },
  {
   "cell_type": "code",
   "execution_count": 39,
   "id": "fe2003c3",
   "metadata": {
    "scrolled": true
   },
   "outputs": [
    {
     "data": {
      "text/plain": [
       "<AxesSubplot:>"
      ]
     },
     "execution_count": 39,
     "metadata": {},
     "output_type": "execute_result"
    },
    {
     "data": {
      "image/png": "[encoded data removed]",
      "text/plain": [
       "<Figure size 842.4x595.44 with 1 Axes>"
      ]
     },
     "metadata": {},
     "output_type": "display_data"
    }
   ],
   "source": [
    "sns.boxplot(data=loandata[['loan_amnt','funded_amnt','funded_amnt_inv']])"
   ]
  },
  {
   "cell_type": "code",
   "execution_count": 40,
   "id": "ea2549cb",
   "metadata": {},
   "outputs": [
    {
     "data": {
      "text/plain": [
       "<AxesSubplot:>"
      ]
     },
     "execution_count": 40,
     "metadata": {},
     "output_type": "execute_result"
    },
    {
     "data": {
      "image/png": "[encoded data removed]",
      "text/plain": [
       "<Figure size 842.4x595.44 with 1 Axes>"
      ]
     },
     "metadata": {},
     "output_type": "display_data"
    }
   ],
   "source": [
    "sns.boxplot(data=loandata['dti'])"
   ]
  },
  {
   "cell_type": "markdown",
   "id": "narrative-glossary",
   "metadata": {},
   "source": [
    "#### 2) Annual income"
   ]
  },
  {
   "cell_type": "markdown",
   "id": "e6b7166a",
   "metadata": {},
   "source": [
    "& Dealing with outliers in outliers in annual_inc column"
   ]
  },
  {
   "cell_type": "code",
   "execution_count": 41,
   "id": "6d7e6ecd",
   "metadata": {},
   "outputs": [
    {
     "data": {
      "text/plain": [
       "count     37842.00\n",
       "mean      67635.05\n",
       "std       63429.20\n",
       "min        4000.00\n",
       "25%       40000.00\n",
       "50%       57814.42\n",
       "75%       80000.00\n",
       "max     6000000.00\n",
       "Name: annual_inc, dtype: float64"
      ]
     },
     "execution_count": 41,
     "metadata": {},
     "output_type": "execute_result"
    }
   ],
   "source": [
    "#lets check percentile distyribution for other features like total_pymnt\n",
    "loandata['annual_inc'].describe()"
   ]
  },
  {
   "cell_type": "code",
   "execution_count": 42,
   "id": "large-cancellation",
   "metadata": {},
   "outputs": [
    {
     "name": "stderr",
     "output_type": "stream",
     "text": [
      "C:\\Users\\Shubhada\\Anaconda3\\lib\\site-packages\\seaborn\\_decorators.py:43: FutureWarning: Pass the following variable as a keyword arg: x. From version 0.12, the only valid positional argument will be `data`, and passing other arguments without an explicit keyword will result in an error or misinterpretation.\n",
      "  FutureWarning\n"
     ]
    },
    {
     "data": {
      "text/plain": [
       "<AxesSubplot:xlabel='annual_inc'>"
      ]
     },
     "execution_count": 42,
     "metadata": {},
     "output_type": "execute_result"
    },
    {
     "data": {
      "image/png": "[encoded data removed]",
      "text/plain": [
       "<Figure size 842.4x595.44 with 1 Axes>"
      ]
     },
     "metadata": {},
     "output_type": "display_data"
    }
   ],
   "source": [
    "sns.boxplot(loandata.annual_inc, color='Red')"
   ]
  },
  {
   "cell_type": "code",
   "execution_count": 43,
   "id": "29cfce45",
   "metadata": {},
   "outputs": [
    {
     "data": {
      "text/plain": [
       "(37842, 24)"
      ]
     },
     "execution_count": 43,
     "metadata": {},
     "output_type": "execute_result"
    }
   ],
   "source": [
    "loandata.shape"
   ]
  },
  {
   "cell_type": "code",
   "execution_count": 44,
   "id": "0cbfff42",
   "metadata": {},
   "outputs": [
    {
     "name": "stdout",
     "output_type": "stream",
     "text": [
      "95th percentile of loan_amnt:  140000.0\n"
     ]
    }
   ],
   "source": [
    "print(\"95th percentile of loan_amnt: \", np.percentile(loandata['annual_inc'],95, axis= 0))"
   ]
  },
  {
   "cell_type": "code",
   "execution_count": 45,
   "id": "56b2993a",
   "metadata": {},
   "outputs": [],
   "source": [
    "loandata = loandata[loandata[\"annual_inc\"] < np.percentile(loandata['annual_inc'],95, axis= 0)]"
   ]
  },
  {
   "cell_type": "code",
   "execution_count": 46,
   "id": "later-closure",
   "metadata": {},
   "outputs": [
    {
     "name": "stderr",
     "output_type": "stream",
     "text": [
      "C:\\Users\\Shubhada\\Anaconda3\\lib\\site-packages\\seaborn\\_decorators.py:43: FutureWarning: Pass the following variable as a keyword arg: x. From version 0.12, the only valid positional argument will be `data`, and passing other arguments without an explicit keyword will result in an error or misinterpretation.\n",
      "  FutureWarning\n"
     ]
    },
    {
     "data": {
      "text/plain": [
       "<AxesSubplot:xlabel='annual_inc'>"
      ]
     },
     "execution_count": 46,
     "metadata": {},
     "output_type": "execute_result"
    },
    {
     "data": {
      "image/png": "[encoded data removed]",
      "text/plain": [
       "<Figure size 842.4x595.44 with 1 Axes>"
      ]
     },
     "metadata": {},
     "output_type": "display_data"
    }
   ],
   "source": [
    "sns.boxplot(loandata.annual_inc, color='Green')"
   ]
  },
  {
   "cell_type": "code",
   "execution_count": 47,
   "id": "dental-completion",
   "metadata": {},
   "outputs": [
    {
     "data": {
      "text/plain": [
       "count    35947.00\n",
       "mean     59994.61\n",
       "std      27050.05\n",
       "min       4000.00\n",
       "25%      40000.00\n",
       "50%      55000.00\n",
       "75%      75600.00\n",
       "max     139992.00\n",
       "Name: annual_inc, dtype: float64"
      ]
     },
     "execution_count": 47,
     "metadata": {},
     "output_type": "execute_result"
    }
   ],
   "source": [
    "loandata['annual_inc'].describe()"
   ]
  },
  {
   "cell_type": "code",
   "execution_count": 48,
   "id": "concrete-optics",
   "metadata": {},
   "outputs": [
    {
     "data": {
      "text/plain": [
       "(35947, 24)"
      ]
     },
     "execution_count": 48,
     "metadata": {},
     "output_type": "execute_result"
    }
   ],
   "source": [
    "loandata.shape"
   ]
  },
  {
   "cell_type": "code",
   "execution_count": 49,
   "id": "disabled-metro",
   "metadata": {},
   "outputs": [],
   "source": [
    "#loandata['int_rate'].describe()\n",
    "#From output, median intrest rate is 11.71%, after 75% percentile interest rate increased froom 14.35% to 24.4%."
   ]
  },
  {
   "cell_type": "markdown",
   "id": "fecc63d9",
   "metadata": {},
   "source": [
    "###  Group by Bankruptcy\n",
    "pub_rec_bankruptcies is a categorical data that we can use further"
   ]
  },
  {
   "cell_type": "code",
   "execution_count": 50,
   "id": "dfb3d668",
   "metadata": {},
   "outputs": [
    {
     "data": {
      "text/plain": [
       "(35947, 24)"
      ]
     },
     "execution_count": 50,
     "metadata": {},
     "output_type": "execute_result"
    }
   ],
   "source": [
    "loandata.shape"
   ]
  },
  {
   "cell_type": "code",
   "execution_count": 51,
   "id": "2ef1ce4b",
   "metadata": {
    "scrolled": true
   },
   "outputs": [
    {
     "data": {
      "text/plain": [
       "pub_rec_bankruptcies\n",
       "0.00    33700\n",
       "1.00     1584\n",
       "2.00        5\n",
       "Name: pub_rec_bankruptcies, dtype: int64"
      ]
     },
     "execution_count": 51,
     "metadata": {},
     "output_type": "execute_result"
    }
   ],
   "source": [
    "loandata.groupby('pub_rec_bankruptcies')['pub_rec_bankruptcies'].count()"
   ]
  },
  {
   "cell_type": "markdown",
   "id": "a0271b51",
   "metadata": {},
   "source": [
    "### Now moving on to the univariate analysis of text columns"
   ]
  },
  {
   "cell_type": "code",
   "execution_count": 52,
   "id": "e38296ad",
   "metadata": {},
   "outputs": [
    {
     "data": {
      "text/plain": [
       "term\n",
       " 36 months    27483\n",
       " 60 months     8464\n",
       "Name: term, dtype: int64"
      ]
     },
     "execution_count": 52,
     "metadata": {},
     "output_type": "execute_result"
    }
   ],
   "source": [
    "loandata.groupby('term')['term'].count()"
   ]
  },
  {
   "cell_type": "markdown",
   "id": "automated-region",
   "metadata": {},
   "source": [
    "### Analysis of interest rate float values"
   ]
  },
  {
   "cell_type": "code",
   "execution_count": 53,
   "id": "60119937",
   "metadata": {
    "scrolled": true
   },
   "outputs": [
    {
     "data": {
      "text/plain": [
       "<AxesSubplot:xlabel='int_rate_flt'>"
      ]
     },
     "execution_count": 53,
     "metadata": {},
     "output_type": "execute_result"
    },
    {
     "data": {
      "image/png": "[encoded data removed]",
      "text/plain": [
       "<Figure size 842.4x595.44 with 1 Axes>"
      ]
     },
     "metadata": {},
     "output_type": "display_data"
    }
   ],
   "source": [
    "loandata.groupby('int_rate_flt')['int_rate_flt'].count().plot(kind='bar')"
   ]
  },
  {
   "cell_type": "markdown",
   "id": "a86420b4",
   "metadata": {},
   "source": [
    "### There a lot of interest rates values. It is helpful to create categories for range of interest rate while analysing it."
   ]
  },
  {
   "cell_type": "code",
   "execution_count": 54,
   "id": "52a690b4",
   "metadata": {},
   "outputs": [
    {
     "data": {
      "text/plain": [
       "<AxesSubplot:xlabel='grade'>"
      ]
     },
     "execution_count": 54,
     "metadata": {},
     "output_type": "execute_result"
    },
    {
     "data": {
      "image/png": "[encoded data removed]",
      "text/plain": [
       "<Figure size 842.4x595.44 with 1 Axes>"
      ]
     },
     "metadata": {},
     "output_type": "display_data"
    }
   ],
   "source": [
    "loandata.groupby('grade')['grade'].count().plot(kind='bar')"
   ]
  },
  {
   "cell_type": "code",
   "execution_count": 55,
   "id": "f43fdff9",
   "metadata": {},
   "outputs": [
    {
     "data": {
      "text/plain": [
       "<AxesSubplot:xlabel='sub_grade'>"
      ]
     },
     "execution_count": 55,
     "metadata": {},
     "output_type": "execute_result"
    },
    {
     "data": {
      "image/png": "[encoded data removed]",
      "text/plain": [
       "<Figure size 842.4x595.44 with 1 Axes>"
      ]
     },
     "metadata": {},
     "output_type": "display_data"
    }
   ],
   "source": [
    "loandata.groupby('sub_grade')['sub_grade'].count().plot(kind='bar')"
   ]
  },
  {
   "cell_type": "code",
   "execution_count": 56,
   "id": "bacd8657",
   "metadata": {},
   "outputs": [],
   "source": [
    "#loandata.groupby('emp_title').count().sort_values('loan_amnt')"
   ]
  },
  {
   "cell_type": "code",
   "execution_count": 57,
   "id": "2c5a1c38",
   "metadata": {},
   "outputs": [],
   "source": [
    "#len(pd.unique(loandata['emp_title']))"
   ]
  },
  {
   "cell_type": "code",
   "execution_count": 58,
   "id": "divine-judges",
   "metadata": {},
   "outputs": [
    {
     "data": {
      "text/plain": [
       "26441"
      ]
     },
     "execution_count": 58,
     "metadata": {},
     "output_type": "execute_result"
    }
   ],
   "source": [
    "loandata['emp_title'].nunique()\n",
    "#too many unique values"
   ]
  },
  {
   "cell_type": "markdown",
   "id": "05477865",
   "metadata": {},
   "source": [
    "There are 26441 unique values which comes around 73% of whole rows in data. We are not including emp_title in further analysis as most the rows are have unique values. Dropping it from data."
   ]
  },
  {
   "cell_type": "code",
   "execution_count": 59,
   "id": "37622470",
   "metadata": {},
   "outputs": [],
   "source": [
    "loandata=loandata.drop(['emp_title'], axis = 1)"
   ]
  },
  {
   "cell_type": "code",
   "execution_count": 60,
   "id": "07f09392",
   "metadata": {
    "scrolled": false
   },
   "outputs": [
    {
     "data": {
      "text/plain": [
       "<AxesSubplot:xlabel='emp_length'>"
      ]
     },
     "execution_count": 60,
     "metadata": {},
     "output_type": "execute_result"
    },
    {
     "data": {
      "image/png": "[encoded data removed]",
      "text/plain": [
       "<Figure size 842.4x595.44 with 1 Axes>"
      ]
     },
     "metadata": {},
     "output_type": "display_data"
    }
   ],
   "source": [
    "loandata.groupby('emp_length')['emp_length'].count().plot(kind='bar')"
   ]
  },
  {
   "cell_type": "code",
   "execution_count": 61,
   "id": "d1d05705",
   "metadata": {},
   "outputs": [
    {
     "data": {
      "text/plain": [
       "<AxesSubplot:xlabel='home_ownership'>"
      ]
     },
     "execution_count": 61,
     "metadata": {},
     "output_type": "execute_result"
    },
    {
     "data": {
      "image/png": "[encoded data removed]",
      "text/plain": [
       "<Figure size 842.4x595.44 with 1 Axes>"
      ]
     },
     "metadata": {},
     "output_type": "display_data"
    }
   ],
   "source": [
    "loandata.groupby('home_ownership')['home_ownership'].count().plot(kind='bar')"
   ]
  },
  {
   "cell_type": "code",
   "execution_count": 62,
   "id": "2a765307",
   "metadata": {},
   "outputs": [
    {
     "data": {
      "text/plain": [
       "<AxesSubplot:xlabel='verification_status'>"
      ]
     },
     "execution_count": 62,
     "metadata": {},
     "output_type": "execute_result"
    },
    {
     "data": {
      "image/png": "[encoded data removed]",
      "text/plain": [
       "<Figure size 842.4x595.44 with 1 Axes>"
      ]
     },
     "metadata": {},
     "output_type": "display_data"
    }
   ],
   "source": [
    "loandata.groupby('verification_status')['verification_status'].count().plot(kind='bar')"
   ]
  },
  {
   "cell_type": "code",
   "execution_count": 63,
   "id": "1a892c94",
   "metadata": {
    "scrolled": true
   },
   "outputs": [],
   "source": [
    "#loandata.groupby('issue_d')['issue_d'].count().plot(kind='bar')"
   ]
  },
  {
   "cell_type": "code",
   "execution_count": 64,
   "id": "a7740477",
   "metadata": {},
   "outputs": [
    {
     "data": {
      "text/plain": [
       "<AxesSubplot:xlabel='issue_month'>"
      ]
     },
     "execution_count": 64,
     "metadata": {},
     "output_type": "execute_result"
    },
    {
     "data": {
      "image/png": "[encoded data removed]",
      "text/plain": [
       "<Figure size 842.4x595.44 with 1 Axes>"
      ]
     },
     "metadata": {},
     "output_type": "display_data"
    }
   ],
   "source": [
    "loandata.groupby('issue_month')['issue_month'].count().plot(kind='bar')"
   ]
  },
  {
   "cell_type": "code",
   "execution_count": 65,
   "id": "4182d643",
   "metadata": {},
   "outputs": [
    {
     "data": {
      "text/plain": [
       "<AxesSubplot:xlabel='issue_year'>"
      ]
     },
     "execution_count": 65,
     "metadata": {},
     "output_type": "execute_result"
    },
    {
     "data": {
      "image/png": "[encoded data removed]",
      "text/plain": [
       "<Figure size 842.4x595.44 with 1 Axes>"
      ]
     },
     "metadata": {},
     "output_type": "display_data"
    }
   ],
   "source": [
    "loandata.groupby('issue_year')['issue_year'].count().plot(kind='bar')"
   ]
  },
  {
   "cell_type": "code",
   "execution_count": 66,
   "id": "6b287f27",
   "metadata": {},
   "outputs": [
    {
     "data": {
      "text/plain": [
       "<AxesSubplot:xlabel='loan_status'>"
      ]
     },
     "execution_count": 66,
     "metadata": {},
     "output_type": "execute_result"
    },
    {
     "data": {
      "image/png": "[encoded data removed]",
      "text/plain": [
       "<Figure size 842.4x595.44 with 1 Axes>"
      ]
     },
     "metadata": {},
     "output_type": "display_data"
    }
   ],
   "source": [
    "loandata.groupby('loan_status')['loan_status'].count().plot(kind='bar')"
   ]
  },
  {
   "cell_type": "code",
   "execution_count": 67,
   "id": "historical-squad",
   "metadata": {},
   "outputs": [
    {
     "data": {
      "text/plain": [
       "loan_status\n",
       "Charged Off     5246\n",
       "Fully Paid     30701\n",
       "Name: loan_status, dtype: int64"
      ]
     },
     "execution_count": 67,
     "metadata": {},
     "output_type": "execute_result"
    }
   ],
   "source": [
    "loandata.groupby('loan_status')['loan_status'].count()"
   ]
  },
  {
   "cell_type": "markdown",
   "id": "protected-floor",
   "metadata": {},
   "source": [
    "### Desc column"
   ]
  },
  {
   "cell_type": "code",
   "execution_count": 68,
   "id": "2d1a2bc5",
   "metadata": {
    "scrolled": false
   },
   "outputs": [],
   "source": [
    "#loandata.groupby('desc').count().sort_values('loan_amnt')"
   ]
  },
  {
   "cell_type": "markdown",
   "id": "9c932389",
   "metadata": {},
   "source": [
    "We observe that there are 25803 descriptions and the description varies a lot. around 70% data is unique and its tough to understand each description. We can definitely do some NLP and find the +ve and -ve intent and that would have impact on lender being defaulter or not. For now we are droppin it from analysis. For now dropping it from data"
   ]
  },
  {
   "cell_type": "code",
   "execution_count": 69,
   "id": "094953f3",
   "metadata": {},
   "outputs": [],
   "source": [
    "loandata=loandata.drop(['desc'], axis = 1)"
   ]
  },
  {
   "cell_type": "code",
   "execution_count": 70,
   "id": "ef59f4f2",
   "metadata": {
    "scrolled": false
   },
   "outputs": [
    {
     "data": {
      "text/plain": [
       "<AxesSubplot:xlabel='purpose'>"
      ]
     },
     "execution_count": 70,
     "metadata": {},
     "output_type": "execute_result"
    },
    {
     "data": {
      "image/png": "[encoded data removed]",
      "text/plain": [
       "<Figure size 842.4x595.44 with 1 Axes>"
      ]
     },
     "metadata": {},
     "output_type": "display_data"
    }
   ],
   "source": [
    "loandata.groupby('purpose')['purpose'].count().plot(kind='bar')"
   ]
  },
  {
   "cell_type": "code",
   "execution_count": 71,
   "id": "9c747831",
   "metadata": {},
   "outputs": [
    {
     "data": {
      "text/plain": [
       "<AxesSubplot:xlabel='addr_state'>"
      ]
     },
     "execution_count": 71,
     "metadata": {},
     "output_type": "execute_result"
    },
    {
     "data": {
      "image/png": "[encoded data removed]",
      "text/plain": [
       "<Figure size 842.4x595.44 with 1 Axes>"
      ]
     },
     "metadata": {},
     "output_type": "display_data"
    }
   ],
   "source": [
    "loandata.groupby('addr_state')['addr_state'].count().plot(kind='bar')"
   ]
  },
  {
   "cell_type": "markdown",
   "id": "demographic-suite",
   "metadata": {},
   "source": [
    "### Zip code field"
   ]
  },
  {
   "cell_type": "code",
   "execution_count": 72,
   "id": "3b202360",
   "metadata": {
    "scrolled": true
   },
   "outputs": [],
   "source": [
    "#loandata.groupby('zip_code')['zip_code'].count().plot(kind='bar')"
   ]
  },
  {
   "cell_type": "markdown",
   "id": "0acf6277",
   "metadata": {},
   "source": [
    "### There are a lot of zip code values. We will stick to the addr_state column for geographical impact on loan status."
   ]
  },
  {
   "cell_type": "code",
   "execution_count": 73,
   "id": "71864315",
   "metadata": {
    "scrolled": false
   },
   "outputs": [
    {
     "data": {
      "text/plain": [
       "18256"
      ]
     },
     "execution_count": 73,
     "metadata": {},
     "output_type": "execute_result"
    }
   ],
   "source": [
    "len(pd.unique(loandata['title']))"
   ]
  },
  {
   "cell_type": "code",
   "execution_count": 74,
   "id": "813f0c94",
   "metadata": {},
   "outputs": [],
   "source": [
    "#pd.unique(loandata['title'])[:100]"
   ]
  },
  {
   "cell_type": "markdown",
   "id": "3980c013",
   "metadata": {},
   "source": [
    "### The purpose column is more clearer than title. So we can drop title from our data"
   ]
  },
  {
   "cell_type": "code",
   "execution_count": 75,
   "id": "74cf7501",
   "metadata": {},
   "outputs": [],
   "source": [
    "loandata=loandata.drop(['title'], axis = 1)"
   ]
  },
  {
   "cell_type": "code",
   "execution_count": 76,
   "id": "d9c5cacb",
   "metadata": {},
   "outputs": [
    {
     "data": {
      "text/plain": [
       "Index(['loan_amnt', 'funded_amnt', 'funded_amnt_inv', 'term', 'installment',\n",
       "       'grade', 'sub_grade', 'emp_length', 'home_ownership', 'annual_inc',\n",
       "       'verification_status', 'issue_d', 'loan_status', 'purpose', 'zip_code',\n",
       "       'addr_state', 'dti', 'pub_rec_bankruptcies', 'int_rate_flt',\n",
       "       'issue_year', 'issue_month'],\n",
       "      dtype='object')"
      ]
     },
     "execution_count": 76,
     "metadata": {},
     "output_type": "execute_result"
    }
   ],
   "source": [
    "loandata.columns"
   ]
  },
  {
   "cell_type": "markdown",
   "id": "3dd94d9e",
   "metadata": {},
   "source": [
    "Here the debt consolidation title is repeated in different format so we can merge them."
   ]
  },
  {
   "cell_type": "code",
   "execution_count": 77,
   "id": "2fb36f61",
   "metadata": {},
   "outputs": [
    {
     "data": {
      "text/plain": [
       "(35947, 21)"
      ]
     },
     "execution_count": 77,
     "metadata": {},
     "output_type": "execute_result"
    }
   ],
   "source": [
    "loandata.shape"
   ]
  },
  {
   "cell_type": "markdown",
   "id": "45118e75",
   "metadata": {},
   "source": [
    "We will leave the values as it is as we are not seeing any serious impact on our analysis. We are going to use pub_rec_bankruptcies as categorical data in future. Lets start from here."
   ]
  },
  {
   "cell_type": "markdown",
   "id": "63aefd6c",
   "metadata": {},
   "source": [
    "# Starting the bivariate analysis. Lets see the correlation matrix first."
   ]
  },
  {
   "cell_type": "code",
   "execution_count": 78,
   "id": "4e4b6c19",
   "metadata": {
    "scrolled": false
   },
   "outputs": [
    {
     "data": {
      "text/html": [
       "<style  type=\"text/css\" >\n",
       "#T_88d1d_row0_col0,#T_88d1d_row1_col1,#T_88d1d_row2_col2,#T_88d1d_row3_col3,#T_88d1d_row4_col4,#T_88d1d_row5_col5,#T_88d1d_row6_col6,#T_88d1d_row7_col7,#T_88d1d_row8_col8,#T_88d1d_row9_col9{\n",
       "            background-color:  #b40426;\n",
       "            color:  #f1f1f1;\n",
       "        }#T_88d1d_row0_col1,#T_88d1d_row1_col0{\n",
       "            background-color:  #ba162b;\n",
       "            color:  #f1f1f1;\n",
       "        }#T_88d1d_row0_col2,#T_88d1d_row0_col3,#T_88d1d_row2_col0,#T_88d1d_row3_col0{\n",
       "            background-color:  #cc403a;\n",
       "            color:  #f1f1f1;\n",
       "        }#T_88d1d_row0_col4{\n",
       "            background-color:  #c7d7f0;\n",
       "            color:  #000000;\n",
       "        }#T_88d1d_row0_col5,#T_88d1d_row1_col5,#T_88d1d_row8_col5{\n",
       "            background-color:  #6b8df0;\n",
       "            color:  #000000;\n",
       "        }#T_88d1d_row0_col6,#T_88d1d_row1_col6{\n",
       "            background-color:  #3c4ec2;\n",
       "            color:  #f1f1f1;\n",
       "        }#T_88d1d_row0_col7,#T_88d1d_row2_col7{\n",
       "            background-color:  #8caffe;\n",
       "            color:  #000000;\n",
       "        }#T_88d1d_row0_col8{\n",
       "            background-color:  #5a78e4;\n",
       "            color:  #000000;\n",
       "        }#T_88d1d_row0_col9,#T_88d1d_row9_col4{\n",
       "            background-color:  #516ddb;\n",
       "            color:  #000000;\n",
       "        }#T_88d1d_row1_col2,#T_88d1d_row2_col1{\n",
       "            background-color:  #c53334;\n",
       "            color:  #f1f1f1;\n",
       "        }#T_88d1d_row1_col3,#T_88d1d_row3_col1{\n",
       "            background-color:  #c43032;\n",
       "            color:  #f1f1f1;\n",
       "        }#T_88d1d_row1_col4,#T_88d1d_row3_col4{\n",
       "            background-color:  #c6d6f1;\n",
       "            color:  #000000;\n",
       "        }#T_88d1d_row1_col7,#T_88d1d_row8_col2{\n",
       "            background-color:  #8fb1fe;\n",
       "            color:  #000000;\n",
       "        }#T_88d1d_row1_col8{\n",
       "            background-color:  #5f7fe8;\n",
       "            color:  #000000;\n",
       "        }#T_88d1d_row1_col9{\n",
       "            background-color:  #4e68d8;\n",
       "            color:  #000000;\n",
       "        }#T_88d1d_row2_col3,#T_88d1d_row3_col2{\n",
       "            background-color:  #d75445;\n",
       "            color:  #000000;\n",
       "        }#T_88d1d_row2_col4{\n",
       "            background-color:  #c1d4f4;\n",
       "            color:  #000000;\n",
       "        }#T_88d1d_row2_col5{\n",
       "            background-color:  #6e90f2;\n",
       "            color:  #000000;\n",
       "        }#T_88d1d_row2_col6,#T_88d1d_row4_col5,#T_88d1d_row5_col4,#T_88d1d_row6_col0,#T_88d1d_row6_col1,#T_88d1d_row6_col2,#T_88d1d_row6_col3,#T_88d1d_row8_col7,#T_88d1d_row8_col9,#T_88d1d_row9_col7,#T_88d1d_row9_col8{\n",
       "            background-color:  #3b4cc0;\n",
       "            color:  #f1f1f1;\n",
       "        }#T_88d1d_row2_col8{\n",
       "            background-color:  #90b2fe;\n",
       "            color:  #000000;\n",
       "        }#T_88d1d_row2_col9,#T_88d1d_row8_col4{\n",
       "            background-color:  #5673e0;\n",
       "            color:  #000000;\n",
       "        }#T_88d1d_row3_col5{\n",
       "            background-color:  #6788ee;\n",
       "            color:  #000000;\n",
       "        }#T_88d1d_row3_col6,#T_88d1d_row4_col7{\n",
       "            background-color:  #3d50c3;\n",
       "            color:  #f1f1f1;\n",
       "        }#T_88d1d_row3_col7{\n",
       "            background-color:  #85a8fc;\n",
       "            color:  #000000;\n",
       "        }#T_88d1d_row3_col8,#T_88d1d_row5_col9{\n",
       "            background-color:  #4961d2;\n",
       "            color:  #f1f1f1;\n",
       "        }#T_88d1d_row3_col9{\n",
       "            background-color:  #4a63d3;\n",
       "            color:  #f1f1f1;\n",
       "        }#T_88d1d_row4_col0{\n",
       "            background-color:  #bfd3f6;\n",
       "            color:  #000000;\n",
       "        }#T_88d1d_row4_col1,#T_88d1d_row4_col3{\n",
       "            background-color:  #bed2f6;\n",
       "            color:  #000000;\n",
       "        }#T_88d1d_row4_col2{\n",
       "            background-color:  #bad0f8;\n",
       "            color:  #000000;\n",
       "        }#T_88d1d_row4_col6{\n",
       "            background-color:  #4358cb;\n",
       "            color:  #f1f1f1;\n",
       "        }#T_88d1d_row4_col8,#T_88d1d_row7_col8,#T_88d1d_row7_col9,#T_88d1d_row9_col1{\n",
       "            background-color:  #4b64d5;\n",
       "            color:  #f1f1f1;\n",
       "        }#T_88d1d_row4_col9{\n",
       "            background-color:  #485fd1;\n",
       "            color:  #f1f1f1;\n",
       "        }#T_88d1d_row5_col0,#T_88d1d_row5_col1,#T_88d1d_row7_col6{\n",
       "            background-color:  #5e7de7;\n",
       "            color:  #000000;\n",
       "        }#T_88d1d_row5_col2{\n",
       "            background-color:  #6282ea;\n",
       "            color:  #000000;\n",
       "        }#T_88d1d_row5_col3,#T_88d1d_row7_col4{\n",
       "            background-color:  #5977e3;\n",
       "            color:  #000000;\n",
       "        }#T_88d1d_row5_col6,#T_88d1d_row8_col6{\n",
       "            background-color:  #445acc;\n",
       "            color:  #f1f1f1;\n",
       "        }#T_88d1d_row5_col7,#T_88d1d_row9_col2{\n",
       "            background-color:  #5572df;\n",
       "            color:  #000000;\n",
       "        }#T_88d1d_row5_col8{\n",
       "            background-color:  #6180e9;\n",
       "            color:  #000000;\n",
       "        }#T_88d1d_row6_col4,#T_88d1d_row6_col7,#T_88d1d_row9_col0{\n",
       "            background-color:  #4f69d9;\n",
       "            color:  #000000;\n",
       "        }#T_88d1d_row6_col5{\n",
       "            background-color:  #506bda;\n",
       "            color:  #000000;\n",
       "        }#T_88d1d_row6_col8,#T_88d1d_row8_col3{\n",
       "            background-color:  #455cce;\n",
       "            color:  #f1f1f1;\n",
       "        }#T_88d1d_row6_col9,#T_88d1d_row9_col6{\n",
       "            background-color:  #3e51c5;\n",
       "            color:  #f1f1f1;\n",
       "        }#T_88d1d_row7_col0{\n",
       "            background-color:  #98b9ff;\n",
       "            color:  #000000;\n",
       "        }#T_88d1d_row7_col1{\n",
       "            background-color:  #9bbcff;\n",
       "            color:  #000000;\n",
       "        }#T_88d1d_row7_col2{\n",
       "            background-color:  #9abbff;\n",
       "            color:  #000000;\n",
       "        }#T_88d1d_row7_col3{\n",
       "            background-color:  #92b4fe;\n",
       "            color:  #000000;\n",
       "        }#T_88d1d_row7_col5{\n",
       "            background-color:  #7093f3;\n",
       "            color:  #000000;\n",
       "        }#T_88d1d_row8_col0{\n",
       "            background-color:  #5875e1;\n",
       "            color:  #000000;\n",
       "        }#T_88d1d_row8_col1{\n",
       "            background-color:  #5d7ce6;\n",
       "            color:  #000000;\n",
       "        }#T_88d1d_row9_col3{\n",
       "            background-color:  #465ecf;\n",
       "            color:  #f1f1f1;\n",
       "        }#T_88d1d_row9_col5{\n",
       "            background-color:  #5470de;\n",
       "            color:  #000000;\n",
       "        }</style><table id=\"T_88d1d_\" ><thead>    <tr>        <th class=\"blank level0\" ></th>        <th class=\"col_heading level0 col0\" >loan_amnt</th>        <th class=\"col_heading level0 col1\" >funded_amnt</th>        <th class=\"col_heading level0 col2\" >funded_amnt_inv</th>        <th class=\"col_heading level0 col3\" >installment</th>        <th class=\"col_heading level0 col4\" >annual_inc</th>        <th class=\"col_heading level0 col5\" >dti</th>        <th class=\"col_heading level0 col6\" >pub_rec_bankruptcies</th>        <th class=\"col_heading level0 col7\" >int_rate_flt</th>        <th class=\"col_heading level0 col8\" >issue_year</th>        <th class=\"col_heading level0 col9\" >issue_month</th>    </tr></thead><tbody>\n",
       "                <tr>\n",
       "                        <th id=\"T_88d1d_level0_row0\" class=\"row_heading level0 row0\" >loan_amnt</th>\n",
       "                        <td id=\"T_88d1d_row0_col0\" class=\"data row0 col0\" >1.00</td>\n",
       "                        <td id=\"T_88d1d_row0_col1\" class=\"data row0 col1\" >0.98</td>\n",
       "                        <td id=\"T_88d1d_row0_col2\" class=\"data row0 col2\" >0.93</td>\n",
       "                        <td id=\"T_88d1d_row0_col3\" class=\"data row0 col3\" >0.93</td>\n",
       "                        <td id=\"T_88d1d_row0_col4\" class=\"data row0 col4\" >0.38</td>\n",
       "                        <td id=\"T_88d1d_row0_col5\" class=\"data row0 col5\" >0.09</td>\n",
       "                        <td id=\"T_88d1d_row0_col6\" class=\"data row0 col6\" >-0.03</td>\n",
       "                        <td id=\"T_88d1d_row0_col7\" class=\"data row0 col7\" >0.26</td>\n",
       "                        <td id=\"T_88d1d_row0_col8\" class=\"data row0 col8\" >0.07</td>\n",
       "                        <td id=\"T_88d1d_row0_col9\" class=\"data row0 col9\" >0.04</td>\n",
       "            </tr>\n",
       "            <tr>\n",
       "                        <th id=\"T_88d1d_level0_row1\" class=\"row_heading level0 row1\" >funded_amnt</th>\n",
       "                        <td id=\"T_88d1d_row1_col0\" class=\"data row1 col0\" >0.98</td>\n",
       "                        <td id=\"T_88d1d_row1_col1\" class=\"data row1 col1\" >1.00</td>\n",
       "                        <td id=\"T_88d1d_row1_col2\" class=\"data row1 col2\" >0.95</td>\n",
       "                        <td id=\"T_88d1d_row1_col3\" class=\"data row1 col3\" >0.96</td>\n",
       "                        <td id=\"T_88d1d_row1_col4\" class=\"data row1 col4\" >0.38</td>\n",
       "                        <td id=\"T_88d1d_row1_col5\" class=\"data row1 col5\" >0.09</td>\n",
       "                        <td id=\"T_88d1d_row1_col6\" class=\"data row1 col6\" >-0.03</td>\n",
       "                        <td id=\"T_88d1d_row1_col7\" class=\"data row1 col7\" >0.27</td>\n",
       "                        <td id=\"T_88d1d_row1_col8\" class=\"data row1 col8\" >0.09</td>\n",
       "                        <td id=\"T_88d1d_row1_col9\" class=\"data row1 col9\" >0.03</td>\n",
       "            </tr>\n",
       "            <tr>\n",
       "                        <th id=\"T_88d1d_level0_row2\" class=\"row_heading level0 row2\" >funded_amnt_inv</th>\n",
       "                        <td id=\"T_88d1d_row2_col0\" class=\"data row2 col0\" >0.93</td>\n",
       "                        <td id=\"T_88d1d_row2_col1\" class=\"data row2 col1\" >0.95</td>\n",
       "                        <td id=\"T_88d1d_row2_col2\" class=\"data row2 col2\" >1.00</td>\n",
       "                        <td id=\"T_88d1d_row2_col3\" class=\"data row2 col3\" >0.89</td>\n",
       "                        <td id=\"T_88d1d_row2_col4\" class=\"data row2 col4\" >0.36</td>\n",
       "                        <td id=\"T_88d1d_row2_col5\" class=\"data row2 col5\" >0.10</td>\n",
       "                        <td id=\"T_88d1d_row2_col6\" class=\"data row2 col6\" >-0.03</td>\n",
       "                        <td id=\"T_88d1d_row2_col7\" class=\"data row2 col7\" >0.27</td>\n",
       "                        <td id=\"T_88d1d_row2_col8\" class=\"data row2 col8\" >0.23</td>\n",
       "                        <td id=\"T_88d1d_row2_col9\" class=\"data row2 col9\" >0.06</td>\n",
       "            </tr>\n",
       "            <tr>\n",
       "                        <th id=\"T_88d1d_level0_row3\" class=\"row_heading level0 row3\" >installment</th>\n",
       "                        <td id=\"T_88d1d_row3_col0\" class=\"data row3 col0\" >0.93</td>\n",
       "                        <td id=\"T_88d1d_row3_col1\" class=\"data row3 col1\" >0.96</td>\n",
       "                        <td id=\"T_88d1d_row3_col2\" class=\"data row3 col2\" >0.89</td>\n",
       "                        <td id=\"T_88d1d_row3_col3\" class=\"data row3 col3\" >1.00</td>\n",
       "                        <td id=\"T_88d1d_row3_col4\" class=\"data row3 col4\" >0.38</td>\n",
       "                        <td id=\"T_88d1d_row3_col5\" class=\"data row3 col5\" >0.08</td>\n",
       "                        <td id=\"T_88d1d_row3_col6\" class=\"data row3 col6\" >-0.02</td>\n",
       "                        <td id=\"T_88d1d_row3_col7\" class=\"data row3 col7\" >0.25</td>\n",
       "                        <td id=\"T_88d1d_row3_col8\" class=\"data row3 col8\" >0.02</td>\n",
       "                        <td id=\"T_88d1d_row3_col9\" class=\"data row3 col9\" >0.02</td>\n",
       "            </tr>\n",
       "            <tr>\n",
       "                        <th id=\"T_88d1d_level0_row4\" class=\"row_heading level0 row4\" >annual_inc</th>\n",
       "                        <td id=\"T_88d1d_row4_col0\" class=\"data row4 col0\" >0.38</td>\n",
       "                        <td id=\"T_88d1d_row4_col1\" class=\"data row4 col1\" >0.38</td>\n",
       "                        <td id=\"T_88d1d_row4_col2\" class=\"data row4 col2\" >0.36</td>\n",
       "                        <td id=\"T_88d1d_row4_col3\" class=\"data row4 col3\" >0.38</td>\n",
       "                        <td id=\"T_88d1d_row4_col4\" class=\"data row4 col4\" >1.00</td>\n",
       "                        <td id=\"T_88d1d_row4_col5\" class=\"data row4 col5\" >-0.07</td>\n",
       "                        <td id=\"T_88d1d_row4_col6\" class=\"data row4 col6\" >-0.00</td>\n",
       "                        <td id=\"T_88d1d_row4_col7\" class=\"data row4 col7\" >0.03</td>\n",
       "                        <td id=\"T_88d1d_row4_col8\" class=\"data row4 col8\" >0.02</td>\n",
       "                        <td id=\"T_88d1d_row4_col9\" class=\"data row4 col9\" >0.01</td>\n",
       "            </tr>\n",
       "            <tr>\n",
       "                        <th id=\"T_88d1d_level0_row5\" class=\"row_heading level0 row5\" >dti</th>\n",
       "                        <td id=\"T_88d1d_row5_col0\" class=\"data row5 col0\" >0.09</td>\n",
       "                        <td id=\"T_88d1d_row5_col1\" class=\"data row5 col1\" >0.09</td>\n",
       "                        <td id=\"T_88d1d_row5_col2\" class=\"data row5 col2\" >0.10</td>\n",
       "                        <td id=\"T_88d1d_row5_col3\" class=\"data row5 col3\" >0.08</td>\n",
       "                        <td id=\"T_88d1d_row5_col4\" class=\"data row5 col4\" >-0.07</td>\n",
       "                        <td id=\"T_88d1d_row5_col5\" class=\"data row5 col5\" >1.00</td>\n",
       "                        <td id=\"T_88d1d_row5_col6\" class=\"data row5 col6\" >0.00</td>\n",
       "                        <td id=\"T_88d1d_row5_col7\" class=\"data row5 col7\" >0.11</td>\n",
       "                        <td id=\"T_88d1d_row5_col8\" class=\"data row5 col8\" >0.09</td>\n",
       "                        <td id=\"T_88d1d_row5_col9\" class=\"data row5 col9\" >0.02</td>\n",
       "            </tr>\n",
       "            <tr>\n",
       "                        <th id=\"T_88d1d_level0_row6\" class=\"row_heading level0 row6\" >pub_rec_bankruptcies</th>\n",
       "                        <td id=\"T_88d1d_row6_col0\" class=\"data row6 col0\" >-0.03</td>\n",
       "                        <td id=\"T_88d1d_row6_col1\" class=\"data row6 col1\" >-0.03</td>\n",
       "                        <td id=\"T_88d1d_row6_col2\" class=\"data row6 col2\" >-0.03</td>\n",
       "                        <td id=\"T_88d1d_row6_col3\" class=\"data row6 col3\" >-0.02</td>\n",
       "                        <td id=\"T_88d1d_row6_col4\" class=\"data row6 col4\" >-0.00</td>\n",
       "                        <td id=\"T_88d1d_row6_col5\" class=\"data row6 col5\" >0.00</td>\n",
       "                        <td id=\"T_88d1d_row6_col6\" class=\"data row6 col6\" >1.00</td>\n",
       "                        <td id=\"T_88d1d_row6_col7\" class=\"data row6 col7\" >0.09</td>\n",
       "                        <td id=\"T_88d1d_row6_col8\" class=\"data row6 col8\" >0.00</td>\n",
       "                        <td id=\"T_88d1d_row6_col9\" class=\"data row6 col9\" >-0.02</td>\n",
       "            </tr>\n",
       "            <tr>\n",
       "                        <th id=\"T_88d1d_level0_row7\" class=\"row_heading level0 row7\" >int_rate_flt</th>\n",
       "                        <td id=\"T_88d1d_row7_col0\" class=\"data row7 col0\" >0.26</td>\n",
       "                        <td id=\"T_88d1d_row7_col1\" class=\"data row7 col1\" >0.27</td>\n",
       "                        <td id=\"T_88d1d_row7_col2\" class=\"data row7 col2\" >0.27</td>\n",
       "                        <td id=\"T_88d1d_row7_col3\" class=\"data row7 col3\" >0.25</td>\n",
       "                        <td id=\"T_88d1d_row7_col4\" class=\"data row7 col4\" >0.03</td>\n",
       "                        <td id=\"T_88d1d_row7_col5\" class=\"data row7 col5\" >0.11</td>\n",
       "                        <td id=\"T_88d1d_row7_col6\" class=\"data row7 col6\" >0.09</td>\n",
       "                        <td id=\"T_88d1d_row7_col7\" class=\"data row7 col7\" >1.00</td>\n",
       "                        <td id=\"T_88d1d_row7_col8\" class=\"data row7 col8\" >0.02</td>\n",
       "                        <td id=\"T_88d1d_row7_col9\" class=\"data row7 col9\" >0.02</td>\n",
       "            </tr>\n",
       "            <tr>\n",
       "                        <th id=\"T_88d1d_level0_row8\" class=\"row_heading level0 row8\" >issue_year</th>\n",
       "                        <td id=\"T_88d1d_row8_col0\" class=\"data row8 col0\" >0.07</td>\n",
       "                        <td id=\"T_88d1d_row8_col1\" class=\"data row8 col1\" >0.09</td>\n",
       "                        <td id=\"T_88d1d_row8_col2\" class=\"data row8 col2\" >0.23</td>\n",
       "                        <td id=\"T_88d1d_row8_col3\" class=\"data row8 col3\" >0.02</td>\n",
       "                        <td id=\"T_88d1d_row8_col4\" class=\"data row8 col4\" >0.02</td>\n",
       "                        <td id=\"T_88d1d_row8_col5\" class=\"data row8 col5\" >0.09</td>\n",
       "                        <td id=\"T_88d1d_row8_col6\" class=\"data row8 col6\" >0.00</td>\n",
       "                        <td id=\"T_88d1d_row8_col7\" class=\"data row8 col7\" >0.02</td>\n",
       "                        <td id=\"T_88d1d_row8_col8\" class=\"data row8 col8\" >1.00</td>\n",
       "                        <td id=\"T_88d1d_row8_col9\" class=\"data row8 col9\" >-0.04</td>\n",
       "            </tr>\n",
       "            <tr>\n",
       "                        <th id=\"T_88d1d_level0_row9\" class=\"row_heading level0 row9\" >issue_month</th>\n",
       "                        <td id=\"T_88d1d_row9_col0\" class=\"data row9 col0\" >0.04</td>\n",
       "                        <td id=\"T_88d1d_row9_col1\" class=\"data row9 col1\" >0.03</td>\n",
       "                        <td id=\"T_88d1d_row9_col2\" class=\"data row9 col2\" >0.06</td>\n",
       "                        <td id=\"T_88d1d_row9_col3\" class=\"data row9 col3\" >0.02</td>\n",
       "                        <td id=\"T_88d1d_row9_col4\" class=\"data row9 col4\" >0.01</td>\n",
       "                        <td id=\"T_88d1d_row9_col5\" class=\"data row9 col5\" >0.02</td>\n",
       "                        <td id=\"T_88d1d_row9_col6\" class=\"data row9 col6\" >-0.02</td>\n",
       "                        <td id=\"T_88d1d_row9_col7\" class=\"data row9 col7\" >0.02</td>\n",
       "                        <td id=\"T_88d1d_row9_col8\" class=\"data row9 col8\" >-0.04</td>\n",
       "                        <td id=\"T_88d1d_row9_col9\" class=\"data row9 col9\" >1.00</td>\n",
       "            </tr>\n",
       "    </tbody></table>"
      ],
      "text/plain": [
       "<pandas.io.formats.style.Styler at 0x2c54c5e2348>"
      ]
     },
     "execution_count": 78,
     "metadata": {},
     "output_type": "execute_result"
    }
   ],
   "source": [
    "loandata.corr().style.background_gradient(cmap='coolwarm').set_precision(2)"
   ]
  },
  {
   "cell_type": "markdown",
   "id": "02e1805f",
   "metadata": {},
   "source": [
    "### Observation is that Loan amount, investor amount, funding amount,  installment are strongly correlated.\n",
    "### Annual income with DTI(Debt-to-income ratio) is negatively correalted.\n",
    "### That means when annual income is low then DTI is high & vice versa.\n",
    "### positive correlation between annual income and employment years.\n",
    "### That means income increases with work experience ;)"
   ]
  },
  {
   "cell_type": "markdown",
   "id": "052fd876",
   "metadata": {},
   "source": [
    "# Birvariate analysis"
   ]
  },
  {
   "cell_type": "markdown",
   "id": "7bf510e1",
   "metadata": {},
   "source": [
    "Lets analyse how loan status depends on above columns"
   ]
  },
  {
   "cell_type": "code",
   "execution_count": 79,
   "id": "ea573153",
   "metadata": {
    "scrolled": false
   },
   "outputs": [
    {
     "data": {
      "text/plain": [
       "<AxesSubplot:xlabel='loan_status', ylabel='loan_amnt'>"
      ]
     },
     "execution_count": 79,
     "metadata": {},
     "output_type": "execute_result"
    },
    {
     "data": {
      "image/png": "[encoded data removed]",
      "text/plain": [
       "<Figure size 842.4x595.44 with 1 Axes>"
      ]
     },
     "metadata": {},
     "output_type": "display_data"
    }
   ],
   "source": [
    "sns.boxplot(data=loandata, x='loan_status', y='loan_amnt')"
   ]
  },
  {
   "cell_type": "markdown",
   "id": "d0a46e7c",
   "metadata": {},
   "source": [
    "Here we can see loan_amnt is higher then they are more likely to Charged off or Default the loan. "
   ]
  },
  {
   "cell_type": "markdown",
   "id": "6b05d702",
   "metadata": {},
   "source": [
    "Lets try to analyze like if a particular amount of loan is given then what is % of getting it default."
   ]
  },
  {
   "cell_type": "code",
   "execution_count": 80,
   "id": "e6f41955",
   "metadata": {},
   "outputs": [
    {
     "data": {
      "text/plain": [
       "(500, 30000)"
      ]
     },
     "execution_count": 80,
     "metadata": {},
     "output_type": "execute_result"
    }
   ],
   "source": [
    "min(loandata['loan_amnt']),max(loandata['loan_amnt'])"
   ]
  },
  {
   "cell_type": "markdown",
   "id": "cc88bb44",
   "metadata": {},
   "source": [
    "## loan Amount vs loan Status"
   ]
  },
  {
   "cell_type": "code",
   "execution_count": 81,
   "id": "5d7734ec",
   "metadata": {
    "scrolled": false
   },
   "outputs": [
    {
     "data": {
      "text/plain": [
       "<AxesSubplot:xlabel='loan_amnt', ylabel='Count'>"
      ]
     },
     "execution_count": 81,
     "metadata": {},
     "output_type": "execute_result"
    },
    {
     "data": {
      "image/png": "[encoded data removed]",
      "text/plain": [
       "<Figure size 842.4x595.44 with 1 Axes>"
      ]
     },
     "metadata": {},
     "output_type": "display_data"
    }
   ],
   "source": [
    "sns.histplot(data=loandata, x=\"loan_amnt\", kde=True,hue='loan_status')"
   ]
  },
  {
   "cell_type": "markdown",
   "id": "d32480b0",
   "metadata": {},
   "source": [
    "### Lets create buckets for loan amount and analyse each bucket."
   ]
  },
  {
   "cell_type": "code",
   "execution_count": 82,
   "id": "a1ed1556",
   "metadata": {},
   "outputs": [],
   "source": [
    "def loan_amnt_cat(x):\n",
    "    if x>0 and x<=5000:\n",
    "        return '0-5000'\n",
    "    elif x>5000 and x<=10000:\n",
    "        return '5000-10000'\n",
    "    elif x>10000 and x<=15000:\n",
    "        return '10000-15000'\n",
    "    elif x>15000 and x<=20000:\n",
    "        return '15000-20000'\n",
    "    elif x>20000 and x<=25000:\n",
    "        return '20000-25000'\n",
    "    elif x>25000 and x<=30000:\n",
    "        return '25000-30000'\n",
    "\n",
    "loandata['loan_amt_category']=loandata['loan_amnt'].apply(loan_amnt_cat)"
   ]
  },
  {
   "cell_type": "code",
   "execution_count": 83,
   "id": "403300fa",
   "metadata": {},
   "outputs": [
    {
     "data": {
      "text/plain": [
       "Index(['loan_amt_category', 'loan_status', 'cnt_amt_stat'], dtype='object')"
      ]
     },
     "execution_count": 83,
     "metadata": {},
     "output_type": "execute_result"
    }
   ],
   "source": [
    "loan_amount=loandata.groupby(['loan_amt_category','loan_status'])['loan_amt_category'].count().rename('cnt_amt_stat')\n",
    "loan_amount=loan_amount.reset_index(level=['loan_amt_category','loan_status'])\n",
    "loan_amount=pd.DataFrame(loan_amount)\n",
    "loan_amount.columns"
   ]
  },
  {
   "cell_type": "code",
   "execution_count": 84,
   "id": "f0624038",
   "metadata": {},
   "outputs": [
    {
     "data": {
      "text/plain": [
       "Index(['loan_amt_category', 'cnt_amt'], dtype='object')"
      ]
     },
     "execution_count": 84,
     "metadata": {},
     "output_type": "execute_result"
    }
   ],
   "source": [
    "loan_amount2=loandata.groupby(['loan_amt_category'])['loan_amt_category'].count().rename('cnt_amt')\n",
    "loan_amount2=loan_amount2.reset_index(level=['loan_amt_category'])\n",
    "loan_amount2=pd.DataFrame(loan_amount2)\n",
    "loan_amount2.columns"
   ]
  },
  {
   "cell_type": "code",
   "execution_count": 85,
   "id": "bbfcbc88",
   "metadata": {
    "scrolled": true
   },
   "outputs": [
    {
     "data": {
      "text/html": [
       "<div>\n",
       "<style scoped>\n",
       "    .dataframe tbody tr th:only-of-type {\n",
       "        vertical-align: middle;\n",
       "    }\n",
       "\n",
       "    .dataframe tbody tr th {\n",
       "        vertical-align: top;\n",
       "    }\n",
       "\n",
       "    .dataframe thead th {\n",
       "        text-align: right;\n",
       "    }\n",
       "</style>\n",
       "<table border=\"1\" class=\"dataframe\">\n",
       "  <thead>\n",
       "    <tr style=\"text-align: right;\">\n",
       "      <th></th>\n",
       "      <th>loan_amt_category</th>\n",
       "      <th>loan_status</th>\n",
       "      <th>cnt_amt_stat</th>\n",
       "      <th>cnt_amt</th>\n",
       "      <th>percentage</th>\n",
       "      <th>start_amt</th>\n",
       "    </tr>\n",
       "  </thead>\n",
       "  <tbody>\n",
       "    <tr>\n",
       "      <th>0</th>\n",
       "      <td>0-5000</td>\n",
       "      <td>Charged Off</td>\n",
       "      <td>1299</td>\n",
       "      <td>9305</td>\n",
       "      <td>13.96</td>\n",
       "      <td>0</td>\n",
       "    </tr>\n",
       "    <tr>\n",
       "      <th>1</th>\n",
       "      <td>0-5000</td>\n",
       "      <td>Fully Paid</td>\n",
       "      <td>8006</td>\n",
       "      <td>9305</td>\n",
       "      <td>86.04</td>\n",
       "      <td>0</td>\n",
       "    </tr>\n",
       "    <tr>\n",
       "      <th>10</th>\n",
       "      <td>5000-10000</td>\n",
       "      <td>Charged Off</td>\n",
       "      <td>1601</td>\n",
       "      <td>12384</td>\n",
       "      <td>12.93</td>\n",
       "      <td>5000</td>\n",
       "    </tr>\n",
       "    <tr>\n",
       "      <th>11</th>\n",
       "      <td>5000-10000</td>\n",
       "      <td>Fully Paid</td>\n",
       "      <td>10783</td>\n",
       "      <td>12384</td>\n",
       "      <td>87.07</td>\n",
       "      <td>5000</td>\n",
       "    </tr>\n",
       "    <tr>\n",
       "      <th>2</th>\n",
       "      <td>10000-15000</td>\n",
       "      <td>Charged Off</td>\n",
       "      <td>1022</td>\n",
       "      <td>7288</td>\n",
       "      <td>14.02</td>\n",
       "      <td>10000</td>\n",
       "    </tr>\n",
       "    <tr>\n",
       "      <th>3</th>\n",
       "      <td>10000-15000</td>\n",
       "      <td>Fully Paid</td>\n",
       "      <td>6266</td>\n",
       "      <td>7288</td>\n",
       "      <td>85.98</td>\n",
       "      <td>10000</td>\n",
       "    </tr>\n",
       "    <tr>\n",
       "      <th>4</th>\n",
       "      <td>15000-20000</td>\n",
       "      <td>Charged Off</td>\n",
       "      <td>721</td>\n",
       "      <td>4022</td>\n",
       "      <td>17.93</td>\n",
       "      <td>15000</td>\n",
       "    </tr>\n",
       "    <tr>\n",
       "      <th>5</th>\n",
       "      <td>15000-20000</td>\n",
       "      <td>Fully Paid</td>\n",
       "      <td>3301</td>\n",
       "      <td>4022</td>\n",
       "      <td>82.07</td>\n",
       "      <td>15000</td>\n",
       "    </tr>\n",
       "    <tr>\n",
       "      <th>6</th>\n",
       "      <td>20000-25000</td>\n",
       "      <td>Charged Off</td>\n",
       "      <td>481</td>\n",
       "      <td>2381</td>\n",
       "      <td>20.20</td>\n",
       "      <td>20000</td>\n",
       "    </tr>\n",
       "    <tr>\n",
       "      <th>7</th>\n",
       "      <td>20000-25000</td>\n",
       "      <td>Fully Paid</td>\n",
       "      <td>1900</td>\n",
       "      <td>2381</td>\n",
       "      <td>79.80</td>\n",
       "      <td>20000</td>\n",
       "    </tr>\n",
       "    <tr>\n",
       "      <th>8</th>\n",
       "      <td>25000-30000</td>\n",
       "      <td>Charged Off</td>\n",
       "      <td>122</td>\n",
       "      <td>567</td>\n",
       "      <td>21.52</td>\n",
       "      <td>25000</td>\n",
       "    </tr>\n",
       "    <tr>\n",
       "      <th>9</th>\n",
       "      <td>25000-30000</td>\n",
       "      <td>Fully Paid</td>\n",
       "      <td>445</td>\n",
       "      <td>567</td>\n",
       "      <td>78.48</td>\n",
       "      <td>25000</td>\n",
       "    </tr>\n",
       "  </tbody>\n",
       "</table>\n",
       "</div>"
      ],
      "text/plain": [
       "   loan_amt_category  loan_status  cnt_amt_stat  cnt_amt  percentage  \\\n",
       "0             0-5000  Charged Off          1299     9305       13.96   \n",
       "1             0-5000   Fully Paid          8006     9305       86.04   \n",
       "10        5000-10000  Charged Off          1601    12384       12.93   \n",
       "11        5000-10000   Fully Paid         10783    12384       87.07   \n",
       "2        10000-15000  Charged Off          1022     7288       14.02   \n",
       "3        10000-15000   Fully Paid          6266     7288       85.98   \n",
       "4        15000-20000  Charged Off           721     4022       17.93   \n",
       "5        15000-20000   Fully Paid          3301     4022       82.07   \n",
       "6        20000-25000  Charged Off           481     2381       20.20   \n",
       "7        20000-25000   Fully Paid          1900     2381       79.80   \n",
       "8        25000-30000  Charged Off           122      567       21.52   \n",
       "9        25000-30000   Fully Paid           445      567       78.48   \n",
       "\n",
       "    start_amt  \n",
       "0           0  \n",
       "1           0  \n",
       "10       5000  \n",
       "11       5000  \n",
       "2       10000  \n",
       "3       10000  \n",
       "4       15000  \n",
       "5       15000  \n",
       "6       20000  \n",
       "7       20000  \n",
       "8       25000  \n",
       "9       25000  "
      ]
     },
     "execution_count": 85,
     "metadata": {},
     "output_type": "execute_result"
    }
   ],
   "source": [
    "loan_amount3=pd.merge(loan_amount,loan_amount2,on='loan_amt_category')\n",
    "loan_amount3['percentage']=(loan_amount3['cnt_amt_stat']*100)/loan_amount3['cnt_amt']\n",
    "loan_amount3['start_amt']=loan_amount3['loan_amt_category'].apply(lambda x:int(x.split('-')[0]))\n",
    "loan_amount3=loan_amount3.sort_values('start_amt')\n",
    "loan_amount3"
   ]
  },
  {
   "cell_type": "code",
   "execution_count": 86,
   "id": "b3350c7a",
   "metadata": {},
   "outputs": [],
   "source": [
    "sns.set(rc={'figure.figsize':(11,8)})"
   ]
  },
  {
   "cell_type": "code",
   "execution_count": 87,
   "id": "18c5a296",
   "metadata": {},
   "outputs": [
    {
     "data": {
      "text/plain": [
       "<AxesSubplot:xlabel='loan_amt_category', ylabel='percentage'>"
      ]
     },
     "execution_count": 87,
     "metadata": {},
     "output_type": "execute_result"
    },
    {
     "data": {
      "image/png": "[encoded data removed]",
      "text/plain": [
       "<Figure size 792x576 with 1 Axes>"
      ]
     },
     "metadata": {},
     "output_type": "display_data"
    }
   ],
   "source": [
    "sns.lineplot(data=loan_amount3, x=\"loan_amt_category\", y=\"percentage\",hue='loan_status')"
   ]
  },
  {
   "cell_type": "markdown",
   "id": "345ceb53",
   "metadata": {},
   "source": [
    "### We clearly see here that as the loan amount increases the chances of going default increases and also decreases the chances of getting it fully paid. To know the percentage in each category."
   ]
  },
  {
   "cell_type": "code",
   "execution_count": 88,
   "id": "7216116c",
   "metadata": {},
   "outputs": [
    {
     "data": {
      "text/html": [
       "<div>\n",
       "<style scoped>\n",
       "    .dataframe tbody tr th:only-of-type {\n",
       "        vertical-align: middle;\n",
       "    }\n",
       "\n",
       "    .dataframe tbody tr th {\n",
       "        vertical-align: top;\n",
       "    }\n",
       "\n",
       "    .dataframe thead th {\n",
       "        text-align: right;\n",
       "    }\n",
       "</style>\n",
       "<table border=\"1\" class=\"dataframe\">\n",
       "  <thead>\n",
       "    <tr style=\"text-align: right;\">\n",
       "      <th></th>\n",
       "      <th>loan_amt_category</th>\n",
       "      <th>loan_status</th>\n",
       "      <th>percentage</th>\n",
       "    </tr>\n",
       "  </thead>\n",
       "  <tbody>\n",
       "    <tr>\n",
       "      <th>0</th>\n",
       "      <td>0-5000</td>\n",
       "      <td>Charged Off</td>\n",
       "      <td>13.96</td>\n",
       "    </tr>\n",
       "    <tr>\n",
       "      <th>1</th>\n",
       "      <td>0-5000</td>\n",
       "      <td>Fully Paid</td>\n",
       "      <td>86.04</td>\n",
       "    </tr>\n",
       "    <tr>\n",
       "      <th>10</th>\n",
       "      <td>5000-10000</td>\n",
       "      <td>Charged Off</td>\n",
       "      <td>12.93</td>\n",
       "    </tr>\n",
       "    <tr>\n",
       "      <th>11</th>\n",
       "      <td>5000-10000</td>\n",
       "      <td>Fully Paid</td>\n",
       "      <td>87.07</td>\n",
       "    </tr>\n",
       "    <tr>\n",
       "      <th>2</th>\n",
       "      <td>10000-15000</td>\n",
       "      <td>Charged Off</td>\n",
       "      <td>14.02</td>\n",
       "    </tr>\n",
       "    <tr>\n",
       "      <th>3</th>\n",
       "      <td>10000-15000</td>\n",
       "      <td>Fully Paid</td>\n",
       "      <td>85.98</td>\n",
       "    </tr>\n",
       "    <tr>\n",
       "      <th>4</th>\n",
       "      <td>15000-20000</td>\n",
       "      <td>Charged Off</td>\n",
       "      <td>17.93</td>\n",
       "    </tr>\n",
       "    <tr>\n",
       "      <th>5</th>\n",
       "      <td>15000-20000</td>\n",
       "      <td>Fully Paid</td>\n",
       "      <td>82.07</td>\n",
       "    </tr>\n",
       "    <tr>\n",
       "      <th>6</th>\n",
       "      <td>20000-25000</td>\n",
       "      <td>Charged Off</td>\n",
       "      <td>20.20</td>\n",
       "    </tr>\n",
       "    <tr>\n",
       "      <th>7</th>\n",
       "      <td>20000-25000</td>\n",
       "      <td>Fully Paid</td>\n",
       "      <td>79.80</td>\n",
       "    </tr>\n",
       "    <tr>\n",
       "      <th>8</th>\n",
       "      <td>25000-30000</td>\n",
       "      <td>Charged Off</td>\n",
       "      <td>21.52</td>\n",
       "    </tr>\n",
       "    <tr>\n",
       "      <th>9</th>\n",
       "      <td>25000-30000</td>\n",
       "      <td>Fully Paid</td>\n",
       "      <td>78.48</td>\n",
       "    </tr>\n",
       "  </tbody>\n",
       "</table>\n",
       "</div>"
      ],
      "text/plain": [
       "   loan_amt_category  loan_status  percentage\n",
       "0             0-5000  Charged Off       13.96\n",
       "1             0-5000   Fully Paid       86.04\n",
       "10        5000-10000  Charged Off       12.93\n",
       "11        5000-10000   Fully Paid       87.07\n",
       "2        10000-15000  Charged Off       14.02\n",
       "3        10000-15000   Fully Paid       85.98\n",
       "4        15000-20000  Charged Off       17.93\n",
       "5        15000-20000   Fully Paid       82.07\n",
       "6        20000-25000  Charged Off       20.20\n",
       "7        20000-25000   Fully Paid       79.80\n",
       "8        25000-30000  Charged Off       21.52\n",
       "9        25000-30000   Fully Paid       78.48"
      ]
     },
     "execution_count": 88,
     "metadata": {},
     "output_type": "execute_result"
    }
   ],
   "source": [
    "loan_amount3[['loan_amt_category','loan_status','percentage']]"
   ]
  },
  {
   "cell_type": "markdown",
   "id": "59b1a7ad",
   "metadata": {},
   "source": [
    "### Above we can see that if a loan is taken between amount 15000-20000 then pecentage of it getting fully paid is 82% and percentage of getting it charged off is 17.9~18%. Similarly we can detect it for other categories also. \n",
    "\n",
    "### We can see that loan taken between amount 25000-30000 has highest chances that it will be defaulted by borrower. and for amount 5000-10000 has least chances of being Charged off."
   ]
  },
  {
   "cell_type": "markdown",
   "id": "7254ae77",
   "metadata": {},
   "source": [
    "### The 3 columns loan_amnt,funded_amnt,funded_amnt_inv have same set of values and there fore same impact on loan status"
   ]
  },
  {
   "cell_type": "markdown",
   "id": "fe378561",
   "metadata": {},
   "source": [
    "## Annual income vs loan Status"
   ]
  },
  {
   "cell_type": "code",
   "execution_count": 89,
   "id": "4038909b",
   "metadata": {
    "scrolled": false
   },
   "outputs": [
    {
     "data": {
      "text/plain": [
       "<AxesSubplot:ylabel='Frequency'>"
      ]
     },
     "execution_count": 89,
     "metadata": {},
     "output_type": "execute_result"
    },
    {
     "data": {
      "image/png": "[encoded data removed]",
      "text/plain": [
       "<Figure size 792x576 with 1 Axes>"
      ]
     },
     "metadata": {},
     "output_type": "display_data"
    }
   ],
   "source": [
    "loandata['annual_inc'].plot(kind='hist')"
   ]
  },
  {
   "cell_type": "markdown",
   "id": "5707b23a",
   "metadata": {},
   "source": [
    "### Lets create buckets for analyse and analyse each bucket."
   ]
  },
  {
   "cell_type": "code",
   "execution_count": 90,
   "id": "a107560f",
   "metadata": {},
   "outputs": [],
   "source": [
    "def annual_inc_cat(x):\n",
    "    if x>0 and x<=20000:\n",
    "        return '0-20000'\n",
    "    elif x>20000 and x<=40000:\n",
    "        return '20000-40000'\n",
    "    elif x>40000 and x<=60000:\n",
    "        return '40000-60000'\n",
    "    elif x>60000 and x<=80000:\n",
    "        return '60000-80000'\n",
    "    elif x>80000 and x<=100000:\n",
    "        return '80000-100000'\n",
    "    elif x>100000 and x<=120000:\n",
    "        return '100000-120000'\n",
    "    elif x>120000 and x<=140000:\n",
    "        return '120000-140000'\n",
    "\n",
    "loandata['annual_inc_cat']=loandata['annual_inc'].apply(annual_inc_cat)"
   ]
  },
  {
   "cell_type": "code",
   "execution_count": 91,
   "id": "a54b2747",
   "metadata": {},
   "outputs": [
    {
     "data": {
      "text/html": [
       "<div>\n",
       "<style scoped>\n",
       "    .dataframe tbody tr th:only-of-type {\n",
       "        vertical-align: middle;\n",
       "    }\n",
       "\n",
       "    .dataframe tbody tr th {\n",
       "        vertical-align: top;\n",
       "    }\n",
       "\n",
       "    .dataframe thead th {\n",
       "        text-align: right;\n",
       "    }\n",
       "</style>\n",
       "<table border=\"1\" class=\"dataframe\">\n",
       "  <thead>\n",
       "    <tr style=\"text-align: right;\">\n",
       "      <th></th>\n",
       "      <th>annual_inc_cat</th>\n",
       "      <th>loan_status</th>\n",
       "      <th>cnt_annual_inc_cat_stat</th>\n",
       "      <th>cnt_annual_inc</th>\n",
       "      <th>percentage</th>\n",
       "      <th>start_ann</th>\n",
       "    </tr>\n",
       "  </thead>\n",
       "  <tbody>\n",
       "    <tr>\n",
       "      <th>0</th>\n",
       "      <td>0-20000</td>\n",
       "      <td>Charged Off</td>\n",
       "      <td>237</td>\n",
       "      <td>1180</td>\n",
       "      <td>20.08</td>\n",
       "      <td>0</td>\n",
       "    </tr>\n",
       "    <tr>\n",
       "      <th>1</th>\n",
       "      <td>0-20000</td>\n",
       "      <td>Fully Paid</td>\n",
       "      <td>943</td>\n",
       "      <td>1180</td>\n",
       "      <td>79.92</td>\n",
       "      <td>0</td>\n",
       "    </tr>\n",
       "    <tr>\n",
       "      <th>6</th>\n",
       "      <td>20000-40000</td>\n",
       "      <td>Charged Off</td>\n",
       "      <td>1514</td>\n",
       "      <td>8518</td>\n",
       "      <td>17.77</td>\n",
       "      <td>20000</td>\n",
       "    </tr>\n",
       "    <tr>\n",
       "      <th>7</th>\n",
       "      <td>20000-40000</td>\n",
       "      <td>Fully Paid</td>\n",
       "      <td>7004</td>\n",
       "      <td>8518</td>\n",
       "      <td>82.23</td>\n",
       "      <td>20000</td>\n",
       "    </tr>\n",
       "    <tr>\n",
       "      <th>8</th>\n",
       "      <td>40000-60000</td>\n",
       "      <td>Charged Off</td>\n",
       "      <td>1713</td>\n",
       "      <td>11229</td>\n",
       "      <td>15.26</td>\n",
       "      <td>40000</td>\n",
       "    </tr>\n",
       "    <tr>\n",
       "      <th>9</th>\n",
       "      <td>40000-60000</td>\n",
       "      <td>Fully Paid</td>\n",
       "      <td>9516</td>\n",
       "      <td>11229</td>\n",
       "      <td>84.74</td>\n",
       "      <td>40000</td>\n",
       "    </tr>\n",
       "    <tr>\n",
       "      <th>10</th>\n",
       "      <td>60000-80000</td>\n",
       "      <td>Charged Off</td>\n",
       "      <td>974</td>\n",
       "      <td>7478</td>\n",
       "      <td>13.02</td>\n",
       "      <td>60000</td>\n",
       "    </tr>\n",
       "    <tr>\n",
       "      <th>11</th>\n",
       "      <td>60000-80000</td>\n",
       "      <td>Fully Paid</td>\n",
       "      <td>6504</td>\n",
       "      <td>7478</td>\n",
       "      <td>86.98</td>\n",
       "      <td>60000</td>\n",
       "    </tr>\n",
       "    <tr>\n",
       "      <th>12</th>\n",
       "      <td>80000-100000</td>\n",
       "      <td>Charged Off</td>\n",
       "      <td>486</td>\n",
       "      <td>4346</td>\n",
       "      <td>11.18</td>\n",
       "      <td>80000</td>\n",
       "    </tr>\n",
       "    <tr>\n",
       "      <th>13</th>\n",
       "      <td>80000-100000</td>\n",
       "      <td>Fully Paid</td>\n",
       "      <td>3860</td>\n",
       "      <td>4346</td>\n",
       "      <td>88.82</td>\n",
       "      <td>80000</td>\n",
       "    </tr>\n",
       "    <tr>\n",
       "      <th>2</th>\n",
       "      <td>100000-120000</td>\n",
       "      <td>Charged Off</td>\n",
       "      <td>215</td>\n",
       "      <td>2210</td>\n",
       "      <td>9.73</td>\n",
       "      <td>100000</td>\n",
       "    </tr>\n",
       "    <tr>\n",
       "      <th>3</th>\n",
       "      <td>100000-120000</td>\n",
       "      <td>Fully Paid</td>\n",
       "      <td>1995</td>\n",
       "      <td>2210</td>\n",
       "      <td>90.27</td>\n",
       "      <td>100000</td>\n",
       "    </tr>\n",
       "    <tr>\n",
       "      <th>4</th>\n",
       "      <td>120000-140000</td>\n",
       "      <td>Charged Off</td>\n",
       "      <td>107</td>\n",
       "      <td>986</td>\n",
       "      <td>10.85</td>\n",
       "      <td>120000</td>\n",
       "    </tr>\n",
       "    <tr>\n",
       "      <th>5</th>\n",
       "      <td>120000-140000</td>\n",
       "      <td>Fully Paid</td>\n",
       "      <td>879</td>\n",
       "      <td>986</td>\n",
       "      <td>89.15</td>\n",
       "      <td>120000</td>\n",
       "    </tr>\n",
       "  </tbody>\n",
       "</table>\n",
       "</div>"
      ],
      "text/plain": [
       "   annual_inc_cat  loan_status  cnt_annual_inc_cat_stat  cnt_annual_inc  \\\n",
       "0         0-20000  Charged Off                      237            1180   \n",
       "1         0-20000   Fully Paid                      943            1180   \n",
       "6     20000-40000  Charged Off                     1514            8518   \n",
       "7     20000-40000   Fully Paid                     7004            8518   \n",
       "8     40000-60000  Charged Off                     1713           11229   \n",
       "9     40000-60000   Fully Paid                     9516           11229   \n",
       "10    60000-80000  Charged Off                      974            7478   \n",
       "11    60000-80000   Fully Paid                     6504            7478   \n",
       "12   80000-100000  Charged Off                      486            4346   \n",
       "13   80000-100000   Fully Paid                     3860            4346   \n",
       "2   100000-120000  Charged Off                      215            2210   \n",
       "3   100000-120000   Fully Paid                     1995            2210   \n",
       "4   120000-140000  Charged Off                      107             986   \n",
       "5   120000-140000   Fully Paid                      879             986   \n",
       "\n",
       "    percentage  start_ann  \n",
       "0        20.08          0  \n",
       "1        79.92          0  \n",
       "6        17.77      20000  \n",
       "7        82.23      20000  \n",
       "8        15.26      40000  \n",
       "9        84.74      40000  \n",
       "10       13.02      60000  \n",
       "11       86.98      60000  \n",
       "12       11.18      80000  \n",
       "13       88.82      80000  \n",
       "2         9.73     100000  \n",
       "3        90.27     100000  \n",
       "4        10.85     120000  \n",
       "5        89.15     120000  "
      ]
     },
     "execution_count": 91,
     "metadata": {},
     "output_type": "execute_result"
    }
   ],
   "source": [
    "annual_income=loandata.groupby(['annual_inc_cat','loan_status'])['annual_inc_cat'].count().rename('cnt_annual_inc_cat_stat')\n",
    "annual_income=annual_income.reset_index(level=['annual_inc_cat','loan_status'])\n",
    "\n",
    "annual_income1=loandata.groupby(['annual_inc_cat'])['annual_inc_cat'].count().rename('cnt_annual_inc')\n",
    "annual_income1=annual_income1.reset_index(level=['annual_inc_cat'])\n",
    "annual_income1=pd.DataFrame(annual_income1)\n",
    "annual_income1.columns\n",
    "\n",
    "annual_income2=pd.merge(annual_income,annual_income1,on='annual_inc_cat')\n",
    "annual_income2['percentage']=(annual_income2['cnt_annual_inc_cat_stat']*100)/annual_income2['cnt_annual_inc']\n",
    "annual_income2['start_ann']=annual_income2['annual_inc_cat'].apply(lambda x:int(x.split('-')[0]))\n",
    "annual_income2=annual_income2.sort_values('start_ann')\n",
    "annual_income2"
   ]
  },
  {
   "cell_type": "code",
   "execution_count": 92,
   "id": "40c3ea89",
   "metadata": {
    "scrolled": false
   },
   "outputs": [
    {
     "data": {
      "text/plain": [
       "<AxesSubplot:xlabel='annual_inc_cat', ylabel='percentage'>"
      ]
     },
     "execution_count": 92,
     "metadata": {},
     "output_type": "execute_result"
    },
    {
     "data": {
      "image/png": "[encoded data removed]",
      "text/plain": [
       "<Figure size 792x576 with 1 Axes>"
      ]
     },
     "metadata": {},
     "output_type": "display_data"
    }
   ],
   "source": [
    "sns.lineplot(data=annual_income2, x=\"annual_inc_cat\", y=\"percentage\",hue='loan_status')"
   ]
  },
  {
   "cell_type": "code",
   "execution_count": 93,
   "id": "9e1e670e",
   "metadata": {},
   "outputs": [
    {
     "data": {
      "text/html": [
       "<div>\n",
       "<style scoped>\n",
       "    .dataframe tbody tr th:only-of-type {\n",
       "        vertical-align: middle;\n",
       "    }\n",
       "\n",
       "    .dataframe tbody tr th {\n",
       "        vertical-align: top;\n",
       "    }\n",
       "\n",
       "    .dataframe thead th {\n",
       "        text-align: right;\n",
       "    }\n",
       "</style>\n",
       "<table border=\"1\" class=\"dataframe\">\n",
       "  <thead>\n",
       "    <tr style=\"text-align: right;\">\n",
       "      <th></th>\n",
       "      <th>annual_inc_cat</th>\n",
       "      <th>loan_status</th>\n",
       "      <th>percentage</th>\n",
       "    </tr>\n",
       "  </thead>\n",
       "  <tbody>\n",
       "    <tr>\n",
       "      <th>0</th>\n",
       "      <td>0-20000</td>\n",
       "      <td>Charged Off</td>\n",
       "      <td>20.08</td>\n",
       "    </tr>\n",
       "    <tr>\n",
       "      <th>1</th>\n",
       "      <td>0-20000</td>\n",
       "      <td>Fully Paid</td>\n",
       "      <td>79.92</td>\n",
       "    </tr>\n",
       "    <tr>\n",
       "      <th>6</th>\n",
       "      <td>20000-40000</td>\n",
       "      <td>Charged Off</td>\n",
       "      <td>17.77</td>\n",
       "    </tr>\n",
       "    <tr>\n",
       "      <th>7</th>\n",
       "      <td>20000-40000</td>\n",
       "      <td>Fully Paid</td>\n",
       "      <td>82.23</td>\n",
       "    </tr>\n",
       "    <tr>\n",
       "      <th>8</th>\n",
       "      <td>40000-60000</td>\n",
       "      <td>Charged Off</td>\n",
       "      <td>15.26</td>\n",
       "    </tr>\n",
       "    <tr>\n",
       "      <th>9</th>\n",
       "      <td>40000-60000</td>\n",
       "      <td>Fully Paid</td>\n",
       "      <td>84.74</td>\n",
       "    </tr>\n",
       "    <tr>\n",
       "      <th>10</th>\n",
       "      <td>60000-80000</td>\n",
       "      <td>Charged Off</td>\n",
       "      <td>13.02</td>\n",
       "    </tr>\n",
       "    <tr>\n",
       "      <th>11</th>\n",
       "      <td>60000-80000</td>\n",
       "      <td>Fully Paid</td>\n",
       "      <td>86.98</td>\n",
       "    </tr>\n",
       "    <tr>\n",
       "      <th>12</th>\n",
       "      <td>80000-100000</td>\n",
       "      <td>Charged Off</td>\n",
       "      <td>11.18</td>\n",
       "    </tr>\n",
       "    <tr>\n",
       "      <th>13</th>\n",
       "      <td>80000-100000</td>\n",
       "      <td>Fully Paid</td>\n",
       "      <td>88.82</td>\n",
       "    </tr>\n",
       "    <tr>\n",
       "      <th>2</th>\n",
       "      <td>100000-120000</td>\n",
       "      <td>Charged Off</td>\n",
       "      <td>9.73</td>\n",
       "    </tr>\n",
       "    <tr>\n",
       "      <th>3</th>\n",
       "      <td>100000-120000</td>\n",
       "      <td>Fully Paid</td>\n",
       "      <td>90.27</td>\n",
       "    </tr>\n",
       "    <tr>\n",
       "      <th>4</th>\n",
       "      <td>120000-140000</td>\n",
       "      <td>Charged Off</td>\n",
       "      <td>10.85</td>\n",
       "    </tr>\n",
       "    <tr>\n",
       "      <th>5</th>\n",
       "      <td>120000-140000</td>\n",
       "      <td>Fully Paid</td>\n",
       "      <td>89.15</td>\n",
       "    </tr>\n",
       "  </tbody>\n",
       "</table>\n",
       "</div>"
      ],
      "text/plain": [
       "   annual_inc_cat  loan_status  percentage\n",
       "0         0-20000  Charged Off       20.08\n",
       "1         0-20000   Fully Paid       79.92\n",
       "6     20000-40000  Charged Off       17.77\n",
       "7     20000-40000   Fully Paid       82.23\n",
       "8     40000-60000  Charged Off       15.26\n",
       "9     40000-60000   Fully Paid       84.74\n",
       "10    60000-80000  Charged Off       13.02\n",
       "11    60000-80000   Fully Paid       86.98\n",
       "12   80000-100000  Charged Off       11.18\n",
       "13   80000-100000   Fully Paid       88.82\n",
       "2   100000-120000  Charged Off        9.73\n",
       "3   100000-120000   Fully Paid       90.27\n",
       "4   120000-140000  Charged Off       10.85\n",
       "5   120000-140000   Fully Paid       89.15"
      ]
     },
     "execution_count": 93,
     "metadata": {},
     "output_type": "execute_result"
    }
   ],
   "source": [
    "annual_income2[['annual_inc_cat','loan_status','percentage']]"
   ]
  },
  {
   "cell_type": "markdown",
   "id": "0dfe5052",
   "metadata": {},
   "source": [
    "### Here we observed a completely opposite trend as compared to loan amount vs loan status. Above we can see that if a annual income is between amount 80000-100000 then pecentage of the loan charged off is 11.1=11%. Similarly we can detect it for other categories also. \n",
    "\n",
    "### We can see that annual income between 100000-1200000 has least chances that it will be charged off. and for annual income 0-20000 has highest chances of being Charged off."
   ]
  },
  {
   "cell_type": "markdown",
   "id": "269b7073",
   "metadata": {},
   "source": [
    "## Debt To Income Ratio vs loan status"
   ]
  },
  {
   "cell_type": "code",
   "execution_count": 94,
   "id": "e52829af",
   "metadata": {},
   "outputs": [
    {
     "data": {
      "text/plain": [
       "<AxesSubplot:ylabel='Frequency'>"
      ]
     },
     "execution_count": 94,
     "metadata": {},
     "output_type": "execute_result"
    },
    {
     "data": {
      "image/png": "[encoded data removed]",
      "text/plain": [
       "<Figure size 792x576 with 1 Axes>"
      ]
     },
     "metadata": {},
     "output_type": "display_data"
    }
   ],
   "source": [
    "loandata['dti'].plot(kind='hist')"
   ]
  },
  {
   "cell_type": "code",
   "execution_count": 95,
   "id": "3dc7e7de",
   "metadata": {},
   "outputs": [
    {
     "data": {
      "text/plain": [
       "<AxesSubplot:xlabel='dti', ylabel='Count'>"
      ]
     },
     "execution_count": 95,
     "metadata": {},
     "output_type": "execute_result"
    },
    {
     "data": {
      "image/png": "[encoded data removed]",
      "text/plain": [
       "<Figure size 792x576 with 1 Axes>"
      ]
     },
     "metadata": {},
     "output_type": "display_data"
    }
   ],
   "source": [
    "sns.histplot(data=loandata, x=\"dti\", kde=True,hue='loan_status')"
   ]
  },
  {
   "cell_type": "markdown",
   "id": "1b13d2e9",
   "metadata": {},
   "source": [
    "### From the above graph we observer that when the dti value is low from 0 to 15, the gap between the charged off line and fully paid is increasing. This means that while moving from dti value 0 to 15 there are lower chances that loan will be charged off by borrower. From dti value 15-30 , we clearly see the gap between lines decreasing and borrower is more likely to default the loan. To get the exact % in each category, lets get the % of fully charged and charged off."
   ]
  },
  {
   "cell_type": "code",
   "execution_count": 96,
   "id": "7d40d1c1",
   "metadata": {
    "scrolled": true
   },
   "outputs": [
    {
     "data": {
      "text/html": [
       "<div>\n",
       "<style scoped>\n",
       "    .dataframe tbody tr th:only-of-type {\n",
       "        vertical-align: middle;\n",
       "    }\n",
       "\n",
       "    .dataframe tbody tr th {\n",
       "        vertical-align: top;\n",
       "    }\n",
       "\n",
       "    .dataframe thead th {\n",
       "        text-align: right;\n",
       "    }\n",
       "</style>\n",
       "<table border=\"1\" class=\"dataframe\">\n",
       "  <thead>\n",
       "    <tr style=\"text-align: right;\">\n",
       "      <th></th>\n",
       "      <th>dti_cat</th>\n",
       "      <th>loan_status</th>\n",
       "      <th>cnt_dti_cat_stat</th>\n",
       "      <th>cnt_dti</th>\n",
       "      <th>percentage</th>\n",
       "      <th>start_dti</th>\n",
       "    </tr>\n",
       "  </thead>\n",
       "  <tbody>\n",
       "    <tr>\n",
       "      <th>0</th>\n",
       "      <td>0-5</td>\n",
       "      <td>Charged Off</td>\n",
       "      <td>548</td>\n",
       "      <td>4379</td>\n",
       "      <td>12.51</td>\n",
       "      <td>0</td>\n",
       "    </tr>\n",
       "    <tr>\n",
       "      <th>1</th>\n",
       "      <td>0-5</td>\n",
       "      <td>Fully Paid</td>\n",
       "      <td>3831</td>\n",
       "      <td>4379</td>\n",
       "      <td>87.49</td>\n",
       "      <td>0</td>\n",
       "    </tr>\n",
       "    <tr>\n",
       "      <th>10</th>\n",
       "      <td>5-10</td>\n",
       "      <td>Charged Off</td>\n",
       "      <td>914</td>\n",
       "      <td>7128</td>\n",
       "      <td>12.82</td>\n",
       "      <td>5</td>\n",
       "    </tr>\n",
       "    <tr>\n",
       "      <th>11</th>\n",
       "      <td>5-10</td>\n",
       "      <td>Fully Paid</td>\n",
       "      <td>6214</td>\n",
       "      <td>7128</td>\n",
       "      <td>87.18</td>\n",
       "      <td>5</td>\n",
       "    </tr>\n",
       "    <tr>\n",
       "      <th>2</th>\n",
       "      <td>10-15</td>\n",
       "      <td>Charged Off</td>\n",
       "      <td>1306</td>\n",
       "      <td>8982</td>\n",
       "      <td>14.54</td>\n",
       "      <td>10</td>\n",
       "    </tr>\n",
       "    <tr>\n",
       "      <th>3</th>\n",
       "      <td>10-15</td>\n",
       "      <td>Fully Paid</td>\n",
       "      <td>7676</td>\n",
       "      <td>8982</td>\n",
       "      <td>85.46</td>\n",
       "      <td>10</td>\n",
       "    </tr>\n",
       "    <tr>\n",
       "      <th>4</th>\n",
       "      <td>15-20</td>\n",
       "      <td>Charged Off</td>\n",
       "      <td>1296</td>\n",
       "      <td>8355</td>\n",
       "      <td>15.51</td>\n",
       "      <td>15</td>\n",
       "    </tr>\n",
       "    <tr>\n",
       "      <th>5</th>\n",
       "      <td>15-20</td>\n",
       "      <td>Fully Paid</td>\n",
       "      <td>7059</td>\n",
       "      <td>8355</td>\n",
       "      <td>84.49</td>\n",
       "      <td>15</td>\n",
       "    </tr>\n",
       "    <tr>\n",
       "      <th>6</th>\n",
       "      <td>20-25</td>\n",
       "      <td>Charged Off</td>\n",
       "      <td>1073</td>\n",
       "      <td>6334</td>\n",
       "      <td>16.94</td>\n",
       "      <td>20</td>\n",
       "    </tr>\n",
       "    <tr>\n",
       "      <th>7</th>\n",
       "      <td>20-25</td>\n",
       "      <td>Fully Paid</td>\n",
       "      <td>5261</td>\n",
       "      <td>6334</td>\n",
       "      <td>83.06</td>\n",
       "      <td>20</td>\n",
       "    </tr>\n",
       "    <tr>\n",
       "      <th>8</th>\n",
       "      <td>25-30</td>\n",
       "      <td>Charged Off</td>\n",
       "      <td>81</td>\n",
       "      <td>599</td>\n",
       "      <td>13.52</td>\n",
       "      <td>25</td>\n",
       "    </tr>\n",
       "    <tr>\n",
       "      <th>9</th>\n",
       "      <td>25-30</td>\n",
       "      <td>Fully Paid</td>\n",
       "      <td>518</td>\n",
       "      <td>599</td>\n",
       "      <td>86.48</td>\n",
       "      <td>25</td>\n",
       "    </tr>\n",
       "  </tbody>\n",
       "</table>\n",
       "</div>"
      ],
      "text/plain": [
       "   dti_cat  loan_status  cnt_dti_cat_stat  cnt_dti  percentage  start_dti\n",
       "0      0-5  Charged Off               548     4379       12.51          0\n",
       "1      0-5   Fully Paid              3831     4379       87.49          0\n",
       "10    5-10  Charged Off               914     7128       12.82          5\n",
       "11    5-10   Fully Paid              6214     7128       87.18          5\n",
       "2    10-15  Charged Off              1306     8982       14.54         10\n",
       "3    10-15   Fully Paid              7676     8982       85.46         10\n",
       "4    15-20  Charged Off              1296     8355       15.51         15\n",
       "5    15-20   Fully Paid              7059     8355       84.49         15\n",
       "6    20-25  Charged Off              1073     6334       16.94         20\n",
       "7    20-25   Fully Paid              5261     6334       83.06         20\n",
       "8    25-30  Charged Off                81      599       13.52         25\n",
       "9    25-30   Fully Paid               518      599       86.48         25"
      ]
     },
     "execution_count": 96,
     "metadata": {},
     "output_type": "execute_result"
    }
   ],
   "source": [
    "def dti_cat(x):\n",
    "    if x>0 and x<=5:\n",
    "        return '0-5'\n",
    "    elif x>5 and x<=10:\n",
    "        return '5-10'\n",
    "    elif x>10 and x<=15:\n",
    "        return '10-15'\n",
    "    elif x>15 and x<=20:\n",
    "        return '15-20'\n",
    "    elif x>20 and x<=25:\n",
    "        return '20-25'\n",
    "    elif x>25 and x<=30:\n",
    "        return '25-30'\n",
    "\n",
    "\n",
    "loandata['dti_cat']=loandata['dti'].apply(dti_cat)\n",
    "dti=loandata.groupby(['dti_cat','loan_status'])['dti_cat'].count().rename('cnt_dti_cat_stat')\n",
    "dti=dti.reset_index(level=['dti_cat','loan_status'])\n",
    "\n",
    "dti1=loandata.groupby(['dti_cat'])['dti_cat'].count().rename('cnt_dti')\n",
    "dti1=dti1.reset_index(level=['dti_cat'])\n",
    "dti1=pd.DataFrame(dti1)\n",
    "dti1.columns\n",
    "\n",
    "dti2=pd.merge(dti,dti1,on='dti_cat')\n",
    "dti2['percentage']=(dti2['cnt_dti_cat_stat']*100)/dti2['cnt_dti']\n",
    "dti2['start_dti']=dti2['dti_cat'].apply(lambda x:int(x.split('-')[0]))\n",
    "dti2=dti2.sort_values('start_dti')\n",
    "dti2"
   ]
  },
  {
   "cell_type": "markdown",
   "id": "af74350c",
   "metadata": {},
   "source": [
    "### Here we get the answer for our question like if dti value falls in particular range then what is % of getting it charged off or fully paid"
   ]
  },
  {
   "cell_type": "code",
   "execution_count": 97,
   "id": "5d59856f",
   "metadata": {},
   "outputs": [
    {
     "data": {
      "text/plain": [
       "<AxesSubplot:xlabel='dti_cat', ylabel='percentage'>"
      ]
     },
     "execution_count": 97,
     "metadata": {},
     "output_type": "execute_result"
    },
    {
     "data": {
      "image/png": "[encoded data removed]",
      "text/plain": [
       "<Figure size 792x576 with 1 Axes>"
      ]
     },
     "metadata": {},
     "output_type": "display_data"
    }
   ],
   "source": [
    "sns.lineplot(data=dti2, x=\"dti_cat\", y=\"percentage\",hue='loan_status')"
   ]
  },
  {
   "cell_type": "markdown",
   "id": "226b2f35",
   "metadata": {},
   "source": [
    "## Interest rate vs Loan Status"
   ]
  },
  {
   "cell_type": "code",
   "execution_count": 98,
   "id": "3fc90a98",
   "metadata": {
    "scrolled": false
   },
   "outputs": [
    {
     "data": {
      "text/plain": [
       "<AxesSubplot:xlabel='int_rate_flt', ylabel='Count'>"
      ]
     },
     "execution_count": 98,
     "metadata": {},
     "output_type": "execute_result"
    },
    {
     "data": {
      "image/png": "[encoded data removed]",
      "text/plain": [
       "<Figure size 792x576 with 1 Axes>"
      ]
     },
     "metadata": {},
     "output_type": "display_data"
    }
   ],
   "source": [
    "sns.histplot(data=loandata, x=\"int_rate_flt\", kde=True,hue='loan_status')"
   ]
  },
  {
   "cell_type": "markdown",
   "id": "2587ad8a",
   "metadata": {},
   "source": [
    "### creating buckets to analyse this"
   ]
  },
  {
   "cell_type": "code",
   "execution_count": 99,
   "id": "e1be170b",
   "metadata": {
    "scrolled": false
   },
   "outputs": [
    {
     "data": {
      "text/html": [
       "<div>\n",
       "<style scoped>\n",
       "    .dataframe tbody tr th:only-of-type {\n",
       "        vertical-align: middle;\n",
       "    }\n",
       "\n",
       "    .dataframe tbody tr th {\n",
       "        vertical-align: top;\n",
       "    }\n",
       "\n",
       "    .dataframe thead th {\n",
       "        text-align: right;\n",
       "    }\n",
       "</style>\n",
       "<table border=\"1\" class=\"dataframe\">\n",
       "  <thead>\n",
       "    <tr style=\"text-align: right;\">\n",
       "      <th></th>\n",
       "      <th>int_rate_flt_cat</th>\n",
       "      <th>loan_status</th>\n",
       "      <th>cnt_int_rate_flt_cat_stat</th>\n",
       "      <th>cnt_int_rate_flt</th>\n",
       "      <th>percentage</th>\n",
       "      <th>start_int_rate</th>\n",
       "    </tr>\n",
       "  </thead>\n",
       "  <tbody>\n",
       "    <tr>\n",
       "      <th>12</th>\n",
       "      <td>5-7.5</td>\n",
       "      <td>Charged Off</td>\n",
       "      <td>254</td>\n",
       "      <td>5132</td>\n",
       "      <td>4.95</td>\n",
       "      <td>5.00</td>\n",
       "    </tr>\n",
       "    <tr>\n",
       "      <th>13</th>\n",
       "      <td>5-7.5</td>\n",
       "      <td>Fully Paid</td>\n",
       "      <td>4878</td>\n",
       "      <td>5132</td>\n",
       "      <td>95.05</td>\n",
       "      <td>5.00</td>\n",
       "    </tr>\n",
       "    <tr>\n",
       "      <th>14</th>\n",
       "      <td>7.5-10.0</td>\n",
       "      <td>Charged Off</td>\n",
       "      <td>555</td>\n",
       "      <td>6595</td>\n",
       "      <td>8.42</td>\n",
       "      <td>7.50</td>\n",
       "    </tr>\n",
       "    <tr>\n",
       "      <th>15</th>\n",
       "      <td>7.5-10.0</td>\n",
       "      <td>Fully Paid</td>\n",
       "      <td>6040</td>\n",
       "      <td>6595</td>\n",
       "      <td>91.58</td>\n",
       "      <td>7.50</td>\n",
       "    </tr>\n",
       "    <tr>\n",
       "      <th>0</th>\n",
       "      <td>10.0-12.5</td>\n",
       "      <td>Charged Off</td>\n",
       "      <td>1174</td>\n",
       "      <td>8780</td>\n",
       "      <td>13.37</td>\n",
       "      <td>10.00</td>\n",
       "    </tr>\n",
       "    <tr>\n",
       "      <th>1</th>\n",
       "      <td>10.0-12.5</td>\n",
       "      <td>Fully Paid</td>\n",
       "      <td>7606</td>\n",
       "      <td>8780</td>\n",
       "      <td>86.63</td>\n",
       "      <td>10.00</td>\n",
       "    </tr>\n",
       "    <tr>\n",
       "      <th>2</th>\n",
       "      <td>12.5-15.0</td>\n",
       "      <td>Charged Off</td>\n",
       "      <td>1405</td>\n",
       "      <td>8348</td>\n",
       "      <td>16.83</td>\n",
       "      <td>12.50</td>\n",
       "    </tr>\n",
       "    <tr>\n",
       "      <th>3</th>\n",
       "      <td>12.5-15.0</td>\n",
       "      <td>Fully Paid</td>\n",
       "      <td>6943</td>\n",
       "      <td>8348</td>\n",
       "      <td>83.17</td>\n",
       "      <td>12.50</td>\n",
       "    </tr>\n",
       "    <tr>\n",
       "      <th>4</th>\n",
       "      <td>15.0-17.5</td>\n",
       "      <td>Charged Off</td>\n",
       "      <td>1096</td>\n",
       "      <td>4719</td>\n",
       "      <td>23.23</td>\n",
       "      <td>15.00</td>\n",
       "    </tr>\n",
       "    <tr>\n",
       "      <th>5</th>\n",
       "      <td>15.0-17.5</td>\n",
       "      <td>Fully Paid</td>\n",
       "      <td>3623</td>\n",
       "      <td>4719</td>\n",
       "      <td>76.77</td>\n",
       "      <td>15.00</td>\n",
       "    </tr>\n",
       "    <tr>\n",
       "      <th>6</th>\n",
       "      <td>17.5-20.0</td>\n",
       "      <td>Charged Off</td>\n",
       "      <td>535</td>\n",
       "      <td>1791</td>\n",
       "      <td>29.87</td>\n",
       "      <td>17.50</td>\n",
       "    </tr>\n",
       "    <tr>\n",
       "      <th>7</th>\n",
       "      <td>17.5-20.0</td>\n",
       "      <td>Fully Paid</td>\n",
       "      <td>1256</td>\n",
       "      <td>1791</td>\n",
       "      <td>70.13</td>\n",
       "      <td>17.50</td>\n",
       "    </tr>\n",
       "    <tr>\n",
       "      <th>8</th>\n",
       "      <td>20.0-22.5</td>\n",
       "      <td>Charged Off</td>\n",
       "      <td>206</td>\n",
       "      <td>542</td>\n",
       "      <td>38.01</td>\n",
       "      <td>20.00</td>\n",
       "    </tr>\n",
       "    <tr>\n",
       "      <th>9</th>\n",
       "      <td>20.0-22.5</td>\n",
       "      <td>Fully Paid</td>\n",
       "      <td>336</td>\n",
       "      <td>542</td>\n",
       "      <td>61.99</td>\n",
       "      <td>20.00</td>\n",
       "    </tr>\n",
       "    <tr>\n",
       "      <th>10</th>\n",
       "      <td>22.5-25</td>\n",
       "      <td>Charged Off</td>\n",
       "      <td>21</td>\n",
       "      <td>40</td>\n",
       "      <td>52.50</td>\n",
       "      <td>22.50</td>\n",
       "    </tr>\n",
       "    <tr>\n",
       "      <th>11</th>\n",
       "      <td>22.5-25</td>\n",
       "      <td>Fully Paid</td>\n",
       "      <td>19</td>\n",
       "      <td>40</td>\n",
       "      <td>47.50</td>\n",
       "      <td>22.50</td>\n",
       "    </tr>\n",
       "  </tbody>\n",
       "</table>\n",
       "</div>"
      ],
      "text/plain": [
       "   int_rate_flt_cat  loan_status  cnt_int_rate_flt_cat_stat  cnt_int_rate_flt  \\\n",
       "12            5-7.5  Charged Off                        254              5132   \n",
       "13            5-7.5   Fully Paid                       4878              5132   \n",
       "14         7.5-10.0  Charged Off                        555              6595   \n",
       "15         7.5-10.0   Fully Paid                       6040              6595   \n",
       "0         10.0-12.5  Charged Off                       1174              8780   \n",
       "1         10.0-12.5   Fully Paid                       7606              8780   \n",
       "2         12.5-15.0  Charged Off                       1405              8348   \n",
       "3         12.5-15.0   Fully Paid                       6943              8348   \n",
       "4         15.0-17.5  Charged Off                       1096              4719   \n",
       "5         15.0-17.5   Fully Paid                       3623              4719   \n",
       "6         17.5-20.0  Charged Off                        535              1791   \n",
       "7         17.5-20.0   Fully Paid                       1256              1791   \n",
       "8         20.0-22.5  Charged Off                        206               542   \n",
       "9         20.0-22.5   Fully Paid                        336               542   \n",
       "10          22.5-25  Charged Off                         21                40   \n",
       "11          22.5-25   Fully Paid                         19                40   \n",
       "\n",
       "    percentage  start_int_rate  \n",
       "12        4.95            5.00  \n",
       "13       95.05            5.00  \n",
       "14        8.42            7.50  \n",
       "15       91.58            7.50  \n",
       "0        13.37           10.00  \n",
       "1        86.63           10.00  \n",
       "2        16.83           12.50  \n",
       "3        83.17           12.50  \n",
       "4        23.23           15.00  \n",
       "5        76.77           15.00  \n",
       "6        29.87           17.50  \n",
       "7        70.13           17.50  \n",
       "8        38.01           20.00  \n",
       "9        61.99           20.00  \n",
       "10       52.50           22.50  \n",
       "11       47.50           22.50  "
      ]
     },
     "execution_count": 99,
     "metadata": {},
     "output_type": "execute_result"
    }
   ],
   "source": [
    "def int_rate_flt_cat(x):\n",
    "    if x>5 and x<=7.5:\n",
    "        return '5-7.5'\n",
    "    elif x>7.5 and x<=10.0:\n",
    "        return '7.5-10.0'\n",
    "    elif x>10.0 and x<=12.5:\n",
    "        return '10.0-12.5'\n",
    "    elif x>12.5 and x<=15.0:\n",
    "        return '12.5-15.0'\n",
    "    elif x>15.0 and x<=17.5:\n",
    "        return '15.0-17.5'\n",
    "    elif x>17.5 and x<=20.0:\n",
    "        return '17.5-20.0'\n",
    "    elif x>20.0 and x<=22.5:\n",
    "        return '20.0-22.5'\n",
    "    elif x>22.5 and x<=25:\n",
    "        return '22.5-25'\n",
    "\n",
    "\n",
    "loandata['int_rate_flt_cat']=loandata['int_rate_flt'].apply(int_rate_flt_cat)\n",
    "interest_rate=loandata.groupby(['int_rate_flt_cat','loan_status'])['int_rate_flt_cat'].count().rename('cnt_int_rate_flt_cat_stat')\n",
    "interest_rate=interest_rate.reset_index(level=['int_rate_flt_cat','loan_status'])\n",
    "\n",
    "interest_rate1=loandata.groupby(['int_rate_flt_cat'])['int_rate_flt_cat'].count().rename('cnt_int_rate_flt')\n",
    "interest_rate1=interest_rate1.reset_index(level=['int_rate_flt_cat'])\n",
    "interest_rate1=pd.DataFrame(interest_rate1)\n",
    "interest_rate1.columns\n",
    "\n",
    "interest_rate2=pd.merge(interest_rate,interest_rate1,on='int_rate_flt_cat')\n",
    "interest_rate2['percentage']=(interest_rate2['cnt_int_rate_flt_cat_stat']*100)/interest_rate2['cnt_int_rate_flt']\n",
    "interest_rate2['start_int_rate']=interest_rate2['int_rate_flt_cat'].apply(lambda x:float(x.split('-')[0]))\n",
    "interest_rate2=interest_rate2.sort_values('start_int_rate')\n",
    "interest_rate2"
   ]
  },
  {
   "cell_type": "markdown",
   "id": "57e0d335",
   "metadata": {},
   "source": [
    "### Here we get the answer for our question like if dti value falls in particular range then what is % of getting it charged off or fully paid"
   ]
  },
  {
   "cell_type": "code",
   "execution_count": 100,
   "id": "50ead9cb",
   "metadata": {},
   "outputs": [
    {
     "data": {
      "text/plain": [
       "<AxesSubplot:xlabel='int_rate_flt_cat', ylabel='percentage'>"
      ]
     },
     "execution_count": 100,
     "metadata": {},
     "output_type": "execute_result"
    },
    {
     "data": {
      "image/png": "[encoded data removed]",
      "text/plain": [
       "<Figure size 792x576 with 1 Axes>"
      ]
     },
     "metadata": {},
     "output_type": "display_data"
    }
   ],
   "source": [
    "sns.lineplot(data=interest_rate2, x=\"int_rate_flt_cat\", y=\"percentage\",hue='loan_status')"
   ]
  },
  {
   "cell_type": "markdown",
   "id": "c47fe08b",
   "metadata": {},
   "source": [
    "### This is completely showing that as the interest rate goes higher it is more likely to get default as compared to lower interest rates"
   ]
  },
  {
   "cell_type": "markdown",
   "id": "0a103573",
   "metadata": {},
   "source": [
    "## Employee length of service vs loan status"
   ]
  },
  {
   "cell_type": "code",
   "execution_count": 102,
   "id": "052ab1a3",
   "metadata": {
    "scrolled": false
   },
   "outputs": [],
   "source": [
    "loandata['emp_length_int']=loandata['emp_length'].apply(lambda x: int(x.replace('years','').replace('<','').replace('+','').replace('year','').strip()) if x is not np.nan else 0)\n",
    "loandata=loandata.sort_values('emp_length_int')\n",
    "#sns.histplot(data=loandata, x=\"emp_length\", kde=True,hue='loan_status')"
   ]
  },
  {
   "cell_type": "code",
   "execution_count": 111,
   "id": "separated-determination",
   "metadata": {},
   "outputs": [
    {
     "data": {
      "text/html": [
       "<div>\n",
       "<style scoped>\n",
       "    .dataframe tbody tr th:only-of-type {\n",
       "        vertical-align: middle;\n",
       "    }\n",
       "\n",
       "    .dataframe tbody tr th {\n",
       "        vertical-align: top;\n",
       "    }\n",
       "\n",
       "    .dataframe thead th {\n",
       "        text-align: right;\n",
       "    }\n",
       "</style>\n",
       "<table border=\"1\" class=\"dataframe\">\n",
       "  <thead>\n",
       "    <tr style=\"text-align: right;\">\n",
       "      <th></th>\n",
       "      <th>loan_amnt</th>\n",
       "      <th>funded_amnt</th>\n",
       "      <th>funded_amnt_inv</th>\n",
       "      <th>term</th>\n",
       "      <th>installment</th>\n",
       "      <th>grade</th>\n",
       "      <th>sub_grade</th>\n",
       "      <th>emp_length</th>\n",
       "      <th>home_ownership</th>\n",
       "      <th>annual_inc</th>\n",
       "      <th>verification_status</th>\n",
       "      <th>issue_d</th>\n",
       "      <th>loan_status</th>\n",
       "      <th>purpose</th>\n",
       "      <th>zip_code</th>\n",
       "      <th>addr_state</th>\n",
       "      <th>dti</th>\n",
       "      <th>pub_rec_bankruptcies</th>\n",
       "      <th>int_rate_flt</th>\n",
       "      <th>issue_year</th>\n",
       "      <th>issue_month</th>\n",
       "      <th>loan_amt_category</th>\n",
       "      <th>annual_inc_cat</th>\n",
       "      <th>dti_cat</th>\n",
       "      <th>int_rate_flt_cat</th>\n",
       "      <th>emp_length_int</th>\n",
       "    </tr>\n",
       "  </thead>\n",
       "  <tbody>\n",
       "    <tr>\n",
       "      <th>19219</th>\n",
       "      <td>1500</td>\n",
       "      <td>1500</td>\n",
       "      <td>1500.00</td>\n",
       "      <td>36 months</td>\n",
       "      <td>48.15</td>\n",
       "      <td>B</td>\n",
       "      <td>B1</td>\n",
       "      <td>NaN</td>\n",
       "      <td>RENT</td>\n",
       "      <td>30000.00</td>\n",
       "      <td>Source Verified</td>\n",
       "      <td>2011-02-01</td>\n",
       "      <td>Charged Off</td>\n",
       "      <td>small_business</td>\n",
       "      <td>031xx</td>\n",
       "      <td>NH</td>\n",
       "      <td>22.04</td>\n",
       "      <td>0.00</td>\n",
       "      <td>9.63</td>\n",
       "      <td>2011</td>\n",
       "      <td>2</td>\n",
       "      <td>0-5000</td>\n",
       "      <td>20000-40000</td>\n",
       "      <td>20-25</td>\n",
       "      <td>7.5-10.0</td>\n",
       "      <td>0</td>\n",
       "    </tr>\n",
       "    <tr>\n",
       "      <th>23144</th>\n",
       "      <td>5500</td>\n",
       "      <td>5500</td>\n",
       "      <td>5500.00</td>\n",
       "      <td>36 months</td>\n",
       "      <td>174.60</td>\n",
       "      <td>B</td>\n",
       "      <td>B1</td>\n",
       "      <td>NaN</td>\n",
       "      <td>RENT</td>\n",
       "      <td>30000.00</td>\n",
       "      <td>Source Verified</td>\n",
       "      <td>2010-11-01</td>\n",
       "      <td>Fully Paid</td>\n",
       "      <td>car</td>\n",
       "      <td>282xx</td>\n",
       "      <td>NC</td>\n",
       "      <td>9.76</td>\n",
       "      <td>0.00</td>\n",
       "      <td>8.88</td>\n",
       "      <td>2010</td>\n",
       "      <td>11</td>\n",
       "      <td>5000-10000</td>\n",
       "      <td>20000-40000</td>\n",
       "      <td>5-10</td>\n",
       "      <td>7.5-10.0</td>\n",
       "      <td>0</td>\n",
       "    </tr>\n",
       "    <tr>\n",
       "      <th>7238</th>\n",
       "      <td>3000</td>\n",
       "      <td>3000</td>\n",
       "      <td>2950.00</td>\n",
       "      <td>36 months</td>\n",
       "      <td>91.31</td>\n",
       "      <td>A</td>\n",
       "      <td>A1</td>\n",
       "      <td>NaN</td>\n",
       "      <td>MORTGAGE</td>\n",
       "      <td>65000.00</td>\n",
       "      <td>Source Verified</td>\n",
       "      <td>2011-09-01</td>\n",
       "      <td>Fully Paid</td>\n",
       "      <td>vacation</td>\n",
       "      <td>838xx</td>\n",
       "      <td>WA</td>\n",
       "      <td>11.08</td>\n",
       "      <td>0.00</td>\n",
       "      <td>6.03</td>\n",
       "      <td>2011</td>\n",
       "      <td>9</td>\n",
       "      <td>0-5000</td>\n",
       "      <td>60000-80000</td>\n",
       "      <td>10-15</td>\n",
       "      <td>5-7.5</td>\n",
       "      <td>0</td>\n",
       "    </tr>\n",
       "    <tr>\n",
       "      <th>18926</th>\n",
       "      <td>10000</td>\n",
       "      <td>10000</td>\n",
       "      <td>9574.92</td>\n",
       "      <td>60 months</td>\n",
       "      <td>210.66</td>\n",
       "      <td>B</td>\n",
       "      <td>B1</td>\n",
       "      <td>NaN</td>\n",
       "      <td>OWN</td>\n",
       "      <td>58000.00</td>\n",
       "      <td>Not Verified</td>\n",
       "      <td>2011-02-01</td>\n",
       "      <td>Charged Off</td>\n",
       "      <td>debt_consolidation</td>\n",
       "      <td>349xx</td>\n",
       "      <td>FL</td>\n",
       "      <td>7.51</td>\n",
       "      <td>0.00</td>\n",
       "      <td>9.63</td>\n",
       "      <td>2011</td>\n",
       "      <td>2</td>\n",
       "      <td>5000-10000</td>\n",
       "      <td>40000-60000</td>\n",
       "      <td>5-10</td>\n",
       "      <td>7.5-10.0</td>\n",
       "      <td>0</td>\n",
       "    </tr>\n",
       "    <tr>\n",
       "      <th>13884</th>\n",
       "      <td>1500</td>\n",
       "      <td>1500</td>\n",
       "      <td>1500.00</td>\n",
       "      <td>36 months</td>\n",
       "      <td>47.35</td>\n",
       "      <td>A</td>\n",
       "      <td>A5</td>\n",
       "      <td>NaN</td>\n",
       "      <td>MORTGAGE</td>\n",
       "      <td>35376.00</td>\n",
       "      <td>Not Verified</td>\n",
       "      <td>2011-06-01</td>\n",
       "      <td>Fully Paid</td>\n",
       "      <td>other</td>\n",
       "      <td>857xx</td>\n",
       "      <td>AZ</td>\n",
       "      <td>15.71</td>\n",
       "      <td>0.00</td>\n",
       "      <td>8.49</td>\n",
       "      <td>2011</td>\n",
       "      <td>6</td>\n",
       "      <td>0-5000</td>\n",
       "      <td>20000-40000</td>\n",
       "      <td>15-20</td>\n",
       "      <td>7.5-10.0</td>\n",
       "      <td>0</td>\n",
       "    </tr>\n",
       "    <tr>\n",
       "      <th>24050</th>\n",
       "      <td>16000</td>\n",
       "      <td>16000</td>\n",
       "      <td>13818.57</td>\n",
       "      <td>60 months</td>\n",
       "      <td>357.78</td>\n",
       "      <td>C</td>\n",
       "      <td>C1</td>\n",
       "      <td>NaN</td>\n",
       "      <td>OWN</td>\n",
       "      <td>40000.00</td>\n",
       "      <td>Source Verified</td>\n",
       "      <td>2010-10-01</td>\n",
       "      <td>Charged Off</td>\n",
       "      <td>small_business</td>\n",
       "      <td>488xx</td>\n",
       "      <td>MI</td>\n",
       "      <td>8.88</td>\n",
       "      <td>0.00</td>\n",
       "      <td>12.23</td>\n",
       "      <td>2010</td>\n",
       "      <td>10</td>\n",
       "      <td>15000-20000</td>\n",
       "      <td>20000-40000</td>\n",
       "      <td>5-10</td>\n",
       "      <td>10.0-12.5</td>\n",
       "      <td>0</td>\n",
       "    </tr>\n",
       "    <tr>\n",
       "      <th>6631</th>\n",
       "      <td>2200</td>\n",
       "      <td>2200</td>\n",
       "      <td>2200.00</td>\n",
       "      <td>36 months</td>\n",
       "      <td>70.90</td>\n",
       "      <td>B</td>\n",
       "      <td>B1</td>\n",
       "      <td>NaN</td>\n",
       "      <td>RENT</td>\n",
       "      <td>7200.00</td>\n",
       "      <td>Source Verified</td>\n",
       "      <td>2011-10-01</td>\n",
       "      <td>Fully Paid</td>\n",
       "      <td>major_purchase</td>\n",
       "      <td>148xx</td>\n",
       "      <td>NY</td>\n",
       "      <td>4.17</td>\n",
       "      <td>0.00</td>\n",
       "      <td>9.91</td>\n",
       "      <td>2011</td>\n",
       "      <td>10</td>\n",
       "      <td>0-5000</td>\n",
       "      <td>0-20000</td>\n",
       "      <td>0-5</td>\n",
       "      <td>7.5-10.0</td>\n",
       "      <td>0</td>\n",
       "    </tr>\n",
       "    <tr>\n",
       "      <th>24052</th>\n",
       "      <td>12000</td>\n",
       "      <td>12000</td>\n",
       "      <td>4725.00</td>\n",
       "      <td>60 months</td>\n",
       "      <td>248.41</td>\n",
       "      <td>B</td>\n",
       "      <td>B1</td>\n",
       "      <td>NaN</td>\n",
       "      <td>MORTGAGE</td>\n",
       "      <td>82000.00</td>\n",
       "      <td>Not Verified</td>\n",
       "      <td>2010-10-01</td>\n",
       "      <td>Fully Paid</td>\n",
       "      <td>medical</td>\n",
       "      <td>923xx</td>\n",
       "      <td>CA</td>\n",
       "      <td>2.59</td>\n",
       "      <td>0.00</td>\n",
       "      <td>8.88</td>\n",
       "      <td>2010</td>\n",
       "      <td>10</td>\n",
       "      <td>10000-15000</td>\n",
       "      <td>80000-100000</td>\n",
       "      <td>0-5</td>\n",
       "      <td>7.5-10.0</td>\n",
       "      <td>0</td>\n",
       "    </tr>\n",
       "    <tr>\n",
       "      <th>32665</th>\n",
       "      <td>25000</td>\n",
       "      <td>25000</td>\n",
       "      <td>23912.90</td>\n",
       "      <td>36 months</td>\n",
       "      <td>809.62</td>\n",
       "      <td>B</td>\n",
       "      <td>B2</td>\n",
       "      <td>NaN</td>\n",
       "      <td>MORTGAGE</td>\n",
       "      <td>134000.00</td>\n",
       "      <td>Not Verified</td>\n",
       "      <td>2010-02-01</td>\n",
       "      <td>Fully Paid</td>\n",
       "      <td>small_business</td>\n",
       "      <td>442xx</td>\n",
       "      <td>OH</td>\n",
       "      <td>0.13</td>\n",
       "      <td>0.00</td>\n",
       "      <td>10.25</td>\n",
       "      <td>2010</td>\n",
       "      <td>2</td>\n",
       "      <td>20000-25000</td>\n",
       "      <td>120000-140000</td>\n",
       "      <td>0-5</td>\n",
       "      <td>10.0-12.5</td>\n",
       "      <td>0</td>\n",
       "    </tr>\n",
       "    <tr>\n",
       "      <th>3461</th>\n",
       "      <td>2000</td>\n",
       "      <td>2000</td>\n",
       "      <td>2000.00</td>\n",
       "      <td>36 months</td>\n",
       "      <td>65.15</td>\n",
       "      <td>B</td>\n",
       "      <td>B2</td>\n",
       "      <td>NaN</td>\n",
       "      <td>RENT</td>\n",
       "      <td>8400.00</td>\n",
       "      <td>Verified</td>\n",
       "      <td>2011-11-01</td>\n",
       "      <td>Fully Paid</td>\n",
       "      <td>credit_card</td>\n",
       "      <td>156xx</td>\n",
       "      <td>PA</td>\n",
       "      <td>18.43</td>\n",
       "      <td>0.00</td>\n",
       "      <td>10.65</td>\n",
       "      <td>2011</td>\n",
       "      <td>11</td>\n",
       "      <td>0-5000</td>\n",
       "      <td>0-20000</td>\n",
       "      <td>15-20</td>\n",
       "      <td>10.0-12.5</td>\n",
       "      <td>0</td>\n",
       "    </tr>\n",
       "    <tr>\n",
       "      <th>7780</th>\n",
       "      <td>4800</td>\n",
       "      <td>4800</td>\n",
       "      <td>4800.00</td>\n",
       "      <td>36 months</td>\n",
       "      <td>162.87</td>\n",
       "      <td>C</td>\n",
       "      <td>C2</td>\n",
       "      <td>NaN</td>\n",
       "      <td>RENT</td>\n",
       "      <td>27000.00</td>\n",
       "      <td>Verified</td>\n",
       "      <td>2011-09-01</td>\n",
       "      <td>Fully Paid</td>\n",
       "      <td>credit_card</td>\n",
       "      <td>312xx</td>\n",
       "      <td>GA</td>\n",
       "      <td>23.56</td>\n",
       "      <td>0.00</td>\n",
       "      <td>13.49</td>\n",
       "      <td>2011</td>\n",
       "      <td>9</td>\n",
       "      <td>0-5000</td>\n",
       "      <td>20000-40000</td>\n",
       "      <td>20-25</td>\n",
       "      <td>12.5-15.0</td>\n",
       "      <td>0</td>\n",
       "    </tr>\n",
       "    <tr>\n",
       "      <th>22478</th>\n",
       "      <td>4000</td>\n",
       "      <td>4000</td>\n",
       "      <td>4000.00</td>\n",
       "      <td>60 months</td>\n",
       "      <td>98.75</td>\n",
       "      <td>E</td>\n",
       "      <td>E3</td>\n",
       "      <td>NaN</td>\n",
       "      <td>RENT</td>\n",
       "      <td>14500.00</td>\n",
       "      <td>Verified</td>\n",
       "      <td>2010-12-01</td>\n",
       "      <td>Fully Paid</td>\n",
       "      <td>other</td>\n",
       "      <td>330xx</td>\n",
       "      <td>FL</td>\n",
       "      <td>12.25</td>\n",
       "      <td>0.00</td>\n",
       "      <td>16.69</td>\n",
       "      <td>2010</td>\n",
       "      <td>12</td>\n",
       "      <td>0-5000</td>\n",
       "      <td>0-20000</td>\n",
       "      <td>10-15</td>\n",
       "      <td>15.0-17.5</td>\n",
       "      <td>0</td>\n",
       "    </tr>\n",
       "    <tr>\n",
       "      <th>14688</th>\n",
       "      <td>6000</td>\n",
       "      <td>6000</td>\n",
       "      <td>5925.00</td>\n",
       "      <td>36 months</td>\n",
       "      <td>180.96</td>\n",
       "      <td>A</td>\n",
       "      <td>A1</td>\n",
       "      <td>NaN</td>\n",
       "      <td>OWN</td>\n",
       "      <td>37404.00</td>\n",
       "      <td>Not Verified</td>\n",
       "      <td>2011-05-01</td>\n",
       "      <td>Fully Paid</td>\n",
       "      <td>debt_consolidation</td>\n",
       "      <td>103xx</td>\n",
       "      <td>NY</td>\n",
       "      <td>22.26</td>\n",
       "      <td>0.00</td>\n",
       "      <td>5.42</td>\n",
       "      <td>2011</td>\n",
       "      <td>5</td>\n",
       "      <td>5000-10000</td>\n",
       "      <td>20000-40000</td>\n",
       "      <td>20-25</td>\n",
       "      <td>5-7.5</td>\n",
       "      <td>0</td>\n",
       "    </tr>\n",
       "    <tr>\n",
       "      <th>22509</th>\n",
       "      <td>1600</td>\n",
       "      <td>1600</td>\n",
       "      <td>1600.00</td>\n",
       "      <td>36 months</td>\n",
       "      <td>51.90</td>\n",
       "      <td>B</td>\n",
       "      <td>B5</td>\n",
       "      <td>NaN</td>\n",
       "      <td>RENT</td>\n",
       "      <td>10008.00</td>\n",
       "      <td>Not Verified</td>\n",
       "      <td>2010-12-01</td>\n",
       "      <td>Fully Paid</td>\n",
       "      <td>debt_consolidation</td>\n",
       "      <td>974xx</td>\n",
       "      <td>OR</td>\n",
       "      <td>8.99</td>\n",
       "      <td>1.00</td>\n",
       "      <td>10.36</td>\n",
       "      <td>2010</td>\n",
       "      <td>12</td>\n",
       "      <td>0-5000</td>\n",
       "      <td>0-20000</td>\n",
       "      <td>5-10</td>\n",
       "      <td>10.0-12.5</td>\n",
       "      <td>0</td>\n",
       "    </tr>\n",
       "    <tr>\n",
       "      <th>22401</th>\n",
       "      <td>7200</td>\n",
       "      <td>7200</td>\n",
       "      <td>7200.00</td>\n",
       "      <td>60 months</td>\n",
       "      <td>154.26</td>\n",
       "      <td>B</td>\n",
       "      <td>B5</td>\n",
       "      <td>NaN</td>\n",
       "      <td>RENT</td>\n",
       "      <td>19200.00</td>\n",
       "      <td>Source Verified</td>\n",
       "      <td>2010-12-01</td>\n",
       "      <td>Fully Paid</td>\n",
       "      <td>debt_consolidation</td>\n",
       "      <td>336xx</td>\n",
       "      <td>FL</td>\n",
       "      <td>14.31</td>\n",
       "      <td>0.00</td>\n",
       "      <td>10.36</td>\n",
       "      <td>2010</td>\n",
       "      <td>12</td>\n",
       "      <td>5000-10000</td>\n",
       "      <td>0-20000</td>\n",
       "      <td>10-15</td>\n",
       "      <td>10.0-12.5</td>\n",
       "      <td>0</td>\n",
       "    </tr>\n",
       "    <tr>\n",
       "      <th>5203</th>\n",
       "      <td>17000</td>\n",
       "      <td>17000</td>\n",
       "      <td>17000.00</td>\n",
       "      <td>60 months</td>\n",
       "      <td>343.89</td>\n",
       "      <td>A</td>\n",
       "      <td>A4</td>\n",
       "      <td>NaN</td>\n",
       "      <td>MORTGAGE</td>\n",
       "      <td>41640.00</td>\n",
       "      <td>Source Verified</td>\n",
       "      <td>2011-10-01</td>\n",
       "      <td>Fully Paid</td>\n",
       "      <td>major_purchase</td>\n",
       "      <td>535xx</td>\n",
       "      <td>WI</td>\n",
       "      <td>9.14</td>\n",
       "      <td>0.00</td>\n",
       "      <td>7.90</td>\n",
       "      <td>2011</td>\n",
       "      <td>10</td>\n",
       "      <td>15000-20000</td>\n",
       "      <td>40000-60000</td>\n",
       "      <td>5-10</td>\n",
       "      <td>7.5-10.0</td>\n",
       "      <td>0</td>\n",
       "    </tr>\n",
       "    <tr>\n",
       "      <th>23915</th>\n",
       "      <td>2500</td>\n",
       "      <td>2500</td>\n",
       "      <td>2500.00</td>\n",
       "      <td>36 months</td>\n",
       "      <td>79.36</td>\n",
       "      <td>B</td>\n",
       "      <td>B1</td>\n",
       "      <td>NaN</td>\n",
       "      <td>MORTGAGE</td>\n",
       "      <td>32400.00</td>\n",
       "      <td>Not Verified</td>\n",
       "      <td>2010-11-01</td>\n",
       "      <td>Charged Off</td>\n",
       "      <td>renewable_energy</td>\n",
       "      <td>953xx</td>\n",
       "      <td>CA</td>\n",
       "      <td>19.44</td>\n",
       "      <td>0.00</td>\n",
       "      <td>8.88</td>\n",
       "      <td>2010</td>\n",
       "      <td>11</td>\n",
       "      <td>0-5000</td>\n",
       "      <td>20000-40000</td>\n",
       "      <td>15-20</td>\n",
       "      <td>7.5-10.0</td>\n",
       "      <td>0</td>\n",
       "    </tr>\n",
       "    <tr>\n",
       "      <th>5009</th>\n",
       "      <td>10000</td>\n",
       "      <td>10000</td>\n",
       "      <td>10000.00</td>\n",
       "      <td>36 months</td>\n",
       "      <td>304.36</td>\n",
       "      <td>A</td>\n",
       "      <td>A1</td>\n",
       "      <td>NaN</td>\n",
       "      <td>OWN</td>\n",
       "      <td>50000.00</td>\n",
       "      <td>Verified</td>\n",
       "      <td>2011-10-01</td>\n",
       "      <td>Fully Paid</td>\n",
       "      <td>other</td>\n",
       "      <td>953xx</td>\n",
       "      <td>CA</td>\n",
       "      <td>4.78</td>\n",
       "      <td>0.00</td>\n",
       "      <td>6.03</td>\n",
       "      <td>2011</td>\n",
       "      <td>10</td>\n",
       "      <td>5000-10000</td>\n",
       "      <td>40000-60000</td>\n",
       "      <td>0-5</td>\n",
       "      <td>5-7.5</td>\n",
       "      <td>0</td>\n",
       "    </tr>\n",
       "    <tr>\n",
       "      <th>6785</th>\n",
       "      <td>12000</td>\n",
       "      <td>12000</td>\n",
       "      <td>12000.00</td>\n",
       "      <td>60 months</td>\n",
       "      <td>299.98</td>\n",
       "      <td>D</td>\n",
       "      <td>D3</td>\n",
       "      <td>NaN</td>\n",
       "      <td>RENT</td>\n",
       "      <td>32200.00</td>\n",
       "      <td>Verified</td>\n",
       "      <td>2011-09-01</td>\n",
       "      <td>Fully Paid</td>\n",
       "      <td>major_purchase</td>\n",
       "      <td>301xx</td>\n",
       "      <td>GA</td>\n",
       "      <td>4.25</td>\n",
       "      <td>0.00</td>\n",
       "      <td>17.27</td>\n",
       "      <td>2011</td>\n",
       "      <td>9</td>\n",
       "      <td>10000-15000</td>\n",
       "      <td>20000-40000</td>\n",
       "      <td>0-5</td>\n",
       "      <td>15.0-17.5</td>\n",
       "      <td>0</td>\n",
       "    </tr>\n",
       "    <tr>\n",
       "      <th>10878</th>\n",
       "      <td>10000</td>\n",
       "      <td>10000</td>\n",
       "      <td>10000.00</td>\n",
       "      <td>36 months</td>\n",
       "      <td>332.10</td>\n",
       "      <td>B</td>\n",
       "      <td>B5</td>\n",
       "      <td>NaN</td>\n",
       "      <td>RENT</td>\n",
       "      <td>36000.00</td>\n",
       "      <td>Not Verified</td>\n",
       "      <td>2011-07-01</td>\n",
       "      <td>Charged Off</td>\n",
       "      <td>debt_consolidation</td>\n",
       "      <td>954xx</td>\n",
       "      <td>CA</td>\n",
       "      <td>20.87</td>\n",
       "      <td>0.00</td>\n",
       "      <td>11.99</td>\n",
       "      <td>2011</td>\n",
       "      <td>7</td>\n",
       "      <td>5000-10000</td>\n",
       "      <td>20000-40000</td>\n",
       "      <td>20-25</td>\n",
       "      <td>10.0-12.5</td>\n",
       "      <td>0</td>\n",
       "    </tr>\n",
       "  </tbody>\n",
       "</table>\n",
       "</div>"
      ],
      "text/plain": [
       "       loan_amnt  funded_amnt  funded_amnt_inv        term  installment grade  \\\n",
       "19219       1500         1500          1500.00   36 months        48.15     B   \n",
       "23144       5500         5500          5500.00   36 months       174.60     B   \n",
       "7238        3000         3000          2950.00   36 months        91.31     A   \n",
       "18926      10000        10000          9574.92   60 months       210.66     B   \n",
       "13884       1500         1500          1500.00   36 months        47.35     A   \n",
       "24050      16000        16000         13818.57   60 months       357.78     C   \n",
       "6631        2200         2200          2200.00   36 months        70.90     B   \n",
       "24052      12000        12000          4725.00   60 months       248.41     B   \n",
       "32665      25000        25000         23912.90   36 months       809.62     B   \n",
       "3461        2000         2000          2000.00   36 months        65.15     B   \n",
       "7780        4800         4800          4800.00   36 months       162.87     C   \n",
       "22478       4000         4000          4000.00   60 months        98.75     E   \n",
       "14688       6000         6000          5925.00   36 months       180.96     A   \n",
       "22509       1600         1600          1600.00   36 months        51.90     B   \n",
       "22401       7200         7200          7200.00   60 months       154.26     B   \n",
       "5203       17000        17000         17000.00   60 months       343.89     A   \n",
       "23915       2500         2500          2500.00   36 months        79.36     B   \n",
       "5009       10000        10000         10000.00   36 months       304.36     A   \n",
       "6785       12000        12000         12000.00   60 months       299.98     D   \n",
       "10878      10000        10000         10000.00   36 months       332.10     B   \n",
       "\n",
       "      sub_grade emp_length home_ownership  annual_inc verification_status  \\\n",
       "19219        B1        NaN           RENT    30000.00     Source Verified   \n",
       "23144        B1        NaN           RENT    30000.00     Source Verified   \n",
       "7238         A1        NaN       MORTGAGE    65000.00     Source Verified   \n",
       "18926        B1        NaN            OWN    58000.00        Not Verified   \n",
       "13884        A5        NaN       MORTGAGE    35376.00        Not Verified   \n",
       "24050        C1        NaN            OWN    40000.00     Source Verified   \n",
       "6631         B1        NaN           RENT     7200.00     Source Verified   \n",
       "24052        B1        NaN       MORTGAGE    82000.00        Not Verified   \n",
       "32665        B2        NaN       MORTGAGE   134000.00        Not Verified   \n",
       "3461         B2        NaN           RENT     8400.00            Verified   \n",
       "7780         C2        NaN           RENT    27000.00            Verified   \n",
       "22478        E3        NaN           RENT    14500.00            Verified   \n",
       "14688        A1        NaN            OWN    37404.00        Not Verified   \n",
       "22509        B5        NaN           RENT    10008.00        Not Verified   \n",
       "22401        B5        NaN           RENT    19200.00     Source Verified   \n",
       "5203         A4        NaN       MORTGAGE    41640.00     Source Verified   \n",
       "23915        B1        NaN       MORTGAGE    32400.00        Not Verified   \n",
       "5009         A1        NaN            OWN    50000.00            Verified   \n",
       "6785         D3        NaN           RENT    32200.00            Verified   \n",
       "10878        B5        NaN           RENT    36000.00        Not Verified   \n",
       "\n",
       "         issue_d  loan_status             purpose zip_code addr_state   dti  \\\n",
       "19219 2011-02-01  Charged Off      small_business    031xx         NH 22.04   \n",
       "23144 2010-11-01   Fully Paid                 car    282xx         NC  9.76   \n",
       "7238  2011-09-01   Fully Paid            vacation    838xx         WA 11.08   \n",
       "18926 2011-02-01  Charged Off  debt_consolidation    349xx         FL  7.51   \n",
       "13884 2011-06-01   Fully Paid               other    857xx         AZ 15.71   \n",
       "24050 2010-10-01  Charged Off      small_business    488xx         MI  8.88   \n",
       "6631  2011-10-01   Fully Paid      major_purchase    148xx         NY  4.17   \n",
       "24052 2010-10-01   Fully Paid             medical    923xx         CA  2.59   \n",
       "32665 2010-02-01   Fully Paid      small_business    442xx         OH  0.13   \n",
       "3461  2011-11-01   Fully Paid         credit_card    156xx         PA 18.43   \n",
       "7780  2011-09-01   Fully Paid         credit_card    312xx         GA 23.56   \n",
       "22478 2010-12-01   Fully Paid               other    330xx         FL 12.25   \n",
       "14688 2011-05-01   Fully Paid  debt_consolidation    103xx         NY 22.26   \n",
       "22509 2010-12-01   Fully Paid  debt_consolidation    974xx         OR  8.99   \n",
       "22401 2010-12-01   Fully Paid  debt_consolidation    336xx         FL 14.31   \n",
       "5203  2011-10-01   Fully Paid      major_purchase    535xx         WI  9.14   \n",
       "23915 2010-11-01  Charged Off    renewable_energy    953xx         CA 19.44   \n",
       "5009  2011-10-01   Fully Paid               other    953xx         CA  4.78   \n",
       "6785  2011-09-01   Fully Paid      major_purchase    301xx         GA  4.25   \n",
       "10878 2011-07-01  Charged Off  debt_consolidation    954xx         CA 20.87   \n",
       "\n",
       "       pub_rec_bankruptcies  int_rate_flt  issue_year  issue_month  \\\n",
       "19219                  0.00          9.63        2011            2   \n",
       "23144                  0.00          8.88        2010           11   \n",
       "7238                   0.00          6.03        2011            9   \n",
       "18926                  0.00          9.63        2011            2   \n",
       "13884                  0.00          8.49        2011            6   \n",
       "24050                  0.00         12.23        2010           10   \n",
       "6631                   0.00          9.91        2011           10   \n",
       "24052                  0.00          8.88        2010           10   \n",
       "32665                  0.00         10.25        2010            2   \n",
       "3461                   0.00         10.65        2011           11   \n",
       "7780                   0.00         13.49        2011            9   \n",
       "22478                  0.00         16.69        2010           12   \n",
       "14688                  0.00          5.42        2011            5   \n",
       "22509                  1.00         10.36        2010           12   \n",
       "22401                  0.00         10.36        2010           12   \n",
       "5203                   0.00          7.90        2011           10   \n",
       "23915                  0.00          8.88        2010           11   \n",
       "5009                   0.00          6.03        2011           10   \n",
       "6785                   0.00         17.27        2011            9   \n",
       "10878                  0.00         11.99        2011            7   \n",
       "\n",
       "      loan_amt_category annual_inc_cat dti_cat int_rate_flt_cat  \\\n",
       "19219            0-5000    20000-40000   20-25         7.5-10.0   \n",
       "23144        5000-10000    20000-40000    5-10         7.5-10.0   \n",
       "7238             0-5000    60000-80000   10-15            5-7.5   \n",
       "18926        5000-10000    40000-60000    5-10         7.5-10.0   \n",
       "13884            0-5000    20000-40000   15-20         7.5-10.0   \n",
       "24050       15000-20000    20000-40000    5-10        10.0-12.5   \n",
       "6631             0-5000        0-20000     0-5         7.5-10.0   \n",
       "24052       10000-15000   80000-100000     0-5         7.5-10.0   \n",
       "32665       20000-25000  120000-140000     0-5        10.0-12.5   \n",
       "3461             0-5000        0-20000   15-20        10.0-12.5   \n",
       "7780             0-5000    20000-40000   20-25        12.5-15.0   \n",
       "22478            0-5000        0-20000   10-15        15.0-17.5   \n",
       "14688        5000-10000    20000-40000   20-25            5-7.5   \n",
       "22509            0-5000        0-20000    5-10        10.0-12.5   \n",
       "22401        5000-10000        0-20000   10-15        10.0-12.5   \n",
       "5203        15000-20000    40000-60000    5-10         7.5-10.0   \n",
       "23915            0-5000    20000-40000   15-20         7.5-10.0   \n",
       "5009         5000-10000    40000-60000     0-5            5-7.5   \n",
       "6785        10000-15000    20000-40000     0-5        15.0-17.5   \n",
       "10878        5000-10000    20000-40000   20-25        10.0-12.5   \n",
       "\n",
       "       emp_length_int  \n",
       "19219               0  \n",
       "23144               0  \n",
       "7238                0  \n",
       "18926               0  \n",
       "13884               0  \n",
       "24050               0  \n",
       "6631                0  \n",
       "24052               0  \n",
       "32665               0  \n",
       "3461                0  \n",
       "7780                0  \n",
       "22478               0  \n",
       "14688               0  \n",
       "22509               0  \n",
       "22401               0  \n",
       "5203                0  \n",
       "23915               0  \n",
       "5009                0  \n",
       "6785                0  \n",
       "10878               0  "
      ]
     },
     "execution_count": 111,
     "metadata": {},
     "output_type": "execute_result"
    }
   ],
   "source": [
    "loandata.head(20)"
   ]
  },
  {
   "cell_type": "code",
   "execution_count": 112,
   "id": "critical-peoples",
   "metadata": {},
   "outputs": [
    {
     "data": {
      "text/plain": [
       "array([nan, '1 year', '< 1 year', '2 years', '3 years', '4 years',\n",
       "       '5 years', '6 years', '7 years', '8 years', '9 years', '10+ years'],\n",
       "      dtype=object)"
      ]
     },
     "execution_count": 112,
     "metadata": {},
     "output_type": "execute_result"
    }
   ],
   "source": [
    "loandata['emp_length'].unique()"
   ]
  },
  {
   "cell_type": "code",
   "execution_count": 110,
   "id": "baking-might",
   "metadata": {},
   "outputs": [
    {
     "ename": "ValueError",
     "evalue": "Could not interpret value `emp_length` for parameter `x`",
     "output_type": "error",
     "traceback": [
      "\u001b[1;31m---------------------------------------------------------------------------\u001b[0m",
      "\u001b[1;31mValueError\u001b[0m                                Traceback (most recent call last)",
      "\u001b[1;32m<ipython-input-110-e9e88c85ec17>\u001b[0m in \u001b[0;36m<module>\u001b[1;34m\u001b[0m\n\u001b[1;32m----> 1\u001b[1;33m \u001b[0msns\u001b[0m\u001b[1;33m.\u001b[0m\u001b[0mhistplot\u001b[0m\u001b[1;33m(\u001b[0m\u001b[0mdata\u001b[0m\u001b[1;33m=\u001b[0m\u001b[0mloandata\u001b[0m\u001b[1;33m[\u001b[0m\u001b[1;34m'emp_length'\u001b[0m\u001b[1;33m]\u001b[0m\u001b[1;33m.\u001b[0m\u001b[0mdropna\u001b[0m\u001b[1;33m(\u001b[0m\u001b[1;33m)\u001b[0m\u001b[1;33m,\u001b[0m \u001b[0mx\u001b[0m\u001b[1;33m=\u001b[0m\u001b[1;34m\"emp_length\"\u001b[0m\u001b[1;33m,\u001b[0m \u001b[0mkde\u001b[0m\u001b[1;33m=\u001b[0m\u001b[1;32mTrue\u001b[0m\u001b[1;33m,\u001b[0m\u001b[0mhue\u001b[0m\u001b[1;33m=\u001b[0m\u001b[1;34m'loan_status'\u001b[0m\u001b[1;33m)\u001b[0m\u001b[1;33m\u001b[0m\u001b[1;33m\u001b[0m\u001b[0m\n\u001b[0m",
      "\u001b[1;32m~\\Anaconda3\\lib\\site-packages\\seaborn\\distributions.py\u001b[0m in \u001b[0;36mhistplot\u001b[1;34m(data, x, y, hue, weights, stat, bins, binwidth, binrange, discrete, cumulative, common_bins, common_norm, multiple, element, fill, shrink, kde, kde_kws, line_kws, thresh, pthresh, pmax, cbar, cbar_ax, cbar_kws, palette, hue_order, hue_norm, color, log_scale, legend, ax, **kwargs)\u001b[0m\n\u001b[0;32m   1391\u001b[0m     p = _DistributionPlotter(\n\u001b[0;32m   1392\u001b[0m         \u001b[0mdata\u001b[0m\u001b[1;33m=\u001b[0m\u001b[0mdata\u001b[0m\u001b[1;33m,\u001b[0m\u001b[1;33m\u001b[0m\u001b[1;33m\u001b[0m\u001b[0m\n\u001b[1;32m-> 1393\u001b[1;33m         \u001b[0mvariables\u001b[0m\u001b[1;33m=\u001b[0m\u001b[0m_DistributionPlotter\u001b[0m\u001b[1;33m.\u001b[0m\u001b[0mget_semantics\u001b[0m\u001b[1;33m(\u001b[0m\u001b[0mlocals\u001b[0m\u001b[1;33m(\u001b[0m\u001b[1;33m)\u001b[0m\u001b[1;33m)\u001b[0m\u001b[1;33m\u001b[0m\u001b[1;33m\u001b[0m\u001b[0m\n\u001b[0m\u001b[0;32m   1394\u001b[0m     )\n\u001b[0;32m   1395\u001b[0m \u001b[1;33m\u001b[0m\u001b[0m\n",
      "\u001b[1;32m~\\Anaconda3\\lib\\site-packages\\seaborn\\distributions.py\u001b[0m in \u001b[0;36m__init__\u001b[1;34m(self, data, variables)\u001b[0m\n\u001b[0;32m    107\u001b[0m     ):\n\u001b[0;32m    108\u001b[0m \u001b[1;33m\u001b[0m\u001b[0m\n\u001b[1;32m--> 109\u001b[1;33m         \u001b[0msuper\u001b[0m\u001b[1;33m(\u001b[0m\u001b[1;33m)\u001b[0m\u001b[1;33m.\u001b[0m\u001b[0m__init__\u001b[0m\u001b[1;33m(\u001b[0m\u001b[0mdata\u001b[0m\u001b[1;33m=\u001b[0m\u001b[0mdata\u001b[0m\u001b[1;33m,\u001b[0m \u001b[0mvariables\u001b[0m\u001b[1;33m=\u001b[0m\u001b[0mvariables\u001b[0m\u001b[1;33m)\u001b[0m\u001b[1;33m\u001b[0m\u001b[1;33m\u001b[0m\u001b[0m\n\u001b[0m\u001b[0;32m    110\u001b[0m \u001b[1;33m\u001b[0m\u001b[0m\n\u001b[0;32m    111\u001b[0m     \u001b[1;33m@\u001b[0m\u001b[0mproperty\u001b[0m\u001b[1;33m\u001b[0m\u001b[1;33m\u001b[0m\u001b[0m\n",
      "\u001b[1;32m~\\Anaconda3\\lib\\site-packages\\seaborn\\_core.py\u001b[0m in \u001b[0;36m__init__\u001b[1;34m(self, data, variables)\u001b[0m\n\u001b[0;32m    602\u001b[0m     \u001b[1;32mdef\u001b[0m \u001b[0m__init__\u001b[0m\u001b[1;33m(\u001b[0m\u001b[0mself\u001b[0m\u001b[1;33m,\u001b[0m \u001b[0mdata\u001b[0m\u001b[1;33m=\u001b[0m\u001b[1;32mNone\u001b[0m\u001b[1;33m,\u001b[0m \u001b[0mvariables\u001b[0m\u001b[1;33m=\u001b[0m\u001b[1;33m{\u001b[0m\u001b[1;33m}\u001b[0m\u001b[1;33m)\u001b[0m\u001b[1;33m:\u001b[0m\u001b[1;33m\u001b[0m\u001b[1;33m\u001b[0m\u001b[0m\n\u001b[0;32m    603\u001b[0m \u001b[1;33m\u001b[0m\u001b[0m\n\u001b[1;32m--> 604\u001b[1;33m         \u001b[0mself\u001b[0m\u001b[1;33m.\u001b[0m\u001b[0massign_variables\u001b[0m\u001b[1;33m(\u001b[0m\u001b[0mdata\u001b[0m\u001b[1;33m,\u001b[0m \u001b[0mvariables\u001b[0m\u001b[1;33m)\u001b[0m\u001b[1;33m\u001b[0m\u001b[1;33m\u001b[0m\u001b[0m\n\u001b[0m\u001b[0;32m    605\u001b[0m \u001b[1;33m\u001b[0m\u001b[0m\n\u001b[0;32m    606\u001b[0m         \u001b[1;32mfor\u001b[0m \u001b[0mvar\u001b[0m\u001b[1;33m,\u001b[0m \u001b[0mcls\u001b[0m \u001b[1;32min\u001b[0m \u001b[0mself\u001b[0m\u001b[1;33m.\u001b[0m\u001b[0m_semantic_mappings\u001b[0m\u001b[1;33m.\u001b[0m\u001b[0mitems\u001b[0m\u001b[1;33m(\u001b[0m\u001b[1;33m)\u001b[0m\u001b[1;33m:\u001b[0m\u001b[1;33m\u001b[0m\u001b[1;33m\u001b[0m\u001b[0m\n",
      "\u001b[1;32m~\\Anaconda3\\lib\\site-packages\\seaborn\\_core.py\u001b[0m in \u001b[0;36massign_variables\u001b[1;34m(self, data, variables)\u001b[0m\n\u001b[0;32m    666\u001b[0m             \u001b[0mself\u001b[0m\u001b[1;33m.\u001b[0m\u001b[0minput_format\u001b[0m \u001b[1;33m=\u001b[0m \u001b[1;34m\"long\"\u001b[0m\u001b[1;33m\u001b[0m\u001b[1;33m\u001b[0m\u001b[0m\n\u001b[0;32m    667\u001b[0m             plot_data, variables = self._assign_variables_longform(\n\u001b[1;32m--> 668\u001b[1;33m                 \u001b[0mdata\u001b[0m\u001b[1;33m,\u001b[0m \u001b[1;33m**\u001b[0m\u001b[0mvariables\u001b[0m\u001b[1;33m,\u001b[0m\u001b[1;33m\u001b[0m\u001b[1;33m\u001b[0m\u001b[0m\n\u001b[0m\u001b[0;32m    669\u001b[0m             )\n\u001b[0;32m    670\u001b[0m \u001b[1;33m\u001b[0m\u001b[0m\n",
      "\u001b[1;32m~\\Anaconda3\\lib\\site-packages\\seaborn\\_core.py\u001b[0m in \u001b[0;36m_assign_variables_longform\u001b[1;34m(self, data, **kwargs)\u001b[0m\n\u001b[0;32m    900\u001b[0m \u001b[1;33m\u001b[0m\u001b[0m\n\u001b[0;32m    901\u001b[0m                 \u001b[0merr\u001b[0m \u001b[1;33m=\u001b[0m \u001b[1;34mf\"Could not interpret value `{val}` for parameter `{key}`\"\u001b[0m\u001b[1;33m\u001b[0m\u001b[1;33m\u001b[0m\u001b[0m\n\u001b[1;32m--> 902\u001b[1;33m                 \u001b[1;32mraise\u001b[0m \u001b[0mValueError\u001b[0m\u001b[1;33m(\u001b[0m\u001b[0merr\u001b[0m\u001b[1;33m)\u001b[0m\u001b[1;33m\u001b[0m\u001b[1;33m\u001b[0m\u001b[0m\n\u001b[0m\u001b[0;32m    903\u001b[0m \u001b[1;33m\u001b[0m\u001b[0m\n\u001b[0;32m    904\u001b[0m             \u001b[1;32melse\u001b[0m\u001b[1;33m:\u001b[0m\u001b[1;33m\u001b[0m\u001b[1;33m\u001b[0m\u001b[0m\n",
      "\u001b[1;31mValueError\u001b[0m: Could not interpret value `emp_length` for parameter `x`"
     ]
    }
   ],
   "source": [
    "sns.histplot(data=loandata, x=\"emp_length\", kde=True,hue='loan_status')"
   ]
  },
  {
   "cell_type": "code",
   "execution_count": 108,
   "id": "placed-constraint",
   "metadata": {},
   "outputs": [
    {
     "data": {
      "text/plain": [
       "array([ 0,  1,  2,  3,  4,  5,  6,  7,  8,  9, 10], dtype=int64)"
      ]
     },
     "execution_count": 108,
     "metadata": {},
     "output_type": "execute_result"
    }
   ],
   "source": [
    "loandata['emp_length_int'].unique()"
   ]
  },
  {
   "cell_type": "code",
   "execution_count": 106,
   "id": "advance-class",
   "metadata": {},
   "outputs": [
    {
     "data": {
      "text/plain": [
       "<AxesSubplot:xlabel='emp_length_int', ylabel='Count'>"
      ]
     },
     "execution_count": 106,
     "metadata": {},
     "output_type": "execute_result"
    },
    {
     "data": {
      "image/png": "[encoded data removed]",
      "text/plain": [
       "<Figure size 792x576 with 1 Axes>"
      ]
     },
     "metadata": {},
     "output_type": "display_data"
    }
   ],
   "source": [
    "sns.histplot(data=loandata, x=\"emp_length_int\", kde=True,hue='loan_status')"
   ]
  },
  {
   "cell_type": "markdown",
   "id": "2b15be85",
   "metadata": {},
   "source": [
    "### We clearly see that large amount of loan has been disbursed for employee having more that 10 years of experience."
   ]
  },
  {
   "cell_type": "code",
   "execution_count": null,
   "id": "c1d6028c",
   "metadata": {
    "scrolled": false
   },
   "outputs": [],
   "source": [
    "employee_los=loandata.groupby(['emp_length','loan_status'])['emp_length'].count().rename('cnt_emp_length_stat')\n",
    "employee_los=employee_los.reset_index(level=['emp_length','loan_status'])\n",
    "\n",
    "employee_los1=loandata.groupby(['emp_length'])['emp_length'].count().rename('cnt_emp_length')\n",
    "employee_los1=employee_los1.reset_index(level=['emp_length'])\n",
    "employee_los1=pd.DataFrame(employee_los1)\n",
    "employee_los1.columns\n",
    "\n",
    "employee_los2=pd.merge(employee_los,employee_los1,on='emp_length')\n",
    "employee_los2['percentage']=(employee_los2['cnt_emp_length_stat']*100)/employee_los2['cnt_emp_length']\n",
    "employee_los2['emp_length_int']=employee_los2['emp_length'].apply(lambda x: (x.replace('years','').replace('<','').replace('+','').replace('year','')).strip() if x is not np.nan else 0)\n",
    "employee_los2=employee_los2.sort_values('emp_length_int')\n",
    "employee_los2"
   ]
  },
  {
   "cell_type": "markdown",
   "id": "02046d15",
   "metadata": {},
   "source": [
    "### In terms of percentage of in different employee length categories we see the fully paid borrwers % varies between 84 to 87 % and charged of borrowers lies between 13 to 16%. Its more of same for all. Very little difference. Employee length does not have much impact on loan Status"
   ]
  },
  {
   "cell_type": "code",
   "execution_count": null,
   "id": "15432f7a",
   "metadata": {
    "scrolled": false
   },
   "outputs": [],
   "source": [
    "sns.lineplot(data=employee_los2,x='emp_length',y='percentage',hue='loan_status')"
   ]
  },
  {
   "cell_type": "markdown",
   "id": "7be1c76c",
   "metadata": {},
   "source": [
    "## Grade vs loan_status"
   ]
  },
  {
   "cell_type": "code",
   "execution_count": null,
   "id": "89273cfc",
   "metadata": {
    "scrolled": false
   },
   "outputs": [],
   "source": [
    "sns.histplot(data=loandata, x=\"grade\", kde=True,hue='loan_status')"
   ]
  },
  {
   "cell_type": "markdown",
   "id": "f64da4b6",
   "metadata": {},
   "source": [
    "### We can observer that B grade users have taken maximum number of loans."
   ]
  },
  {
   "cell_type": "code",
   "execution_count": null,
   "id": "372d6654",
   "metadata": {},
   "outputs": [],
   "source": [
    "grades1=loandata.groupby(['grade','loan_status'])['grade'].count().rename('cnt_grade_stat')\n",
    "grades1=grades1.reset_index(level=['grade','loan_status'])\n",
    "\n",
    "grades2=loandata.groupby(['grade'])['grade'].count().rename('cnt_grade')\n",
    "grades2=grades2.reset_index(level=['grade'])\n",
    "grades2=pd.DataFrame(grades2)\n",
    "grades2.columns\n",
    "\n",
    "grades=pd.merge(grades1,grades2,on='grade')\n",
    "grades['percentage']=(grades['cnt_grade_stat']*100)/grades['cnt_grade']\n",
    "\n",
    "grades"
   ]
  },
  {
   "cell_type": "markdown",
   "id": "cfe8dc75",
   "metadata": {},
   "source": [
    "In terms of percentage of in different grade of borrowers, we see that borrowers with good grade are more like to fully pay the loan. With each grade you can see 4%-5% drop in percentage of people paying the whole loan and 4%-5% increase in people will not pay the loan.\n",
    "\n",
    "GRADE is key factor while approving loan to borrowers\n"
   ]
  },
  {
   "cell_type": "code",
   "execution_count": null,
   "id": "a2f9b17c",
   "metadata": {
    "scrolled": false
   },
   "outputs": [],
   "source": [
    "sns.lineplot(data=grades,x='grade',y='percentage',hue='loan_status')"
   ]
  },
  {
   "cell_type": "markdown",
   "id": "06e53681",
   "metadata": {},
   "source": [
    "## Sub Grade vs loan_status"
   ]
  },
  {
   "cell_type": "code",
   "execution_count": null,
   "id": "5eeffe93",
   "metadata": {
    "scrolled": false
   },
   "outputs": [],
   "source": [
    "subgrade1=loandata.groupby(['sub_grade','loan_status'])['sub_grade'].count().rename('cnt_sub_grade_stat')\n",
    "subgrade1=subgrade1.reset_index(level=['sub_grade','loan_status'])\n",
    "\n",
    "subgrade2=loandata.groupby(['sub_grade'])['sub_grade'].count().rename('cnt_sub_grade')\n",
    "subgrade2=subgrade2.reset_index(level=['sub_grade'])\n",
    "subgrade2=pd.DataFrame(subgrade2)\n",
    "subgrade2.columns\n",
    "\n",
    "subgrade=pd.merge(subgrade1,subgrade2,on='sub_grade')\n",
    "subgrade['percentage']=(subgrade['cnt_sub_grade_stat']*100)/subgrade['cnt_sub_grade']\n",
    "\n",
    "subgrade"
   ]
  },
  {
   "cell_type": "code",
   "execution_count": null,
   "id": "44cf4ca2",
   "metadata": {
    "scrolled": false
   },
   "outputs": [],
   "source": [
    "sns.lineplot(data=subgrade,x='sub_grade',y='percentage',hue='loan_status')"
   ]
  },
  {
   "cell_type": "markdown",
   "id": "5ebd7a98",
   "metadata": {},
   "source": [
    "Here we can see that while analysing the grades we got straight line but within grade G we are getting some unexpected result. Till F grade we can use the grade column and G grade we can deep dive into subgrades."
   ]
  },
  {
   "cell_type": "code",
   "execution_count": null,
   "id": "cb7af8be",
   "metadata": {},
   "outputs": [],
   "source": [
    "subgrade[subgrade['sub_grade'].str.contains('G')]"
   ]
  },
  {
   "cell_type": "markdown",
   "id": "004e1361",
   "metadata": {},
   "source": [
    "### So within G grade, we can see the subgrade G4 has good % of getting the loan paid fully and G3 has least chance."
   ]
  },
  {
   "cell_type": "code",
   "execution_count": null,
   "id": "7b8175a9",
   "metadata": {
    "scrolled": true
   },
   "outputs": [],
   "source": [
    "purpose1=loandata.groupby(['purpose','loan_status'])['purpose'].count().rename('cnt_purpose_stat')\n",
    "purpose1=purpose1.reset_index(level=['purpose','loan_status'])\n",
    "\n",
    "purpose2=loandata.groupby(['purpose'])['purpose'].count().rename('cnt_purpose')\n",
    "purpose2=purpose2.reset_index(level=['purpose'])\n",
    "purpose2=pd.DataFrame(purpose2)\n",
    "purpose2.columns\n",
    "\n",
    "purpose=pd.merge(purpose1,purpose2,on='purpose')\n",
    "purpose['percentage']=(purpose['cnt_purpose_stat']*100)/purpose['cnt_purpose']\n",
    "\n",
    "purpose=purpose.sort_values('percentage')\n",
    "purpose"
   ]
  },
  {
   "cell_type": "code",
   "execution_count": null,
   "id": "f4143b74",
   "metadata": {},
   "outputs": [],
   "source": [
    "sns.barplot(data=purpose,y='purpose',x='percentage',hue='loan_status')"
   ]
  },
  {
   "cell_type": "markdown",
   "id": "380f8aa7",
   "metadata": {},
   "source": [
    "### We can see from the plot that loan for the purpose of wedding is more likely to be fully paid and least charged off. Loan for the purpose of small_businesses are more likely to default. The borrower mentioning purpose wedding,major_purchase, credit_card or car  have almost same chances of getting it fully paid."
   ]
  },
  {
   "cell_type": "code",
   "execution_count": null,
   "id": "f635b59a",
   "metadata": {},
   "outputs": [],
   "source": [
    "sns.histplot(data=loandata, x=\"home_ownership\", kde=True,hue='loan_status')"
   ]
  },
  {
   "cell_type": "markdown",
   "id": "a7cc195f",
   "metadata": {},
   "source": [
    "### Rented people are taking more loan"
   ]
  },
  {
   "cell_type": "code",
   "execution_count": null,
   "id": "aa1890f4",
   "metadata": {},
   "outputs": [],
   "source": [
    "home_own1=loandata.groupby(['home_ownership','loan_status'])['home_ownership'].count().rename('cnt_home_ownership_stat')\n",
    "home_own1=home_own1.reset_index(level=['home_ownership','loan_status'])\n",
    "\n",
    "home_own2=loandata.groupby(['home_ownership'])['home_ownership'].count().rename('cnt_home_ownership')\n",
    "home_own2=home_own2.reset_index(level=['home_ownership'])\n",
    "home_own2=pd.DataFrame(home_own2)\n",
    "home_own2.columns\n",
    "\n",
    "home_own=pd.merge(home_own1,home_own2,on='home_ownership')\n",
    "home_own['percentage']=(home_own['cnt_home_ownership_stat']*100)/home_own['cnt_home_ownership']\n",
    "\n",
    "home_own=home_own.sort_values('percentage')\n",
    "home_own"
   ]
  },
  {
   "cell_type": "code",
   "execution_count": null,
   "id": "934372fd",
   "metadata": {},
   "outputs": [],
   "source": [
    "sns.lineplot(data=home_own,x='home_ownership',y='percentage',hue='loan_status')"
   ]
  },
  {
   "cell_type": "markdown",
   "id": "46790398",
   "metadata": {},
   "source": [
    "## If we ignore the None , category then we can see that borrower with mortgage has slightly more chance to pay the loan successfully while other category has less chances of getting it paid."
   ]
  },
  {
   "cell_type": "code",
   "execution_count": null,
   "id": "d5ac4348",
   "metadata": {},
   "outputs": [],
   "source": [
    "sns.histplot(data=loandata, x=\"pub_rec_bankruptcies\", kde=True,hue='loan_status')"
   ]
  },
  {
   "cell_type": "markdown",
   "id": "595ad6c9",
   "metadata": {},
   "source": [
    "### Here we can observer that people with 0 public recorded bankruptcies are more likely to pay the full loan. Those are the people taking more loans"
   ]
  },
  {
   "cell_type": "code",
   "execution_count": null,
   "id": "7436c523",
   "metadata": {},
   "outputs": [],
   "source": [
    "sns.histplot(data=loandata, x=\"verification_status\", kde=True,hue='loan_status')"
   ]
  },
  {
   "cell_type": "code",
   "execution_count": null,
   "id": "4d044268",
   "metadata": {},
   "outputs": [],
   "source": [
    "verify1=loandata.groupby(['verification_status','loan_status'])['verification_status'].count().rename('cnt_verification_status_stat')\n",
    "verify1=verify1.reset_index(level=['verification_status','loan_status'])\n",
    "\n",
    "verify2=loandata.groupby(['verification_status'])['verification_status'].count().rename('cnt_verification_status')\n",
    "verify2=verify2.reset_index(level=['verification_status'])\n",
    "verify2=pd.DataFrame(verify2)\n",
    "verify2.columns\n",
    "\n",
    "verify=pd.merge(verify1,verify2,on='verification_status')\n",
    "verify['percentage']=(verify['cnt_verification_status_stat']*100)/verify['cnt_verification_status']\n",
    "\n",
    "verify=verify.sort_values('percentage')\n",
    "verify"
   ]
  },
  {
   "cell_type": "code",
   "execution_count": null,
   "id": "ccded332",
   "metadata": {},
   "outputs": [],
   "source": [
    "sns.lineplot(data=verify,x='verification_status',y='percentage',hue='loan_status')"
   ]
  },
  {
   "cell_type": "markdown",
   "id": "cc6e2601",
   "metadata": {},
   "source": [
    "### There is 2% more confidence on borrower who are not verified that they can pay the full loan as compared to source verified. "
   ]
  },
  {
   "cell_type": "code",
   "execution_count": null,
   "id": "a13d34eb",
   "metadata": {
    "scrolled": false
   },
   "outputs": [],
   "source": [
    "sns.histplot(data=loandata, x=\"addr_state\", kde=True,hue='loan_status')"
   ]
  },
  {
   "cell_type": "markdown",
   "id": "1685d4bf",
   "metadata": {},
   "source": [
    "### CA state has maximum number of borrowers. NY comes second"
   ]
  },
  {
   "cell_type": "code",
   "execution_count": null,
   "id": "0e9b8eef",
   "metadata": {},
   "outputs": [],
   "source": [
    "address1=loandata.groupby(['addr_state','loan_status'])['addr_state'].count().rename('cnt_addr_state_stat')\n",
    "address1=address1.reset_index(level=['addr_state','loan_status'])\n",
    "\n",
    "address2=loandata.groupby(['addr_state'])['addr_state'].count().rename('cnt_addr_state')\n",
    "address2=address2.reset_index(level=['addr_state'])\n",
    "address2=pd.DataFrame(address2)\n",
    "address2.columns\n",
    "\n",
    "address=pd.merge(address1,address2,on='addr_state')\n",
    "address['percentage']=(address['cnt_addr_state_stat']*100)/address['cnt_addr_state']\n",
    "\n",
    "address=address.sort_values('percentage')\n",
    "address"
   ]
  },
  {
   "cell_type": "code",
   "execution_count": null,
   "id": "4682768f",
   "metadata": {},
   "outputs": [],
   "source": [
    "sns.lineplot(data=address,x='addr_state',y='percentage',hue='loan_status')"
   ]
  },
  {
   "cell_type": "markdown",
   "id": "70e30175",
   "metadata": {},
   "source": [
    "### The loans in state IN, IA and ME are fully paid. there are no defaulters in that state. But the number of loans taken in these states are very less."
   ]
  },
  {
   "cell_type": "markdown",
   "id": "8073bcf9",
   "metadata": {},
   "source": [
    "### If we plot the number of states have more than 90% of loan which was fully paid by borrowers. We can get below visualisation and see that only DC, WY, IN, IA and ME qualifies into that criteria\n"
   ]
  },
  {
   "cell_type": "code",
   "execution_count": null,
   "id": "1f046ce8",
   "metadata": {},
   "outputs": [],
   "source": [
    "sns.lineplot(data=address[address['percentage']>90],x='addr_state',y='percentage',hue='loan_status')"
   ]
  },
  {
   "cell_type": "markdown",
   "id": "675f4f0a",
   "metadata": {},
   "source": [
    "### If I plot the number of states have more than 19% of loan which was charged off by borrowers. We can get below visualisation and see that only AK, SD,ID,NV and NE qualifies into that creteria¶"
   ]
  },
  {
   "cell_type": "code",
   "execution_count": null,
   "id": "9a6ae696",
   "metadata": {},
   "outputs": [],
   "source": [
    "sns.lineplot(data=address[(address['percentage']>19) & (address['loan_status']=='Charged Off')],x='addr_state',y='percentage',hue='loan_status')"
   ]
  },
  {
   "cell_type": "markdown",
   "id": "11e987aa",
   "metadata": {},
   "source": [
    "# Bivariate Analysis without loan Status"
   ]
  },
  {
   "cell_type": "markdown",
   "id": "2f04e0fa",
   "metadata": {},
   "source": [
    "#### loan amount vs installment"
   ]
  },
  {
   "cell_type": "code",
   "execution_count": null,
   "id": "ea6acec8",
   "metadata": {},
   "outputs": [],
   "source": [
    "sns.lineplot(data=loandata, x='loan_amt_category', y='installment')"
   ]
  },
  {
   "cell_type": "markdown",
   "id": "5c3877ea",
   "metadata": {},
   "source": [
    "### We can observer that as the loan amount increases the installment increases  only exception as 10000-15000"
   ]
  },
  {
   "cell_type": "markdown",
   "id": "b345fa6e",
   "metadata": {},
   "source": [
    "### Loan amount vs interest rate"
   ]
  },
  {
   "cell_type": "code",
   "execution_count": null,
   "id": "536ca120",
   "metadata": {
    "scrolled": true
   },
   "outputs": [],
   "source": [
    "sns.lineplot(data=loandata, x='loan_amt_category', y='int_rate_flt')"
   ]
  },
  {
   "cell_type": "markdown",
   "id": "7e46a4dd",
   "metadata": {},
   "source": [
    "### Large amount loans are dispursed at higher interest rate only exception at 10000-15000"
   ]
  },
  {
   "cell_type": "markdown",
   "id": "93d2a289",
   "metadata": {},
   "source": [
    "### loan amount vs funded amount invested"
   ]
  },
  {
   "cell_type": "code",
   "execution_count": null,
   "id": "95f9d062",
   "metadata": {
    "scrolled": true
   },
   "outputs": [],
   "source": [
    "sns.lineplot(data=loandata, x='funded_amnt_inv', y='loan_amnt')"
   ]
  },
  {
   "cell_type": "markdown",
   "id": "825c55e8",
   "metadata": {},
   "source": [
    "Both are directly proportional to each other."
   ]
  },
  {
   "cell_type": "markdown",
   "id": "acedf655",
   "metadata": {},
   "source": [
    "#### laon amount vs issue Year"
   ]
  },
  {
   "cell_type": "code",
   "execution_count": null,
   "id": "e8e61021",
   "metadata": {},
   "outputs": [],
   "source": [
    "sns.boxplot(data=loandata, y='loan_amnt', x='issue_year')"
   ]
  },
  {
   "cell_type": "markdown",
   "id": "0b8dafdd",
   "metadata": {},
   "source": [
    "Year by year the amount of loan increases. But the 75th percentile for 2008 is lowest among all."
   ]
  },
  {
   "cell_type": "markdown",
   "id": "b226c999",
   "metadata": {},
   "source": [
    "#### loan amount vs purpose"
   ]
  },
  {
   "cell_type": "code",
   "execution_count": null,
   "id": "1d480e92",
   "metadata": {},
   "outputs": [],
   "source": [
    "sns.boxplot(data=loandata, x='loan_amnt', y='purpose')"
   ]
  },
  {
   "cell_type": "markdown",
   "id": "28a0609d",
   "metadata": {},
   "source": [
    "Median,95th percentile,75th percentile of loan amount is highest for loan taken for small business purpose among all purposes.\n",
    "Debt consolidation is second and Credit card comes 3rd."
   ]
  },
  {
   "cell_type": "markdown",
   "id": "46041036",
   "metadata": {},
   "source": [
    "#### loan amount vs term"
   ]
  },
  {
   "cell_type": "code",
   "execution_count": null,
   "id": "b7ca2980",
   "metadata": {},
   "outputs": [],
   "source": [
    "sns.boxplot(data=loandata, x='loan_amnt', y='term')"
   ]
  },
  {
   "cell_type": "markdown",
   "id": "f9ec7af9",
   "metadata": {},
   "source": [
    "loans with bigger amounts has been given for long term"
   ]
  },
  {
   "cell_type": "markdown",
   "id": "ee4071d9",
   "metadata": {},
   "source": [
    "#### loan amount vs grade"
   ]
  },
  {
   "cell_type": "code",
   "execution_count": null,
   "id": "0ecc018c",
   "metadata": {},
   "outputs": [],
   "source": [
    "sns.boxplot(data=loandata, x='loan_amnt', y='grade')"
   ]
  },
  {
   "cell_type": "markdown",
   "id": "7c78b0c4",
   "metadata": {},
   "source": [
    "Grade G has highest average of loan amount. A Grade borrower has the lowest."
   ]
  },
  {
   "cell_type": "code",
   "execution_count": null,
   "id": "ebb43807",
   "metadata": {
    "scrolled": true
   },
   "outputs": [],
   "source": [
    "sns.boxplot(data=loandata, x='int_rate_flt', y='term')"
   ]
  },
  {
   "cell_type": "markdown",
   "id": "8e1486f4",
   "metadata": {},
   "source": [
    "average Interest rate is lower for 36 months tenure. Long tenure loans are having higer interest rates"
   ]
  },
  {
   "cell_type": "code",
   "execution_count": null,
   "id": "b79c3fa3",
   "metadata": {},
   "outputs": [],
   "source": [
    "sns.boxplot(data=loandata, x='int_rate_flt', y='purpose')"
   ]
  },
  {
   "cell_type": "markdown",
   "id": "ee2e7c7a",
   "metadata": {},
   "source": [
    "loan taken for small business has higher interest rates. debt consolidation is the second. The loan amount we have seen previosly for credit_card is 3rd one but here if we see the  average interest rate of credit card loan is lower thatn wedding, house and education."
   ]
  },
  {
   "cell_type": "code",
   "execution_count": null,
   "id": "b6c44053",
   "metadata": {},
   "outputs": [],
   "source": [
    "sns.boxplot(data=loandata, y='int_rate_flt', x='grade')"
   ]
  },
  {
   "cell_type": "markdown",
   "id": "691087ed",
   "metadata": {},
   "source": [
    "Grade G borrowers are paying hihgest interest rate as compared to others."
   ]
  },
  {
   "cell_type": "code",
   "execution_count": null,
   "id": "0a582e47",
   "metadata": {},
   "outputs": [],
   "source": [
    "sns.boxplot(data=loandata, y='int_rate_flt', x='issue_year')"
   ]
  },
  {
   "cell_type": "markdown",
   "id": "c919abd0",
   "metadata": {},
   "source": [
    "The average interest rate has been maximum in 2009 and after 2009 it has decreased."
   ]
  },
  {
   "cell_type": "code",
   "execution_count": null,
   "id": "8e3ec60d",
   "metadata": {},
   "outputs": [],
   "source": [
    "sns.boxplot(data=loandata, y='int_rate_flt', x='dti_cat')"
   ]
  },
  {
   "cell_type": "markdown",
   "id": "e4e031de",
   "metadata": {},
   "source": [
    "The interest rate increases on loans as the debt to income ratio increases except in case of DTI ration 25-30."
   ]
  },
  {
   "cell_type": "code",
   "execution_count": null,
   "id": "7a2c513e",
   "metadata": {},
   "outputs": [],
   "source": [
    "sns.boxplot(data=loandata, y='annual_inc', x='int_rate_flt_cat')"
   ]
  },
  {
   "cell_type": "markdown",
   "id": "857bfd8e",
   "metadata": {},
   "source": [
    "Higher interest rates on loan are paid by higher annual income borrowers"
   ]
  },
  {
   "cell_type": "code",
   "execution_count": null,
   "id": "marked-chase",
   "metadata": {},
   "outputs": [],
   "source": []
  },
  {
   "cell_type": "code",
   "execution_count": null,
   "id": "wrong-license",
   "metadata": {},
   "outputs": [],
   "source": []
  }
 ],
 "metadata": {
  "kernelspec": {
   "display_name": "Python 3",
   "language": "python",
   "name": "python3"
  },
  "language_info": {
   "codemirror_mode": {
    "name": "ipython",
    "version": 3
   },
   "file_extension": ".py",
   "mimetype": "text/x-python",
   "name": "python",
   "nbconvert_exporter": "python",
   "pygments_lexer": "ipython3",
   "version": "3.7.4"
  }
 },
 "nbformat": 4,
 "nbformat_minor": 5
}
